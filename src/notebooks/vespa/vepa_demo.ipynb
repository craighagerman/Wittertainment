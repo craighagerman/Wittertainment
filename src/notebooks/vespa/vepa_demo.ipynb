{
 "cells": [
  {
   "cell_type": "markdown",
   "metadata": {},
   "source": [
    "# Vespa Demo\n",
    "\n",
    "\n",
    "see:\n",
    "- [Vespa Quick start](https://docs.vespa.ai/en/vespa-quick-start.html)\n",
    "- [Getting Started](https://docs.vespa.ai/en/getting-started.html)\n",
    "- [PyVespa](https://pyvespa.readthedocs.io/en/latest/getting-started-pyvespa.html)\n",
    "\n",
    "Note\n",
    "- this demo is going to populate Vespa with MSMarco data contained in `sample_docs.csv`. \n",
    "- Download from: [sample_docs.csv](https://data.vespa.oath.cloud/blog/msmarco/sample_docs.csv)\n",
    "- `sample_docs` is a CSV file with columns: (id,title,body)"
   ]
  },
  {
   "cell_type": "code",
   "execution_count": 23,
   "metadata": {},
   "outputs": [],
   "source": [
    "from dotenv import find_dotenv\n",
    "# NOTE: empty `.env` file was added beneath `src` directory. Ignored by gitignore rules.\n",
    "\n",
    "import os\n",
    "import sys\n",
    "sys.path.append(os.path.dirname(find_dotenv()))\n",
    "\n",
    "from notebooks.notebook_utils import DevData"
   ]
  },
  {
   "cell_type": "code",
   "execution_count": 25,
   "metadata": {},
   "outputs": [],
   "source": [
    "import os\n",
    "import pandas as pd\n",
    "\n",
    "# vespa imports used below\n",
    "from vespa.package import ApplicationPackage\n",
    "from vespa.package import Field\n",
    "from vespa.package import FieldSet\n",
    "from vespa.package import RankProfile\n",
    "from vespa.deployment import VespaDocker"
   ]
  },
  {
   "cell_type": "code",
   "execution_count": 7,
   "metadata": {},
   "outputs": [],
   "source": [
    "# Create an empty schema\n",
    "app_package = ApplicationPackage(name=\"textsearch\")"
   ]
  },
  {
   "cell_type": "markdown",
   "metadata": {},
   "source": [
    "### Add fields to the schema:\n",
    "(i.e. define the schema)\n",
    "\n",
    "`id` - holds the document ids  \n",
    "`title` and `body` -  text fields of the documents.  \n",
    "\n",
    "Note: \n",
    "- Setting \"index\" in indexing - means that a searchable index for `title` and `body` is created\n",
    "- Setting index = \"enable-bm25\" will pre-compute quantities to make it fast to compute the BM25 score.\n",
    "\n",
    "\n",
    "n.b. Read about BM25 score:\n",
    "- (https://en.wikipedia.org/wiki/Okapi_BM25)\n",
    "- "
   ]
  },
  {
   "cell_type": "code",
   "execution_count": 17,
   "metadata": {},
   "outputs": [],
   "source": [
    "# Add fields to the schema\n",
    "# n.b. these correspond to the columns in the sample_data CSV file\n",
    "app_package.schema.add_fields(\n",
    "    Field(name = \"id\",    type = \"string\", indexing = [\"attribute\", \"summary\"]),\n",
    "    Field(name = \"title\", type = \"string\", indexing = [\"index\", \"summary\"], index = \"enable-bm25\"),\n",
    "    Field(name = \"body\",  type = \"string\", indexing = [\"index\", \"summary\"], index = \"enable-bm25\")\n",
    ")"
   ]
  },
  {
   "cell_type": "markdown",
   "metadata": {},
   "source": [
    "### Search multiple fields"
   ]
  },
  {
   "cell_type": "code",
   "execution_count": 12,
   "metadata": {},
   "outputs": [],
   "source": [
    "# A FieldSet groups fields together for searching - it configures queries to look for matches both in the title and body fields of the documents:\n",
    "app_package.schema.add_field_set(\n",
    "    FieldSet(name = \"default\", fields = [\"title\", \"body\"])\n",
    ")"
   ]
  },
  {
   "cell_type": "markdown",
   "metadata": {},
   "source": [
    "### Define ranking"
   ]
  },
  {
   "cell_type": "code",
   "execution_count": 15,
   "metadata": {},
   "outputs": [],
   "source": [
    "# Specify how to rank the matched documents by defining a RankProfile. Below are different rank profiles that can be selected in the query:\n",
    "app_package.schema.add_rank_profile(\n",
    "    RankProfile(name = \"bm25\", first_phase = \"bm25(title) + bm25(body)\")\n",
    ")\n",
    "app_package.schema.add_rank_profile(\n",
    "    RankProfile(name = \"native_rank\", first_phase = \"nativeRank(title, body)\")\n",
    ")"
   ]
  },
  {
   "cell_type": "markdown",
   "metadata": {},
   "source": [
    "### Deploy\n",
    "\n",
    "\n",
    "The text search app has been defined with \n",
    "- fields\n",
    "- a fieldset to group fields together\n",
    "- rank profiles\n",
    "\n",
    "Thus it is ready to deploy.  \n",
    "Deploy app_package on the local machine using Docker, by creating an instance of VespaDocker:"
   ]
  },
  {
   "cell_type": "code",
   "execution_count": 20,
   "metadata": {},
   "outputs": [
    {
     "name": "stdout",
     "output_type": "stream",
     "text": [
      "Waiting for configuration server, 0/300 seconds...\n",
      "Waiting for configuration server, 5/300 seconds...\n",
      "Waiting for application status, 0/300 seconds...\n",
      "Waiting for application status, 5/300 seconds...\n",
      "Waiting for application status, 10/300 seconds...\n",
      "Waiting for application status, 15/300 seconds...\n",
      "Waiting for application status, 20/300 seconds...\n",
      "Waiting for application status, 25/300 seconds...\n",
      "Waiting for application status, 30/300 seconds...\n",
      "Finished deployment.\n"
     ]
    }
   ],
   "source": [
    "# The following provides the app with a reference to a Vespa (Docker) instance \n",
    "vespa_docker = VespaDocker()\n",
    "app = vespa_docker.deploy(application_package=app_package)\n"
   ]
  },
  {
   "cell_type": "markdown",
   "metadata": {},
   "source": [
    "### Feed\n",
    "\n",
    "Two options here:\n",
    "1. download the sample data directly into a dataframe, or\n",
    "2. download the sample data to a local file and then load\n",
    "\n",
    "URL for option #1:\n"
   ]
  },
  {
   "cell_type": "code",
   "execution_count": 21,
   "metadata": {},
   "outputs": [],
   "source": [
    "# # OPTION 1\n",
    "\n",
    "# docs = read_csv(\n",
    "#     filepath_or_buffer=\"https://data.vespa.oath.cloud/blog/msmarco/sample_docs.csv\"\n",
    "# ).fillna('')\n",
    "# docs.head()"
   ]
  },
  {
   "cell_type": "code",
   "execution_count": 28,
   "metadata": {},
   "outputs": [
    {
     "data": {
      "text/html": [
       "<div>\n",
       "<style scoped>\n",
       "    .dataframe tbody tr th:only-of-type {\n",
       "        vertical-align: middle;\n",
       "    }\n",
       "\n",
       "    .dataframe tbody tr th {\n",
       "        vertical-align: top;\n",
       "    }\n",
       "\n",
       "    .dataframe thead th {\n",
       "        text-align: right;\n",
       "    }\n",
       "</style>\n",
       "<table border=\"1\" class=\"dataframe\">\n",
       "  <thead>\n",
       "    <tr style=\"text-align: right;\">\n",
       "      <th></th>\n",
       "      <th>id</th>\n",
       "      <th>title</th>\n",
       "      <th>body</th>\n",
       "    </tr>\n",
       "  </thead>\n",
       "  <tbody>\n",
       "    <tr>\n",
       "      <th>0</th>\n",
       "      <td>D1712962</td>\n",
       "      <td>Can you eat crab or imitation krab when you ha...</td>\n",
       "      <td>Answers com   Wiki Answers   Categories Health...</td>\n",
       "    </tr>\n",
       "    <tr>\n",
       "      <th>1</th>\n",
       "      <td>D1817294</td>\n",
       "      <td>How long is a tax refund check good</td>\n",
       "      <td>Answers com   Wiki Answers   Categories Busine...</td>\n",
       "    </tr>\n",
       "    <tr>\n",
       "      <th>2</th>\n",
       "      <td>D1761039</td>\n",
       "      <td>The Suffolk Resolves  1774</td>\n",
       "      <td>The Suffolk Resolves  1774 Across New England ...</td>\n",
       "    </tr>\n",
       "    <tr>\n",
       "      <th>3</th>\n",
       "      <td>D2899268</td>\n",
       "      <td>The eagle has flown</td>\n",
       "      <td>Download citation Share Download full text PDF...</td>\n",
       "    </tr>\n",
       "    <tr>\n",
       "      <th>4</th>\n",
       "      <td>D3278481</td>\n",
       "      <td>22b  Cotton and African American Life</td>\n",
       "      <td>22b  Cotton and African American Life Two thi...</td>\n",
       "    </tr>\n",
       "  </tbody>\n",
       "</table>\n",
       "</div>"
      ],
      "text/plain": [
       "         id                                              title  \\\n",
       "0  D1712962  Can you eat crab or imitation krab when you ha...   \n",
       "1  D1817294               How long is a tax refund check good    \n",
       "2  D1761039                        The Suffolk Resolves  1774    \n",
       "3  D2899268                                The eagle has flown   \n",
       "4  D3278481              22b  Cotton and African American Life   \n",
       "\n",
       "                                                body  \n",
       "0  Answers com   Wiki Answers   Categories Health...  \n",
       "1  Answers com   Wiki Answers   Categories Busine...  \n",
       "2  The Suffolk Resolves  1774 Across New England ...  \n",
       "3  Download citation Share Download full text PDF...  \n",
       "4   22b  Cotton and African American Life Two thi...  "
      ]
     },
     "execution_count": 28,
     "metadata": {},
     "output_type": "execute_result"
    }
   ],
   "source": [
    "# OPTION 2\n",
    "\n",
    "path = os.path.join(DevData().data_dir, \"sample_data\", \"vespa\", \"sample_docs.csv\")\n",
    "docs = pd.read_csv(path).fillna(\"\")\n",
    "docs.head(5)"
   ]
  },
  {
   "cell_type": "code",
   "execution_count": 29,
   "metadata": {},
   "outputs": [
    {
     "name": "stdout",
     "output_type": "stream",
     "text": [
      "Successful documents fed: 1000/1000.\n",
      "Batch progress: 1/10.\n",
      "Successful documents fed: 1000/1000.\n",
      "Batch progress: 2/10.\n",
      "Successful documents fed: 1000/1000.\n",
      "Batch progress: 3/10.\n",
      "Successful documents fed: 1000/1000.\n",
      "Batch progress: 4/10.\n",
      "Successful documents fed: 1000/1000.\n",
      "Batch progress: 5/10.\n",
      "Successful documents fed: 1000/1000.\n",
      "Batch progress: 6/10.\n",
      "Successful documents fed: 1000/1000.\n",
      "Batch progress: 7/10.\n",
      "Successful documents fed: 1000/1000.\n",
      "Batch progress: 8/10.\n",
      "Successful documents fed: 1000/1000.\n",
      "Batch progress: 9/10.\n",
      "Successful documents fed: 963/963.\n",
      "Batch progress: 10/10.\n"
     ]
    }
   ],
   "source": [
    "# Feed the documents to the application:\n",
    "feed_res = app.feed_df(docs, asynchronous=False, batch_size=1000)"
   ]
  },
  {
   "cell_type": "markdown",
   "metadata": {},
   "source": [
    "### Query\n",
    "Query the text search app using the Vespa Query language by sending the parameters to the body argument of Vespa.query - here using the bm25 rank profile"
   ]
  },
  {
   "cell_type": "code",
   "execution_count": 30,
   "metadata": {},
   "outputs": [
    {
     "data": {
      "text/plain": [
       "{'id': 'id:textsearch:textsearch::D1871659',\n",
       " 'relevance': 25.661158431161503,\n",
       " 'source': 'textsearch_content',\n",
       " 'fields': {'sddocname': 'textsearch',\n",
       "  'documentid': 'id:textsearch:textsearch::D1871659',\n",
       "  'id': 'D1871659',\n",
       "  'title': 'What keeps airplanes in the air ',\n",
       "  'body': 'Answers com   Wiki Answers   Categories Cars   Vehicles Airplanes and Aircraft What keeps airplanes in the air  Flag What keeps airplanes in the air  Answer by Karin L  Confidence votes 95 0KThere s more to raising cattle than throwing them out to pasture  Know your soil and plants to earn profit above ground and wealth below  It is the combined forces of lift  thrust and weight that keeps an airplane in the air  Lift happens to be the largest force in this equation  and is dependent on the speed of the wing  or how fast an airplane is going   vertical velocity of air and air density  Well the elevator the rudder will help and something else I forgot what it was but don t judge me for that               And that s how you be a bow done   Like a boss  Boss    15 people found this useful Was this answer useful  Yes Somewhat No How do airplane windows keep out the cold  Airplane windows   The only way that heat can escape the warm cabin is to travel through something or radiate outward  Since the windows are so small  the radiation through  Karin L  There s more to raising cattle than throwing them out to pasture  Know your soil and plants to earn profit above ground and wealth below  Does speed keep an airplane in the air  Yes  to a degree  speed is part of the equation  Speed   thrust  and combine that with lift and weight  though weight has to be smaller than lift and thrust combined     then y  Bala Surya 152 866 Contributions Adventurous  Fun   Dreaming High How does bernoulli s principle keep airplanes in the air  Bernoulli s principle is that there is a region of high pressure under the wing  So air rushes under the plane  So it creates lift which in turn keeps the airplane in the air   How airplane can fly in the air  The airplane fly on the air by 4 main forces   drag   lift   thrust and weight   all these forces affect of the performances of the airplane to fly     the high power of the e  David Bäckman 388 346 Contributions Knowledge is a thing you can both share and keep Is the force that keeps an airplane in the air called lift or levitation  Lift Sadia rulez 1 Contribution How does air help an airplane fly  Air Helps An Aeroplane Fly Because Of The Up Thurst  Up Thrust Is A Sort Of A Gravity That Pulls You Up Like A Float Floats In Water The Upthrust Pulls It Up But The Gravity Pull  Djlax97 3 Contributions How do you keep your ears from popping on an airplane  All you have to do is chew gum and swallow a lot Doing this has something to do with the place of your throat And yes it does work What does it mean when the air in airplanes are pressurized  The air in an aircraft needs to be pressurised so that the people within the cabin don t pass out from oxygen starvation at higher altitudes  The atmosphere can be described a  Richard Loberger 26 278 Contributions Airplane can stop in the air  It would depend on what you mean by stop in the air  An airplane can have 0 MPH ground speed while in the air only IF the wind is going faster then the stall speed of the g  How does an airplane stay stable in the air to keep a plane stable in the air it has different control surfaces or panels to allow the pilot to adjust the position of the plane in the air  Some modern fighter jets such  How do you recharge an airplane Air Conditioner  An airplane airconditioner is completely different than the one in your house or car  It doesn t rely on a refrigerant  Rather it takes hot high pressure air from the hot comp  What keeps an airplane up in the sky  Bernoulli s Principle the statement that an increase in the speed of a fluid produces a decrease in pressure and a decrease in the speed produces an increase in pressure Win  Karin L  There s more to raising cattle than throwing them out to pasture  Know your soil and plants to earn profit above ground and wealth below  Answered In Physics What keeps the airplane from rolling unexpectedly  On the tarmac  there are triangular blocks that are placed in front and behind each wheel of the airplane  called wheel chocks  In the air  a steady hand on the control sti  David Bäckman 388 346 Contributions Knowledge is a thing you can both share and keep Answered In Airplanes and Aircraft What is a machine that keeps an airplane on course  An auto pilot Charlie N  122 923 Contributions I have spent many years renovating buildings and leading a commercial handyman crew  Answered In Airbus Machine that keeps an airplane on course  Autopilot keeps an aircraft on course  In modern times autopilot is assisted by GPS and radar  Answered In Airplanes and Aircraft What keeps an airplane moving forward  An engine producing THRUST keeps an airplane moving forward  Types of engines used by airplanes include reciprocating engines  turbo prop engines  turbojet  and turbofan engin  Levyharaivan 396 Contributions Answered In Airplanes and Aircraft What keeps a airplane from rolling unexpectedly  Brakes  just like any other vehicle'}}"
      ]
     },
     "execution_count": 30,
     "metadata": {},
     "output_type": "execute_result"
    }
   ],
   "source": [
    "query = {\n",
    "    'yql': 'select * from sources * where userQuery()',\n",
    "    'query': 'what keeps planes in the air',\n",
    "    'ranking': 'bm25',\n",
    "    'type': 'all',\n",
    "    'hits': 10\n",
    "}\n",
    "res = app.query(body=query)\n",
    "res.hits[0]"
   ]
  },
  {
   "cell_type": "code",
   "execution_count": 38,
   "metadata": {},
   "outputs": [
    {
     "name": "stdout",
     "output_type": "stream",
     "text": [
      "Number of hits: 10\n",
      "Answers com   Wiki Answers   Categories Cars   Vehicles Airplanes and Aircraft What keeps airplanes in the air  Flag What keeps airplanes in the air  Answer by Karin L  Confidence votes 95 0KThere s more to raising cattle than throwing them out to pasture  Know your soil and plants to earn profit above ground and wealth below  It is the combined forces of lift  thrust and weight that keeps an airplane in the air  Lift happens to be the largest force in this equation  and is dependent on the speed of the wing  or how fast an airplane is going   vertical velocity of air and air density  Well the elevator the rudder will help and something else I forgot what it was but don t judge me for that               And that s how you be a bow done   Like a boss  Boss    15 people found this useful Was this answer useful  Yes Somewhat No How do airplane windows keep out the cold  Airplane windows   The only way that heat can escape the warm cabin is to travel through something or radiate outward  Since the windows are so small  the radiation through  Karin L  There s more to raising cattle than throwing them out to pasture  Know your soil and plants to earn profit above ground and wealth below  Does speed keep an airplane in the air  Yes  to a degree  speed is part of the equation  Speed   thrust  and combine that with lift and weight  though weight has to be smaller than lift and thrust combined     then y  Bala Surya 152 866 Contributions Adventurous  Fun   Dreaming High How does bernoulli s principle keep airplanes in the air  Bernoulli s principle is that there is a region of high pressure under the wing  So air rushes under the plane  So it creates lift which in turn keeps the airplane in the air   How airplane can fly in the air  The airplane fly on the air by 4 main forces   drag   lift   thrust and weight   all these forces affect of the performances of the airplane to fly     the high power of the e  David Bäckman 388 346 Contributions Knowledge is a thing you can both share and keep Is the force that keeps an airplane in the air called lift or levitation  Lift Sadia rulez 1 Contribution How does air help an airplane fly  Air Helps An Aeroplane Fly Because Of The Up Thurst  Up Thrust Is A Sort Of A Gravity That Pulls You Up Like A Float Floats In Water The Upthrust Pulls It Up But The Gravity Pull  Djlax97 3 Contributions How do you keep your ears from popping on an airplane  All you have to do is chew gum and swallow a lot Doing this has something to do with the place of your throat And yes it does work What does it mean when the air in airplanes are pressurized  The air in an aircraft needs to be pressurised so that the people within the cabin don t pass out from oxygen starvation at higher altitudes  The atmosphere can be described a  Richard Loberger 26 278 Contributions Airplane can stop in the air  It would depend on what you mean by stop in the air  An airplane can have 0 MPH ground speed while in the air only IF the wind is going faster then the stall speed of the g  How does an airplane stay stable in the air to keep a plane stable in the air it has different control surfaces or panels to allow the pilot to adjust the position of the plane in the air  Some modern fighter jets such  How do you recharge an airplane Air Conditioner  An airplane airconditioner is completely different than the one in your house or car  It doesn t rely on a refrigerant  Rather it takes hot high pressure air from the hot comp  What keeps an airplane up in the sky  Bernoulli s Principle the statement that an increase in the speed of a fluid produces a decrease in pressure and a decrease in the speed produces an increase in pressure Win  Karin L  There s more to raising cattle than throwing them out to pasture  Know your soil and plants to earn profit above ground and wealth below  Answered In Physics What keeps the airplane from rolling unexpectedly  On the tarmac  there are triangular blocks that are placed in front and behind each wheel of the airplane  called wheel chocks  In the air  a steady hand on the control sti  David Bäckman 388 346 Contributions Knowledge is a thing you can both share and keep Answered In Airplanes and Aircraft What is a machine that keeps an airplane on course  An auto pilot Charlie N  122 923 Contributions I have spent many years renovating buildings and leading a commercial handyman crew  Answered In Airbus Machine that keeps an airplane on course  Autopilot keeps an aircraft on course  In modern times autopilot is assisted by GPS and radar  Answered In Airplanes and Aircraft What keeps an airplane moving forward  An engine producing THRUST keeps an airplane moving forward  Types of engines used by airplanes include reciprocating engines  turbo prop engines  turbojet  and turbofan engin  Levyharaivan 396 Contributions Answered In Airplanes and Aircraft What keeps a airplane from rolling unexpectedly  Brakes  just like any other vehicle\n"
     ]
    }
   ],
   "source": [
    "print(f\"Number of hits: {len(res.hits)}\")\n",
    "\n",
    "print(res.hits[0][\"fields\"][\"body\"])"
   ]
  },
  {
   "cell_type": "markdown",
   "metadata": {},
   "source": [
    "### Clean up\n",
    "Clean up the docker containers"
   ]
  },
  {
   "cell_type": "code",
   "execution_count": 39,
   "metadata": {},
   "outputs": [],
   "source": [
    "vespa_docker.container.stop()\n",
    "vespa_docker.container.remove()"
   ]
  }
 ],
 "metadata": {
  "kernelspec": {
   "display_name": "witter.311",
   "language": "python",
   "name": "python3"
  },
  "language_info": {
   "codemirror_mode": {
    "name": "ipython",
    "version": 3
   },
   "file_extension": ".py",
   "mimetype": "text/x-python",
   "name": "python",
   "nbconvert_exporter": "python",
   "pygments_lexer": "ipython3",
   "version": "3.11.4"
  },
  "orig_nbformat": 4
 },
 "nbformat": 4,
 "nbformat_minor": 2
}
