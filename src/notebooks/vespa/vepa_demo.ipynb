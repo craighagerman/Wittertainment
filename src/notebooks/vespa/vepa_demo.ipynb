{
 "cells": [
  {
   "cell_type": "markdown",
   "metadata": {},
   "source": [
    "# Vespa Demo\n",
    "\n",
    "\n",
    "see:\n",
    "- [Vespa Quick start](https://docs.vespa.ai/en/vespa-quick-start.html)\n",
    "- [Getting Started](https://docs.vespa.ai/en/getting-started.html)\n",
    "- [PyVespa](https://pyvespa.readthedocs.io/en/latest/getting-started-pyvespa.html)\n",
    "\n",
    "\n",
    "Below assumes\n",
    "- Vespa docker image is running\n",
    "\n",
    "\n",
    "Note\n",
    "- this demo is going to populate Vespa with MSMarco data contained in `sample_docs.csv`. \n",
    "- Download from: [sample_docs.csv](https://data.vespa.oath.cloud/blog/msmarco/sample_docs.csv)\n",
    "- `sample_docs` is a CSV file with columns: (id,title,body)"
   ]
  },
  {
   "cell_type": "code",
   "execution_count": 16,
   "metadata": {},
   "outputs": [],
   "source": [
    "# vespa imports used below\n",
    "from vespa.package import ApplicationPackage\n",
    "from vespa.package import Field\n",
    "from vespa.package import FieldSet\n",
    "from vespa.package import RankProfile"
   ]
  },
  {
   "cell_type": "code",
   "execution_count": 7,
   "metadata": {},
   "outputs": [],
   "source": [
    "# Create an empty schema\n",
    "app_package = ApplicationPackage(name=\"textsearch\")"
   ]
  },
  {
   "cell_type": "markdown",
   "metadata": {},
   "source": [
    "### Add fields to the schema:\n",
    "(i.e. define the schema)\n",
    "\n",
    "`id` - holds the document ids  \n",
    "`title` and `body` -  text fields of the documents.  \n",
    "\n",
    "Note: \n",
    "- Setting \"index\" in indexing - means that a searchable index for `title` and `body` is created\n",
    "- Setting index = \"enable-bm25\" will pre-compute quantities to make it fast to compute the BM25 score.\n",
    "\n",
    "\n",
    "n.b. Read about BM25 score:\n",
    "- (https://en.wikipedia.org/wiki/Okapi_BM25)\n",
    "- "
   ]
  },
  {
   "cell_type": "code",
   "execution_count": 17,
   "metadata": {},
   "outputs": [],
   "source": [
    "# Add fields to the schema\n",
    "# n.b. these correspond to the columns in the sample_data CSV file\n",
    "app_package.schema.add_fields(\n",
    "    Field(name = \"id\",    type = \"string\", indexing = [\"attribute\", \"summary\"]),\n",
    "    Field(name = \"title\", type = \"string\", indexing = [\"index\", \"summary\"], index = \"enable-bm25\"),\n",
    "    Field(name = \"body\",  type = \"string\", indexing = [\"index\", \"summary\"], index = \"enable-bm25\")\n",
    ")"
   ]
  },
  {
   "cell_type": "markdown",
   "metadata": {},
   "source": [
    "### Search multiple fields"
   ]
  },
  {
   "cell_type": "code",
   "execution_count": 12,
   "metadata": {},
   "outputs": [],
   "source": [
    "# A FieldSet groups fields together for searching - it configures queries to look for matches both in the title and body fields of the documents:\n",
    "app_package.schema.add_field_set(\n",
    "    FieldSet(name = \"default\", fields = [\"title\", \"body\"])\n",
    ")"
   ]
  },
  {
   "cell_type": "markdown",
   "metadata": {},
   "source": [
    "### Define ranking"
   ]
  },
  {
   "cell_type": "code",
   "execution_count": 15,
   "metadata": {},
   "outputs": [],
   "source": [
    "# Specify how to rank the matched documents by defining a RankProfile. Below are different rank profiles that can be selected in the query:\n",
    "app_package.schema.add_rank_profile(\n",
    "    RankProfile(name = \"bm25\", first_phase = \"bm25(title) + bm25(body)\")\n",
    ")\n",
    "app_package.schema.add_rank_profile(\n",
    "    RankProfile(name = \"native_rank\", first_phase = \"nativeRank(title, body)\")\n",
    ")"
   ]
  },
  {
   "cell_type": "code",
   "execution_count": null,
   "metadata": {},
   "outputs": [],
   "source": []
  },
  {
   "cell_type": "code",
   "execution_count": null,
   "metadata": {},
   "outputs": [],
   "source": []
  },
  {
   "cell_type": "code",
   "execution_count": null,
   "metadata": {},
   "outputs": [],
   "source": []
  }
 ],
 "metadata": {
  "kernelspec": {
   "display_name": "witter.311",
   "language": "python",
   "name": "python3"
  },
  "language_info": {
   "codemirror_mode": {
    "name": "ipython",
    "version": 3
   },
   "file_extension": ".py",
   "mimetype": "text/x-python",
   "name": "python",
   "nbconvert_exporter": "python",
   "pygments_lexer": "ipython3",
   "version": "3.11.4"
  },
  "orig_nbformat": 4
 },
 "nbformat": 4,
 "nbformat_minor": 2
}
