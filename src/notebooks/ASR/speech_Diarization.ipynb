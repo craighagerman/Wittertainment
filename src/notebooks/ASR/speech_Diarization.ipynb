{
  "cells": [
    {
      "cell_type": "markdown",
      "metadata": {},
      "source": [
        "# riteshhere Speech Diarization\n",
        "\n",
        "n.b. This Jupyter notebook was copied from [riteshhere/Speaker_diarization](https://github.com/riteshhere/Speaker_diarization) and then modified."
      ]
    },
    {
      "cell_type": "code",
      "execution_count": 12,
      "metadata": {},
      "outputs": [],
      "source": [
        "# Imports\n",
        "from dotenv import find_dotenv\n",
        "from dotenv import dotenv_values\n",
        "config = dotenv_values(find_dotenv())\n",
        "# NOTE: empty `.env` file was added beneath `src` directory. Ignored by gitignore rules.\n",
        "import os\n",
        "import sys\n",
        "sys.path.append(os.path.dirname(find_dotenv()))\n",
        "from notebooks.notebook_utils import DevData\n",
        "# ----------------------------------------\n",
        "# load huggingface token from .env file\n",
        "HUGGINGFACE_TOKEN = config[\"HUGGINGFACE_TOKEN\"]"
      ]
    },
    {
      "cell_type": "code",
      "execution_count": 21,
      "metadata": {},
      "outputs": [
        {
          "name": "stdout",
          "output_type": "stream",
          "text": [
            "mp3_file exists: True\n"
          ]
        }
      ],
      "source": [
        "# define paths\n",
        "external_dir = DevData().external_dir\n",
        "mp3_file = os.path.join(external_dir, \"Laughter_Lift.mp3\")\n",
        "# outpath = os.path.join(external_dir, \"audio_20231020.rttm\")\n",
        "transcript_path = os.path.join(external_dir, \"transcript.txt\")\n",
        "print(f\"mp3_file exists: {os.path.exists(mp3_file)}\")"
      ]
    },
    {
      "cell_type": "code",
      "execution_count": 3,
      "metadata": {
        "id": "La_gCYtqMlo5"
      },
      "outputs": [],
      "source": [
        "num_speakers = 2 #@param {type:\"integer\"}\n",
        "language = 'English' #@param ['any', 'English']\n",
        "model_size = 'medium' #@param ['tiny', 'base', 'small', 'medium', 'large']\n",
        "\n",
        "model_name = model_size\n",
        "if language == 'English' and model_size != 'large':\n",
        "  model_name += '.en'"
      ]
    },
    {
      "cell_type": "code",
      "execution_count": 8,
      "metadata": {
        "colab": {
          "base_uri": "https://localhost:8080/",
          "height": 177,
          "referenced_widgets": [
            "d460eb9027954e5c996ea1ec400fb730",
            "271e63e09e7743b8a6f382b4e5acbc40",
            "6f009abe9edb4a5cad925abe3de24f65",
            "7816754f55c342379cdf53cfbee99710",
            "e441229140564f45a08748091ffdaf9c",
            "28d3aa62320a4bf286884a4d1712fc54",
            "a43cfe2da37340dfa0b55f62592a91d8",
            "501e91feab7c41bdb692135ef5932cb2",
            "3bf5388c1c7e41ecb03ace96053d721f",
            "db81d099ad0a46c5856c34a9a6842799",
            "f1951ee8562349d6b805f286986ce4a4",
            "99f5b2c08a3e471e9a5107a52d0ad135",
            "3b6b5c831b9843e792bbd3bb7d8438f5",
            "9e0879e633874ba88427fb87abf40462",
            "28b351c089554f40942eb567211860bf",
            "d200b1ea862e4b829c2f7b4138f8aabf",
            "d1280f0c62ae43d28e2b6ec1b4d78cc8",
            "a4f89c0b8a494a22ab8e47b6437e86d9",
            "3ff67e8de1fe4173b134a6521eaa8368",
            "706aacf733264412bc3cc0042da84655",
            "4e533fa893714c8c80e7edf16c3cc618",
            "aa0199cb9c39449a9d9038a628392c2a",
            "7b0bd89806834970bb751ceefa296644",
            "a8653affd36e4c82b793199ec84e3979",
            "af9eaeb7e46946378f525bc369a9f0bd",
            "57271afa0ae943079701da2e26cbc7d2",
            "d7ff1eff2ba84b529855cce7c836c398",
            "aaf8d84b6b1049529f00a9b98781e086",
            "b7660a1e09e04d8ca25d067cea253e9a",
            "2ce5976de1aa4d189e09c78348a0f25f",
            "80ce97975add47d8975b57c7b97447d8",
            "8c1e470a1132492d8355f93acc47e7b9",
            "7e3878a6c7cc4a7a88511ec477d29beb",
            "ef66c458a56b4670809a232ae4448326",
            "2d2ab546b57141769d3b13f30a10287b",
            "9fe4c35151b54620a522d56169f95f83",
            "e734b6a7602f412bb125820cd00e0a91",
            "fe3de03b316243fcafb66a3c07d9ad4c",
            "3562842fec344497b966caba05af1e8b",
            "6016ae447c92412d949550891304b020",
            "105166bd7fe54e4e9abacfeebcb17be7",
            "eb737052336e451cbc10db8b1d43f495",
            "5bb997ac5cc0477fbfc7bccb1f42cda0",
            "253e22fc6dd1453bb11ba5138f36b7e1",
            "bf0c30b759424ce3a572829e8d0cd5a0",
            "f9087c013be74d53a52a2f2bcddd5fcb",
            "61b2a3094f5e4ce8a48e1e8097400cfb",
            "fc0e5b1c431c4499a6f448956d36c1ff",
            "cc1a0d84484842aca2040bae71f899e0",
            "cdc6881584b2410396144462ad1ec107",
            "06ea8198faba45949ff0aff7484acc2f",
            "f15b28c87f884f94a3f8647a46fe7da9",
            "44ba734e9dbc4d98a54fdc41f515eea6",
            "7f954247cd2a49f2af2cb056db826533",
            "612096154d564f898ae73624aa52dc1b"
          ]
        },
        "id": "1u-RTRbvMllh",
        "outputId": "43467d93-3fe5-4e9d-aab7-cd1d77a7b462"
      },
      "outputs": [
        {
          "data": {
            "application/vnd.jupyter.widget-view+json": {
              "model_id": "9eefe6eb4e464e20925d72e3a054d493",
              "version_major": 2,
              "version_minor": 0
            },
            "text/plain": [
              "Downloading (…)ain/hyperparams.yaml:   0%|          | 0.00/1.92k [00:00<?, ?B/s]"
            ]
          },
          "metadata": {},
          "output_type": "display_data"
        },
        {
          "data": {
            "application/vnd.jupyter.widget-view+json": {
              "model_id": "41fa38fd40974283b2111fe3a3cf7fc6",
              "version_major": 2,
              "version_minor": 0
            },
            "text/plain": [
              "Downloading embedding_model.ckpt:   0%|          | 0.00/83.3M [00:00<?, ?B/s]"
            ]
          },
          "metadata": {},
          "output_type": "display_data"
        },
        {
          "data": {
            "application/vnd.jupyter.widget-view+json": {
              "model_id": "5b1ebff8e46f45e49fd9133c95dbbd9c",
              "version_major": 2,
              "version_minor": 0
            },
            "text/plain": [
              "Downloading (…)an_var_norm_emb.ckpt:   0%|          | 0.00/1.92k [00:00<?, ?B/s]"
            ]
          },
          "metadata": {},
          "output_type": "display_data"
        },
        {
          "data": {
            "application/vnd.jupyter.widget-view+json": {
              "model_id": "959ba3da543c424bbd456054afb9ff63",
              "version_major": 2,
              "version_minor": 0
            },
            "text/plain": [
              "Downloading classifier.ckpt:   0%|          | 0.00/5.53M [00:00<?, ?B/s]"
            ]
          },
          "metadata": {},
          "output_type": "display_data"
        },
        {
          "data": {
            "application/vnd.jupyter.widget-view+json": {
              "model_id": "a015924b6ec34f238c871237dcacc0f7",
              "version_major": 2,
              "version_minor": 0
            },
            "text/plain": [
              "Downloading (…)in/label_encoder.txt:   0%|          | 0.00/129k [00:00<?, ?B/s]"
            ]
          },
          "metadata": {},
          "output_type": "display_data"
        }
      ],
      "source": [
        "# !pip install -q git+https://github.com/openai/whisper.git > /dev/null\n",
        "# !pip install -q git+https://github.com/pyannote/pyannote-audio > /dev/null\n",
        "\n",
        "import whisper\n",
        "import datetime\n",
        "\n",
        "import subprocess\n",
        "\n",
        "import torch\n",
        "import pyannote.audio\n",
        "from pyannote.audio.pipelines.speaker_verification import PretrainedSpeakerEmbedding\n",
        "\n",
        "# device = torch.device(\"cuda:0\" if torch.cuda.is_available() else \"cpu\")\n",
        "\n",
        "# embedding_model = PretrainedSpeakerEmbedding(\n",
        "#     \"speechbrain/spkrec-ecapa-voxceleb\",\n",
        "#     device=torch.device(\"cuda\"))\n",
        "\n",
        "embedding_model = PretrainedSpeakerEmbedding(\n",
        "    \"speechbrain/spkrec-ecapa-voxceleb\")\n",
        "\n",
        "from pyannote.audio import Audio\n",
        "from pyannote.core import Segment\n",
        "\n",
        "import wave\n",
        "import contextlib\n",
        "\n",
        "from sklearn.cluster import AgglomerativeClustering\n",
        "import numpy as np"
      ]
    },
    {
      "cell_type": "code",
      "execution_count": 9,
      "metadata": {
        "colab": {
          "base_uri": "https://localhost:8080/"
        },
        "id": "_DO35mQqMlge",
        "outputId": "a300351a-85f6-4ec3-ec49-ab653a4c1bb8"
      },
      "outputs": [],
      "source": [
        "model = whisper.load_model(model_size)"
      ]
    },
    {
      "cell_type": "code",
      "execution_count": 14,
      "metadata": {
        "id": "vMEDfpZ9Mld2"
      },
      "outputs": [],
      "source": [
        "result = model.transcribe(mp3_file)\n",
        "segments = result[\"segments\"]"
      ]
    },
    {
      "cell_type": "code",
      "execution_count": 7,
      "metadata": {
        "id": "CM5WWfaSMlbW"
      },
      "outputs": [],
      "source": [
        "# hmmm I'm using mp3 not wav file so this doesn't work. TODO: Can probably use mutagen instead to get duration. \n",
        "\n",
        "# with contextlib.closing(wave.open(path,'r')) as f:\n",
        "#   frames = f.getnframes()\n",
        "#   rate = f.getframerate()\n",
        "#   duration = frames / float(rate)"
      ]
    },
    {
      "cell_type": "code",
      "execution_count": 18,
      "metadata": {
        "id": "FVfDx1zcMlY8"
      },
      "outputs": [],
      "source": [
        "audio = Audio()\n",
        "\n",
        "def segment_embedding(segment):\n",
        "  start = segment[\"start\"]\n",
        "  # Whisper overshoots the end timestamp in the last segment\n",
        "  # end = min(duration, segment[\"end\"])\n",
        "  end = segment[\"end\"]  # just use whisper's end for now\n",
        "  clip = Segment(start, end)\n",
        "  waveform, sample_rate = audio.crop(mp3_file, clip)\n",
        "  return embedding_model(waveform[None])"
      ]
    },
    {
      "cell_type": "code",
      "execution_count": 19,
      "metadata": {
        "id": "YO5hkz3-MlWB"
      },
      "outputs": [],
      "source": [
        "embeddings = np.zeros(shape=(len(segments), 192))\n",
        "for i, segment in enumerate(segments):\n",
        "  embeddings[i] = segment_embedding(segment)\n",
        "\n",
        "embeddings = np.nan_to_num(embeddings)"
      ]
    },
    {
      "cell_type": "code",
      "execution_count": 26,
      "metadata": {},
      "outputs": [],
      "source": [
        "clustering = AgglomerativeClustering(num_speakers).fit(embeddings)\n",
        "labels = clustering.labels_\n",
        "for i in range(len(segments)):\n",
        "  segments[i][\"speaker\"] = 'SPEAKER ' + str(labels[i] + 1)"
      ]
    },
    {
      "cell_type": "code",
      "execution_count": 28,
      "metadata": {
        "id": "pfOKef5IMlQ8"
      },
      "outputs": [],
      "source": [
        "def time(secs):\n",
        "  return datetime.timedelta(seconds=round(secs))\n",
        "\n",
        "f = open(transcript_path, \"w\")\n",
        "x = \"\"\n",
        "for (i, segment) in enumerate(segments):\n",
        "  if i == 0 or segments[i - 1][\"speaker\"] != segment[\"speaker\"]:\n",
        "    f.write(\"\\n\" + segment[\"speaker\"] + ' ' + str(time(segment[\"start\"])) + '\\n')\n",
        "  f.write(segment[\"text\"][1:] + ' ')\n",
        "  x += \"\\n\" + segment[\"speaker\"] + ' ' + str(time(segment[\"start\"])) + '\\n'\n",
        "  x += segment[\"text\"][1:] + ' '\n",
        "f.close()"
      ]
    },
    {
      "cell_type": "code",
      "execution_count": 29,
      "metadata": {
        "colab": {
          "base_uri": "https://localhost:8080/"
        },
        "id": "3fIFi6mrM_M1",
        "outputId": "60935de7-03ca-4b41-f770-60c1ad03d262"
      },
      "outputs": [
        {
          "name": "stdout",
          "output_type": "stream",
          "text": [
            "\n",
            "SPEAKER 2 0:00:00\n",
            "More with Emily Watson in take two, ads in a minute. But first, it's time once again, very, very good news everybody, we step into our laughter lift. \n",
            "SPEAKER 1 0:00:08\n",
            "Huzzah. Shazam. Here we go. Hey Mark, seeing as you loved the noble gases joke so much last week, I was going to tell you another one, but all the good ones are gone. \n",
            "SPEAKER 2 0:00:21\n",
            "I got that, I got that, because argon's a gas. It is, it's a noble gas. \n",
            "SPEAKER 1 0:00:24\n",
            "I got it, okay. Anyway, here's another science you want for you, are you ready? I was out at a pub with rooms in Chobhub's North London on Saturday for a wedding reception. A neutron walked in. \n",
            "SPEAKER 2 0:00:35\n",
            "How much for a pint, he said. \n",
            "SPEAKER 1 0:00:36\n",
            "For you, no charge, said the barman. And I get that as well, because a neutron has no charge. Subatomic particle with no charge. \n",
            "SPEAKER 2 0:00:43\n",
            "And then a photon walked in. I'd like a room for the night, please, he said. Certainly, do you have any luggage we can take up to the room? Asked the receptionist. No, said the photon. I'm traveling light. \n",
            "SPEAKER 1 0:00:53\n",
            "Because a photon is a... It is a light particle. Quantum of light. \n",
            "SPEAKER 2 0:00:57\n",
            "It was in fact... It's an education today. It's not funny, but it's an education. \n",
            "SPEAKER 1 0:01:02\n",
            "It was in fact cousin Cecil's wedding to his delightful Parisian fiancee Noémie on Saturday. \n",
            "SPEAKER 2 0:01:08\n",
            "At the reception, I raised my champagne glass and said, A dish of sliced bread soaked in beaten eggs and often milk or cream, then pan fried. Alternative names and variants include eggy bread, Bombay toast, gypsy toast, and poor nights of Windsor. \n",
            "SPEAKER 1 0:01:21\n",
            "It was a French toast. \n",
            "SPEAKER 2 0:01:23\n",
            "The evening did not end well. \n",
            "SPEAKER 1 0:01:25\n",
            "I got the bar bill and had a massive row with the bar staff. I argued with my cashier that the bill was £70.20, not £7,000... £7,020. He didn't get the point. \n",
            "SPEAKER 2 0:01:37\n",
            "Anyway, what have we got? \n",
            "SPEAKER 1 0:01:38\n",
            "You've got that as well. Yes. Yes, got that. \n",
            "SPEAKER 2 0:01:40\n",
            "What's still to come? \n",
            "SPEAKER 1 0:01:40\n",
            "Dungeons and Dragons. Okay, Vanguard Division. \n",
            "SPEAKER 2 0:01:43\n",
            "Unless you're a Vanguard Easter, in which case you definitely don't have a nickname \n",
            "SPEAKER 1 0:01:46\n",
            "that everyone else knows apart from you and your service will not be interrupted. While you're here, check out all the other videos because they're cool too, aren't they? \n",
            "SPEAKER 2 0:01:59\n",
            "Yeah, and if you want to keep up to date with everything Kermit and Mayo's take, \n",
            "SPEAKER 1 0:02:02\n",
            "then check out our social channels. \n",
            "SPEAKER 2 0:02:04\n",
            "I mean, why wouldn't you? \n",
            "SPEAKER 1 0:02:05\n",
            "I mean, I would. I have done. Excellent. \n"
          ]
        }
      ],
      "source": [
        "print(open(transcript_path).read())"
      ]
    },
    {
      "cell_type": "code",
      "execution_count": 30,
      "metadata": {
        "colab": {
          "base_uri": "https://localhost:8080/"
        },
        "id": "frAc9BP1M_Gz",
        "outputId": "9ef84edd-a825-4bae-e1df-d568c7988089"
      },
      "outputs": [
        {
          "name": "stdout",
          "output_type": "stream",
          "text": [
            "{'text': \" More with Emily Watson in take two, ads in a minute. But first, it's time once again, very, very good news everybody, we step into our laughter lift. Huzzah. Shazam. Here we go. Hey Mark, seeing as you loved the noble gases joke so much last week, I was going to tell you another one, but all the good ones are gone. I got that, I got that, because argon's a gas. It is, it's a noble gas. I got it, okay. Anyway, here's another science you want for you, are you ready? I was out at a pub with rooms in Chobhub's North London on Saturday for a wedding reception. A neutron walked in. How much for a pint, he said. For you, no charge, said the barman. And I get that as well, because a neutron has no charge. Subatomic particle with no charge. And then a photon walked in. I'd like a room for the night, please, he said. Certainly, do you have any luggage we can take up to the room? Asked the receptionist. No, said the photon. I'm traveling light. Because a photon is a... It is a light particle. Quantum of light. It was in fact... It's an education today. It's not funny, but it's an education. It was in fact cousin Cecil's wedding to his delightful Parisian fiancee Noémie on Saturday. At the reception, I raised my champagne glass and said, A dish of sliced bread soaked in beaten eggs and often milk or cream, then pan fried. Alternative names and variants include eggy bread, Bombay toast, gypsy toast, and poor nights of Windsor. It was a French toast. The evening did not end well. I got the bar bill and had a massive row with the bar staff. I argued with my cashier that the bill was £70.20, not £7,000... £7,020. He didn't get the point. Anyway, what have we got? You've got that as well. Yes. Yes, got that. What's still to come? Dungeons and Dragons. Okay, Vanguard Division. Unless you're a Vanguard Easter, in which case you definitely don't have a nickname that everyone else knows apart from you and your service will not be interrupted. While you're here, check out all the other videos because they're cool too, aren't they? Yeah, and if you want to keep up to date with everything Kermit and Mayo's take, then check out our social channels. I mean, why wouldn't you? I mean, I would. I have done. Excellent.\", 'segments': [{'id': 0, 'seek': 0, 'start': 0.0, 'end': 3.04, 'text': ' More with Emily Watson in take two, ads in a minute.', 'tokens': [50364, 5048, 365, 15034, 25640, 294, 747, 732, 11, 10342, 294, 257, 3456, 13, 50516], 'temperature': 0.0, 'avg_logprob': -0.1925884839650747, 'compression_ratio': 1.6193771626297577, 'no_speech_prob': 0.45980846881866455, 'speaker': 'SPEAKER 2'}, {'id': 1, 'seek': 0, 'start': 3.04, 'end': 8.4, 'text': \" But first, it's time once again, very, very good news everybody, we step into our laughter lift.\", 'tokens': [50516, 583, 700, 11, 309, 311, 565, 1564, 797, 11, 588, 11, 588, 665, 2583, 2201, 11, 321, 1823, 666, 527, 13092, 5533, 13, 50784], 'temperature': 0.0, 'avg_logprob': -0.1925884839650747, 'compression_ratio': 1.6193771626297577, 'no_speech_prob': 0.45980846881866455, 'speaker': 'SPEAKER 2'}, {'id': 2, 'seek': 0, 'start': 8.4, 'end': 10.56, 'text': ' Huzzah. Shazam.', 'tokens': [50784, 389, 16740, 545, 13, 1160, 921, 335, 13, 50892], 'temperature': 0.0, 'avg_logprob': -0.1925884839650747, 'compression_ratio': 1.6193771626297577, 'no_speech_prob': 0.45980846881866455, 'speaker': 'SPEAKER 1'}, {'id': 3, 'seek': 0, 'start': 10.56, 'end': 11.040000000000001, 'text': ' Here we go.', 'tokens': [50892, 1692, 321, 352, 13, 50916], 'temperature': 0.0, 'avg_logprob': -0.1925884839650747, 'compression_ratio': 1.6193771626297577, 'no_speech_prob': 0.45980846881866455, 'speaker': 'SPEAKER 1'}, {'id': 4, 'seek': 0, 'start': 11.92, 'end': 16.240000000000002, 'text': ' Hey Mark, seeing as you loved the noble gases joke so much last week,', 'tokens': [50960, 1911, 3934, 11, 2577, 382, 291, 4333, 264, 20171, 21452, 7647, 370, 709, 1036, 1243, 11, 51176], 'temperature': 0.0, 'avg_logprob': -0.1925884839650747, 'compression_ratio': 1.6193771626297577, 'no_speech_prob': 0.45980846881866455, 'speaker': 'SPEAKER 1'}, {'id': 5, 'seek': 0, 'start': 16.240000000000002, 'end': 19.92, 'text': ' I was going to tell you another one, but all the good ones are gone.', 'tokens': [51176, 286, 390, 516, 281, 980, 291, 1071, 472, 11, 457, 439, 264, 665, 2306, 366, 2780, 13, 51360], 'temperature': 0.0, 'avg_logprob': -0.1925884839650747, 'compression_ratio': 1.6193771626297577, 'no_speech_prob': 0.45980846881866455, 'speaker': 'SPEAKER 1'}, {'id': 6, 'seek': 0, 'start': 21.04, 'end': 23.28, 'text': \" I got that, I got that, because argon's a gas.\", 'tokens': [51416, 286, 658, 300, 11, 286, 658, 300, 11, 570, 3882, 266, 311, 257, 4211, 13, 51528], 'temperature': 0.0, 'avg_logprob': -0.1925884839650747, 'compression_ratio': 1.6193771626297577, 'no_speech_prob': 0.45980846881866455, 'speaker': 'SPEAKER 2'}, {'id': 7, 'seek': 0, 'start': 23.28, 'end': 24.240000000000002, 'text': \" It is, it's a noble gas.\", 'tokens': [51528, 467, 307, 11, 309, 311, 257, 20171, 4211, 13, 51576], 'temperature': 0.0, 'avg_logprob': -0.1925884839650747, 'compression_ratio': 1.6193771626297577, 'no_speech_prob': 0.45980846881866455, 'speaker': 'SPEAKER 2'}, {'id': 8, 'seek': 0, 'start': 24.240000000000002, 'end': 25.04, 'text': ' I got it, okay.', 'tokens': [51576, 286, 658, 309, 11, 1392, 13, 51616], 'temperature': 0.0, 'avg_logprob': -0.1925884839650747, 'compression_ratio': 1.6193771626297577, 'no_speech_prob': 0.45980846881866455, 'speaker': 'SPEAKER 1'}, {'id': 9, 'seek': 0, 'start': 25.04, 'end': 27.6, 'text': \" Anyway, here's another science you want for you, are you ready?\", 'tokens': [51616, 5684, 11, 510, 311, 1071, 3497, 291, 528, 337, 291, 11, 366, 291, 1919, 30, 51744], 'temperature': 0.0, 'avg_logprob': -0.1925884839650747, 'compression_ratio': 1.6193771626297577, 'no_speech_prob': 0.45980846881866455, 'speaker': 'SPEAKER 1'}, {'id': 10, 'seek': 2760, 'start': 27.68, 'end': 33.36, 'text': \" I was out at a pub with rooms in Chobhub's North London on Saturday for a wedding reception.\", 'tokens': [50368, 286, 390, 484, 412, 257, 1535, 365, 9396, 294, 761, 996, 71, 836, 311, 4067, 7042, 322, 8803, 337, 257, 8523, 21682, 13, 50652], 'temperature': 0.0, 'avg_logprob': -0.19116161859523484, 'compression_ratio': 1.752411575562701, 'no_speech_prob': 0.1443634033203125, 'speaker': 'SPEAKER 1'}, {'id': 11, 'seek': 2760, 'start': 33.36, 'end': 34.96, 'text': ' A neutron walked in.', 'tokens': [50652, 316, 44362, 7628, 294, 13, 50732], 'temperature': 0.0, 'avg_logprob': -0.19116161859523484, 'compression_ratio': 1.752411575562701, 'no_speech_prob': 0.1443634033203125, 'speaker': 'SPEAKER 1'}, {'id': 12, 'seek': 2760, 'start': 34.96, 'end': 36.24, 'text': ' How much for a pint, he said.', 'tokens': [50732, 1012, 709, 337, 257, 23924, 11, 415, 848, 13, 50796], 'temperature': 0.0, 'avg_logprob': -0.19116161859523484, 'compression_ratio': 1.752411575562701, 'no_speech_prob': 0.1443634033203125, 'speaker': 'SPEAKER 2'}, {'id': 13, 'seek': 2760, 'start': 36.24, 'end': 38.400000000000006, 'text': ' For you, no charge, said the barman.', 'tokens': [50796, 1171, 291, 11, 572, 4602, 11, 848, 264, 2159, 1601, 13, 50904], 'temperature': 0.0, 'avg_logprob': -0.19116161859523484, 'compression_ratio': 1.752411575562701, 'no_speech_prob': 0.1443634033203125, 'speaker': 'SPEAKER 1'}, {'id': 14, 'seek': 2760, 'start': 38.400000000000006, 'end': 40.64, 'text': ' And I get that as well, because a neutron has no charge.', 'tokens': [50904, 400, 286, 483, 300, 382, 731, 11, 570, 257, 44362, 575, 572, 4602, 13, 51016], 'temperature': 0.0, 'avg_logprob': -0.19116161859523484, 'compression_ratio': 1.752411575562701, 'no_speech_prob': 0.1443634033203125, 'speaker': 'SPEAKER 1'}, {'id': 15, 'seek': 2760, 'start': 40.64, 'end': 42.08, 'text': ' Subatomic particle with no charge.', 'tokens': [51016, 8511, 267, 21401, 12359, 365, 572, 4602, 13, 51088], 'temperature': 0.0, 'avg_logprob': -0.19116161859523484, 'compression_ratio': 1.752411575562701, 'no_speech_prob': 0.1443634033203125, 'speaker': 'SPEAKER 1'}, {'id': 16, 'seek': 2760, 'start': 42.72, 'end': 44.32, 'text': ' And then a photon walked in.', 'tokens': [51120, 400, 550, 257, 37443, 7628, 294, 13, 51200], 'temperature': 0.0, 'avg_logprob': -0.19116161859523484, 'compression_ratio': 1.752411575562701, 'no_speech_prob': 0.1443634033203125, 'speaker': 'SPEAKER 2'}, {'id': 17, 'seek': 2760, 'start': 44.32, 'end': 46.64, 'text': \" I'd like a room for the night, please, he said.\", 'tokens': [51200, 286, 1116, 411, 257, 1808, 337, 264, 1818, 11, 1767, 11, 415, 848, 13, 51316], 'temperature': 0.0, 'avg_logprob': -0.19116161859523484, 'compression_ratio': 1.752411575562701, 'no_speech_prob': 0.1443634033203125, 'speaker': 'SPEAKER 2'}, {'id': 18, 'seek': 2760, 'start': 46.64, 'end': 48.96, 'text': ' Certainly, do you have any luggage we can take up to the room?', 'tokens': [51316, 16628, 11, 360, 291, 362, 604, 27744, 321, 393, 747, 493, 281, 264, 1808, 30, 51432], 'temperature': 0.0, 'avg_logprob': -0.19116161859523484, 'compression_ratio': 1.752411575562701, 'no_speech_prob': 0.1443634033203125, 'speaker': 'SPEAKER 2'}, {'id': 19, 'seek': 2760, 'start': 48.96, 'end': 50.08, 'text': ' Asked the receptionist.', 'tokens': [51432, 12320, 292, 264, 21682, 468, 13, 51488], 'temperature': 0.0, 'avg_logprob': -0.19116161859523484, 'compression_ratio': 1.752411575562701, 'no_speech_prob': 0.1443634033203125, 'speaker': 'SPEAKER 2'}, {'id': 20, 'seek': 2760, 'start': 50.08, 'end': 51.2, 'text': ' No, said the photon.', 'tokens': [51488, 883, 11, 848, 264, 37443, 13, 51544], 'temperature': 0.0, 'avg_logprob': -0.19116161859523484, 'compression_ratio': 1.752411575562701, 'no_speech_prob': 0.1443634033203125, 'speaker': 'SPEAKER 2'}, {'id': 21, 'seek': 2760, 'start': 51.2, 'end': 52.24, 'text': \" I'm traveling light.\", 'tokens': [51544, 286, 478, 9712, 1442, 13, 51596], 'temperature': 0.0, 'avg_logprob': -0.19116161859523484, 'compression_ratio': 1.752411575562701, 'no_speech_prob': 0.1443634033203125, 'speaker': 'SPEAKER 2'}, {'id': 22, 'seek': 2760, 'start': 53.040000000000006, 'end': 54.160000000000004, 'text': ' Because a photon is a...', 'tokens': [51636, 1436, 257, 37443, 307, 257, 485, 51692], 'temperature': 0.0, 'avg_logprob': -0.19116161859523484, 'compression_ratio': 1.752411575562701, 'no_speech_prob': 0.1443634033203125, 'speaker': 'SPEAKER 1'}, {'id': 23, 'seek': 2760, 'start': 54.160000000000004, 'end': 55.68000000000001, 'text': ' It is a light particle.', 'tokens': [51692, 467, 307, 257, 1442, 12359, 13, 51768], 'temperature': 0.0, 'avg_logprob': -0.19116161859523484, 'compression_ratio': 1.752411575562701, 'no_speech_prob': 0.1443634033203125, 'speaker': 'SPEAKER 1'}, {'id': 24, 'seek': 2760, 'start': 55.68000000000001, 'end': 56.64, 'text': ' Quantum of light.', 'tokens': [51768, 44964, 295, 1442, 13, 51816], 'temperature': 0.0, 'avg_logprob': -0.19116161859523484, 'compression_ratio': 1.752411575562701, 'no_speech_prob': 0.1443634033203125, 'speaker': 'SPEAKER 1'}, {'id': 25, 'seek': 5664, 'start': 57.12, 'end': 58.96, 'text': ' It was in fact...', 'tokens': [50388, 467, 390, 294, 1186, 485, 50480], 'temperature': 0.0, 'avg_logprob': -0.15399083094810373, 'compression_ratio': 1.6135593220338984, 'no_speech_prob': 0.001605735276825726, 'speaker': 'SPEAKER 2'}, {'id': 26, 'seek': 5664, 'start': 58.96, 'end': 60.480000000000004, 'text': \" It's an education today.\", 'tokens': [50480, 467, 311, 364, 3309, 965, 13, 50556], 'temperature': 0.0, 'avg_logprob': -0.15399083094810373, 'compression_ratio': 1.6135593220338984, 'no_speech_prob': 0.001605735276825726, 'speaker': 'SPEAKER 2'}, {'id': 27, 'seek': 5664, 'start': 60.480000000000004, 'end': 61.92, 'text': \" It's not funny, but it's an education.\", 'tokens': [50556, 467, 311, 406, 4074, 11, 457, 309, 311, 364, 3309, 13, 50628], 'temperature': 0.0, 'avg_logprob': -0.15399083094810373, 'compression_ratio': 1.6135593220338984, 'no_speech_prob': 0.001605735276825726, 'speaker': 'SPEAKER 2'}, {'id': 28, 'seek': 5664, 'start': 61.92, 'end': 67.84, 'text': \" It was in fact cousin Cecil's wedding to his delightful Parisian fiancee Noémie on Saturday.\", 'tokens': [50628, 467, 390, 294, 1186, 16207, 38807, 388, 311, 8523, 281, 702, 35194, 8380, 952, 46552, 68, 883, 44809, 322, 8803, 13, 50924], 'temperature': 0.0, 'avg_logprob': -0.15399083094810373, 'compression_ratio': 1.6135593220338984, 'no_speech_prob': 0.001605735276825726, 'speaker': 'SPEAKER 1'}, {'id': 29, 'seek': 5664, 'start': 67.84, 'end': 70.48, 'text': ' At the reception, I raised my champagne glass and said,', 'tokens': [50924, 1711, 264, 21682, 11, 286, 6005, 452, 33336, 4276, 293, 848, 11, 51056], 'temperature': 0.0, 'avg_logprob': -0.15399083094810373, 'compression_ratio': 1.6135593220338984, 'no_speech_prob': 0.001605735276825726, 'speaker': 'SPEAKER 2'}, {'id': 30, 'seek': 5664, 'start': 71.04, 'end': 75.84, 'text': ' A dish of sliced bread soaked in beaten eggs and often milk or cream, then pan fried.', 'tokens': [51084, 316, 5025, 295, 27098, 5961, 27368, 294, 17909, 6466, 293, 2049, 5392, 420, 4689, 11, 550, 2462, 10425, 13, 51324], 'temperature': 0.0, 'avg_logprob': -0.15399083094810373, 'compression_ratio': 1.6135593220338984, 'no_speech_prob': 0.001605735276825726, 'speaker': 'SPEAKER 2'}, {'id': 31, 'seek': 5664, 'start': 75.84, 'end': 79.84, 'text': ' Alternative names and variants include eggy bread, Bombay toast, gypsy toast,', 'tokens': [51324, 23830, 1166, 5288, 293, 21669, 4090, 24263, 1480, 5961, 11, 25463, 320, 15354, 11, 15823, 29182, 15354, 11, 51524], 'temperature': 0.0, 'avg_logprob': -0.15399083094810373, 'compression_ratio': 1.6135593220338984, 'no_speech_prob': 0.001605735276825726, 'speaker': 'SPEAKER 2'}, {'id': 32, 'seek': 5664, 'start': 79.84, 'end': 81.36, 'text': ' and poor nights of Windsor.', 'tokens': [51524, 293, 4716, 13249, 295, 43082, 284, 13, 51600], 'temperature': 0.0, 'avg_logprob': -0.15399083094810373, 'compression_ratio': 1.6135593220338984, 'no_speech_prob': 0.001605735276825726, 'speaker': 'SPEAKER 2'}, {'id': 33, 'seek': 5664, 'start': 81.36, 'end': 82.4, 'text': ' It was a French toast.', 'tokens': [51600, 467, 390, 257, 5522, 15354, 13, 51652], 'temperature': 0.0, 'avg_logprob': -0.15399083094810373, 'compression_ratio': 1.6135593220338984, 'no_speech_prob': 0.001605735276825726, 'speaker': 'SPEAKER 1'}, {'id': 34, 'seek': 5664, 'start': 83.44, 'end': 85.28, 'text': ' The evening did not end well.', 'tokens': [51704, 440, 5634, 630, 406, 917, 731, 13, 51796], 'temperature': 0.0, 'avg_logprob': -0.15399083094810373, 'compression_ratio': 1.6135593220338984, 'no_speech_prob': 0.001605735276825726, 'speaker': 'SPEAKER 2'}, {'id': 35, 'seek': 8528, 'start': 85.28, 'end': 88.08, 'text': ' I got the bar bill and had a massive row with the bar staff.', 'tokens': [50364, 286, 658, 264, 2159, 2961, 293, 632, 257, 5994, 5386, 365, 264, 2159, 3525, 13, 50504], 'temperature': 0.0, 'avg_logprob': -0.18443992877828663, 'compression_ratio': 1.5566666666666666, 'no_speech_prob': 0.13300283253192902, 'speaker': 'SPEAKER 1'}, {'id': 36, 'seek': 8528, 'start': 88.08, 'end': 93.6, 'text': ' I argued with my cashier that the bill was £70.20, not £7,000...', 'tokens': [50504, 286, 20219, 365, 452, 6388, 811, 300, 264, 2961, 390, 14378, 5867, 13, 2009, 11, 406, 14378, 22, 11, 1360, 485, 50780], 'temperature': 0.0, 'avg_logprob': -0.18443992877828663, 'compression_ratio': 1.5566666666666666, 'no_speech_prob': 0.13300283253192902, 'speaker': 'SPEAKER 1'}, {'id': 37, 'seek': 8528, 'start': 93.6, 'end': 95.12, 'text': ' £7,020.', 'tokens': [50780, 14378, 22, 11, 15, 2009, 13, 50856], 'temperature': 0.0, 'avg_logprob': -0.18443992877828663, 'compression_ratio': 1.5566666666666666, 'no_speech_prob': 0.13300283253192902, 'speaker': 'SPEAKER 1'}, {'id': 38, 'seek': 8528, 'start': 95.12, 'end': 96.0, 'text': \" He didn't get the point.\", 'tokens': [50856, 634, 994, 380, 483, 264, 935, 13, 50900], 'temperature': 0.0, 'avg_logprob': -0.18443992877828663, 'compression_ratio': 1.5566666666666666, 'no_speech_prob': 0.13300283253192902, 'speaker': 'SPEAKER 1'}, {'id': 39, 'seek': 8528, 'start': 97.04, 'end': 97.68, 'text': ' Anyway, what have we got?', 'tokens': [50952, 5684, 11, 437, 362, 321, 658, 30, 50984], 'temperature': 0.0, 'avg_logprob': -0.18443992877828663, 'compression_ratio': 1.5566666666666666, 'no_speech_prob': 0.13300283253192902, 'speaker': 'SPEAKER 2'}, {'id': 40, 'seek': 8528, 'start': 97.68, 'end': 98.4, 'text': \" You've got that as well.\", 'tokens': [50984, 509, 600, 658, 300, 382, 731, 13, 51020], 'temperature': 0.0, 'avg_logprob': -0.18443992877828663, 'compression_ratio': 1.5566666666666666, 'no_speech_prob': 0.13300283253192902, 'speaker': 'SPEAKER 1'}, {'id': 41, 'seek': 8528, 'start': 98.4, 'end': 98.64, 'text': ' Yes.', 'tokens': [51020, 1079, 13, 51032], 'temperature': 0.0, 'avg_logprob': -0.18443992877828663, 'compression_ratio': 1.5566666666666666, 'no_speech_prob': 0.13300283253192902, 'speaker': 'SPEAKER 1'}, {'id': 42, 'seek': 8528, 'start': 98.64, 'end': 99.52, 'text': ' Yes, got that.', 'tokens': [51032, 1079, 11, 658, 300, 13, 51076], 'temperature': 0.0, 'avg_logprob': -0.18443992877828663, 'compression_ratio': 1.5566666666666666, 'no_speech_prob': 0.13300283253192902, 'speaker': 'SPEAKER 1'}, {'id': 43, 'seek': 8528, 'start': 99.52, 'end': 100.32000000000001, 'text': \" What's still to come?\", 'tokens': [51076, 708, 311, 920, 281, 808, 30, 51116], 'temperature': 0.0, 'avg_logprob': -0.18443992877828663, 'compression_ratio': 1.5566666666666666, 'no_speech_prob': 0.13300283253192902, 'speaker': 'SPEAKER 2'}, {'id': 44, 'seek': 8528, 'start': 100.32000000000001, 'end': 101.2, 'text': ' Dungeons and Dragons.', 'tokens': [51116, 11959, 30636, 293, 37437, 13, 51160], 'temperature': 0.0, 'avg_logprob': -0.18443992877828663, 'compression_ratio': 1.5566666666666666, 'no_speech_prob': 0.13300283253192902, 'speaker': 'SPEAKER 1'}, {'id': 45, 'seek': 8528, 'start': 101.2, 'end': 102.72, 'text': ' Okay, Vanguard Division.', 'tokens': [51160, 1033, 11, 46648, 17183, 13, 51236], 'temperature': 0.0, 'avg_logprob': -0.18443992877828663, 'compression_ratio': 1.5566666666666666, 'no_speech_prob': 0.13300283253192902, 'speaker': 'SPEAKER 1'}, {'id': 46, 'seek': 8528, 'start': 102.72, 'end': 105.76, 'text': \" Unless you're a Vanguard Easter, in which case you definitely don't have a nickname\", 'tokens': [51236, 16581, 291, 434, 257, 46648, 9403, 11, 294, 597, 1389, 291, 2138, 500, 380, 362, 257, 21641, 51388], 'temperature': 0.0, 'avg_logprob': -0.18443992877828663, 'compression_ratio': 1.5566666666666666, 'no_speech_prob': 0.13300283253192902, 'speaker': 'SPEAKER 2'}, {'id': 47, 'seek': 8528, 'start': 105.76, 'end': 109.68, 'text': ' that everyone else knows apart from you and your service will not be interrupted.', 'tokens': [51388, 300, 1518, 1646, 3255, 4936, 490, 291, 293, 428, 2643, 486, 406, 312, 30329, 13, 51584], 'temperature': 0.0, 'avg_logprob': -0.18443992877828663, 'compression_ratio': 1.5566666666666666, 'no_speech_prob': 0.13300283253192902, 'speaker': 'SPEAKER 1'}, {'id': 48, 'seek': 11528, 'start': 115.6, 'end': 118.56, 'text': \" While you're here, check out all the other videos because they're cool too, aren't they?\", 'tokens': [50380, 3987, 291, 434, 510, 11, 1520, 484, 439, 264, 661, 2145, 570, 436, 434, 1627, 886, 11, 3212, 380, 436, 30, 50528], 'temperature': 0.0, 'avg_logprob': -0.17794244629996164, 'compression_ratio': 1.446808510638298, 'no_speech_prob': 0.9858283996582031, 'speaker': 'SPEAKER 1'}, {'id': 49, 'seek': 11528, 'start': 118.56, 'end': 121.6, 'text': \" Yeah, and if you want to keep up to date with everything Kermit and Mayo's take,\", 'tokens': [50528, 865, 11, 293, 498, 291, 528, 281, 1066, 493, 281, 4002, 365, 1203, 591, 966, 270, 293, 46406, 311, 747, 11, 50680], 'temperature': 0.0, 'avg_logprob': -0.17794244629996164, 'compression_ratio': 1.446808510638298, 'no_speech_prob': 0.9858283996582031, 'speaker': 'SPEAKER 2'}, {'id': 50, 'seek': 11528, 'start': 121.6, 'end': 123.68, 'text': ' then check out our social channels.', 'tokens': [50680, 550, 1520, 484, 527, 2093, 9235, 13, 50784], 'temperature': 0.0, 'avg_logprob': -0.17794244629996164, 'compression_ratio': 1.446808510638298, 'no_speech_prob': 0.9858283996582031, 'speaker': 'SPEAKER 1'}, {'id': 51, 'seek': 11528, 'start': 123.68, 'end': 124.72, 'text': \" I mean, why wouldn't you?\", 'tokens': [50784, 286, 914, 11, 983, 2759, 380, 291, 30, 50836], 'temperature': 0.0, 'avg_logprob': -0.17794244629996164, 'compression_ratio': 1.446808510638298, 'no_speech_prob': 0.9858283996582031, 'speaker': 'SPEAKER 2'}, {'id': 52, 'seek': 11528, 'start': 124.72, 'end': 126.08, 'text': ' I mean, I would.', 'tokens': [50836, 286, 914, 11, 286, 576, 13, 50904], 'temperature': 0.0, 'avg_logprob': -0.17794244629996164, 'compression_ratio': 1.446808510638298, 'no_speech_prob': 0.9858283996582031, 'speaker': 'SPEAKER 1'}, {'id': 53, 'seek': 11528, 'start': 126.08, 'end': 126.88, 'text': ' I have done.', 'tokens': [50904, 286, 362, 1096, 13, 50944], 'temperature': 0.0, 'avg_logprob': -0.17794244629996164, 'compression_ratio': 1.446808510638298, 'no_speech_prob': 0.9858283996582031, 'speaker': 'SPEAKER 1'}, {'id': 54, 'seek': 11528, 'start': 126.88, 'end': 127.76, 'text': ' Excellent.', 'tokens': [50944, 16723, 13, 50988], 'temperature': 0.0, 'avg_logprob': -0.17794244629996164, 'compression_ratio': 1.446808510638298, 'no_speech_prob': 0.9858283996582031, 'speaker': 'SPEAKER 1'}], 'language': 'en'}\n"
          ]
        }
      ],
      "source": [
        "print(result)"
      ]
    },
    {
      "cell_type": "code",
      "execution_count": 31,
      "metadata": {
        "colab": {
          "base_uri": "https://localhost:8080/",
          "height": 718
        },
        "id": "6zKiqBJHMlLx",
        "outputId": "5a9e4680-4471-4794-af02-83cac22dffc0"
      },
      "outputs": [
        {
          "data": {
            "image/png": "[encoded data removed]",
            "text/plain": [
              "<Figure size 1000x800 with 1 Axes>"
            ]
          },
          "metadata": {},
          "output_type": "display_data"
        }
      ],
      "source": [
        "import numpy as np\n",
        "import matplotlib.pyplot as plt\n",
        "from sklearn.decomposition import PCA\n",
        "\n",
        "# Your existing code for clustering and labeling segments...\n",
        "\n",
        "# Perform PCA to reduce the dimensionality of embeddings to 2D\n",
        "pca = PCA(n_components=2, random_state=42)\n",
        "embeddings_2d = pca.fit_transform(embeddings)\n",
        "\n",
        "# Plot the clusters\n",
        "plt.figure(figsize=(10, 8))\n",
        "for i, segment in enumerate(segments):\n",
        "    speaker_id = labels[i] + 1\n",
        "    x, y = embeddings_2d[i]\n",
        "    plt.scatter(x, y, label=f'SPEAKER {speaker_id}')\n",
        "\n",
        "plt.title(\"Speaker Diarization Clusters (PCA Visualization)\")\n",
        "plt.xlabel(\"Principal Component 1\")\n",
        "plt.ylabel(\"Principal Component 2\")\n",
        "plt.legend()\n",
        "plt.show()\n"
      ]
    },
    {
      "cell_type": "code",
      "execution_count": 18,
      "metadata": {
        "colab": {
          "base_uri": "https://localhost:8080/",
          "height": 718
        },
        "id": "Z5F4NCSnMlJk",
        "outputId": "f8d9fd42-03f2-409d-a8a0-6f37b5b15aeb"
      },
      "outputs": [
        {
          "data": {
            "image/png": "[encoded data removed]",
            "text/plain": [
              "<Figure size 1000x800 with 1 Axes>"
            ]
          },
          "metadata": {},
          "output_type": "display_data"
        }
      ],
      "source": [
        "import numpy as np\n",
        "import matplotlib.pyplot as plt\n",
        "from sklearn.decomposition import PCA\n",
        "import matplotlib.cm as cm\n",
        "\n",
        "# Your existing code for clustering and labeling segments...\n",
        "\n",
        "# Perform PCA to reduce the dimensionality of embeddings to 2D\n",
        "pca = PCA(n_components=2, random_state=42)\n",
        "embeddings_2d = pca.fit_transform(embeddings)\n",
        "\n",
        "# Get the number of unique speakers from the labels\n",
        "num_unique_speakers = len(np.unique(labels))\n",
        "\n",
        "# Create a colormap for speakers, ensuring each speaker gets a unique color\n",
        "colors = cm.tab20b(np.linspace(0, 1, num_unique_speakers))\n",
        "\n",
        "# Plot the clusters\n",
        "plt.figure(figsize=(10, 8))\n",
        "for i, segment in enumerate(segments):\n",
        "    speaker_id = labels[i] + 1\n",
        "    x, y = embeddings_2d[i]\n",
        "    color = colors[labels[i] % num_unique_speakers]  # Get the corresponding color for the speaker\n",
        "    plt.scatter(x, y, label=f'SPEAKER {speaker_id}', color=color)\n",
        "\n",
        "plt.title(\"Speaker Diarization Clusters (PCA Visualization)\")\n",
        "plt.xlabel(\"Principal Component 1\")\n",
        "plt.ylabel(\"Principal Component 2\")\n",
        "plt.legend()\n",
        "plt.show()\n"
      ]
    },
    {
      "cell_type": "code",
      "execution_count": 33,
      "metadata": {
        "colab": {
          "base_uri": "https://localhost:8080/",
          "height": 542
        },
        "id": "MHnzq_exMlG9",
        "outputId": "ffdfac71-395b-4ce0-9161-f91b96d1e97c"
      },
      "outputs": [
        {
          "data": {
            "application/vnd.plotly.v1+json": {
              "config": {
                "plotlyServerURL": "https://plot.ly"
              },
              "data": [
                {
                  "marker": {
                    "color": [
                      0.8705882352941177,
                      0.6196078431372549,
                      0.8392156862745098,
                      1
                    ],
                    "size": 5
                  },
                  "mode": "markers",
                  "name": "SPEAKER 2",
                  "type": "scatter3d",
                  "x": [
                    -79.94246270717599
                  ],
                  "y": [
                    -6.644985863143002
                  ],
                  "z": [
                    -51.65617447468931
                  ]
                },
                {
                  "marker": {
                    "color": [
                      0.8705882352941177,
                      0.6196078431372549,
                      0.8392156862745098,
                      1
                    ],
                    "size": 5
                  },
                  "mode": "markers",
                  "name": "SPEAKER 2",
                  "type": "scatter3d",
                  "x": [
                    -83.80471495454049
                  ],
                  "y": [
                    8.670171580970475
                  ],
                  "z": [
                    -39.88077687420978
                  ]
                },
                {
                  "marker": {
                    "color": [
                      0.2235294117647059,
                      0.23137254901960785,
                      0.4745098039215686,
                      1
                    ],
                    "size": 5
                  },
                  "mode": "markers",
                  "name": "SPEAKER 1",
                  "type": "scatter3d",
                  "x": [
                    134.63787076588
                  ],
                  "y": [
                    -6.9000189903342735
                  ],
                  "z": [
                    30.00905241069253
                  ]
                },
                {
                  "marker": {
                    "color": [
                      0.2235294117647059,
                      0.23137254901960785,
                      0.4745098039215686,
                      1
                    ],
                    "size": 5
                  },
                  "mode": "markers",
                  "name": "SPEAKER 1",
                  "type": "scatter3d",
                  "x": [
                    51.66395630292454
                  ],
                  "y": [
                    -5.5462102016799575
                  ],
                  "z": [
                    55.41574477109278
                  ]
                },
                {
                  "marker": {
                    "color": [
                      0.2235294117647059,
                      0.23137254901960785,
                      0.4745098039215686,
                      1
                    ],
                    "size": 5
                  },
                  "mode": "markers",
                  "name": "SPEAKER 1",
                  "type": "scatter3d",
                  "x": [
                    10.018656172563553
                  ],
                  "y": [
                    -36.22569442897373
                  ],
                  "z": [
                    -18.36553003500521
                  ]
                },
                {
                  "marker": {
                    "color": [
                      0.2235294117647059,
                      0.23137254901960785,
                      0.4745098039215686,
                      1
                    ],
                    "size": 5
                  },
                  "mode": "markers",
                  "name": "SPEAKER 1",
                  "type": "scatter3d",
                  "x": [
                    -59.30700643966974
                  ],
                  "y": [
                    -30.660743099449146
                  ],
                  "z": [
                    4.6827182303111865
                  ]
                },
                {
                  "marker": {
                    "color": [
                      0.8705882352941177,
                      0.6196078431372549,
                      0.8392156862745098,
                      1
                    ],
                    "size": 5
                  },
                  "mode": "markers",
                  "name": "SPEAKER 2",
                  "type": "scatter3d",
                  "x": [
                    -58.862699069014454
                  ],
                  "y": [
                    129.19278311116423
                  ],
                  "z": [
                    -0.3320209585482753
                  ]
                },
                {
                  "marker": {
                    "color": [
                      0.8705882352941177,
                      0.6196078431372549,
                      0.8392156862745098,
                      1
                    ],
                    "size": 5
                  },
                  "mode": "markers",
                  "name": "SPEAKER 2",
                  "type": "scatter3d",
                  "x": [
                    -12.350006474039205
                  ],
                  "y": [
                    1.171133010049592
                  ],
                  "z": [
                    -8.740002613303677
                  ]
                },
                {
                  "marker": {
                    "color": [
                      0.2235294117647059,
                      0.23137254901960785,
                      0.4745098039215686,
                      1
                    ],
                    "size": 5
                  },
                  "mode": "markers",
                  "name": "SPEAKER 1",
                  "type": "scatter3d",
                  "x": [
                    116.76312526945742
                  ],
                  "y": [
                    12.555520248472757
                  ],
                  "z": [
                    34.932064007955326
                  ]
                },
                {
                  "marker": {
                    "color": [
                      0.2235294117647059,
                      0.23137254901960785,
                      0.4745098039215686,
                      1
                    ],
                    "size": 5
                  },
                  "mode": "markers",
                  "name": "SPEAKER 1",
                  "type": "scatter3d",
                  "x": [
                    -42.96898666483539
                  ],
                  "y": [
                    6.79551959959222
                  ],
                  "z": [
                    -87.76235601711599
                  ]
                },
                {
                  "marker": {
                    "color": [
                      0.2235294117647059,
                      0.23137254901960785,
                      0.4745098039215686,
                      1
                    ],
                    "size": 5
                  },
                  "mode": "markers",
                  "name": "SPEAKER 1",
                  "type": "scatter3d",
                  "x": [
                    33.30170998274775
                  ],
                  "y": [
                    4.618584253712993
                  ],
                  "z": [
                    -24.384983125915994
                  ]
                },
                {
                  "marker": {
                    "color": [
                      0.2235294117647059,
                      0.23137254901960785,
                      0.4745098039215686,
                      1
                    ],
                    "size": 5
                  },
                  "mode": "markers",
                  "name": "SPEAKER 1",
                  "type": "scatter3d",
                  "x": [
                    65.52635181583615
                  ],
                  "y": [
                    -20.365580353716833
                  ],
                  "z": [
                    -6.724219006168448
                  ]
                },
                {
                  "marker": {
                    "color": [
                      0.8705882352941177,
                      0.6196078431372549,
                      0.8392156862745098,
                      1
                    ],
                    "size": 5
                  },
                  "mode": "markers",
                  "name": "SPEAKER 2",
                  "type": "scatter3d",
                  "x": [
                    -114.39029832592969
                  ],
                  "y": [
                    -15.824721855784166
                  ],
                  "z": [
                    94.62481313821719
                  ]
                },
                {
                  "marker": {
                    "color": [
                      0.2235294117647059,
                      0.23137254901960785,
                      0.4745098039215686,
                      1
                    ],
                    "size": 5
                  },
                  "mode": "markers",
                  "name": "SPEAKER 1",
                  "type": "scatter3d",
                  "x": [
                    81.38071061773168
                  ],
                  "y": [
                    -36.59747042825986
                  ],
                  "z": [
                    -35.24792809335245
                  ]
                },
                {
                  "marker": {
                    "color": [
                      0.2235294117647059,
                      0.23137254901960785,
                      0.4745098039215686,
                      1
                    ],
                    "size": 5
                  },
                  "mode": "markers",
                  "name": "SPEAKER 1",
                  "type": "scatter3d",
                  "x": [
                    20.523706532736902
                  ],
                  "y": [
                    20.742554284815846
                  ],
                  "z": [
                    -37.42996833100105
                  ]
                },
                {
                  "marker": {
                    "color": [
                      0.2235294117647059,
                      0.23137254901960785,
                      0.4745098039215686,
                      1
                    ],
                    "size": 5
                  },
                  "mode": "markers",
                  "name": "SPEAKER 1",
                  "type": "scatter3d",
                  "x": [
                    87.68513669570447
                  ],
                  "y": [
                    15.271809989889165
                  ],
                  "z": [
                    1.9518879155406332
                  ]
                },
                {
                  "marker": {
                    "color": [
                      0.8705882352941177,
                      0.6196078431372549,
                      0.8392156862745098,
                      1
                    ],
                    "size": 5
                  },
                  "mode": "markers",
                  "name": "SPEAKER 2",
                  "type": "scatter3d",
                  "x": [
                    -73.91841484175545
                  ],
                  "y": [
                    -1.2042177467807926
                  ],
                  "z": [
                    -23.05989256507351
                  ]
                },
                {
                  "marker": {
                    "color": [
                      0.8705882352941177,
                      0.6196078431372549,
                      0.8392156862745098,
                      1
                    ],
                    "size": 5
                  },
                  "mode": "markers",
                  "name": "SPEAKER 2",
                  "type": "scatter3d",
                  "x": [
                    -58.72582564259664
                  ],
                  "y": [
                    -45.45732427539255
                  ],
                  "z": [
                    12.106414435547089
                  ]
                },
                {
                  "marker": {
                    "color": [
                      0.8705882352941177,
                      0.6196078431372549,
                      0.8392156862745098,
                      1
                    ],
                    "size": 5
                  },
                  "mode": "markers",
                  "name": "SPEAKER 2",
                  "type": "scatter3d",
                  "x": [
                    -98.27675798296106
                  ],
                  "y": [
                    -54.3275636969071
                  ],
                  "z": [
                    -13.751070564999205
                  ]
                },
                {
                  "marker": {
                    "color": [
                      0.8705882352941177,
                      0.6196078431372549,
                      0.8392156862745098,
                      1
                    ],
                    "size": 5
                  },
                  "mode": "markers",
                  "name": "SPEAKER 2",
                  "type": "scatter3d",
                  "x": [
                    -30.663096231677187
                  ],
                  "y": [
                    -19.14059238918146
                  ],
                  "z": [
                    63.63898814390389
                  ]
                },
                {
                  "marker": {
                    "color": [
                      0.8705882352941177,
                      0.6196078431372549,
                      0.8392156862745098,
                      1
                    ],
                    "size": 5
                  },
                  "mode": "markers",
                  "name": "SPEAKER 2",
                  "type": "scatter3d",
                  "x": [
                    -65.545423138527
                  ],
                  "y": [
                    11.637992473177647
                  ],
                  "z": [
                    32.98477438822346
                  ]
                },
                {
                  "marker": {
                    "color": [
                      0.8705882352941177,
                      0.6196078431372549,
                      0.8392156862745098,
                      1
                    ],
                    "size": 5
                  },
                  "mode": "markers",
                  "name": "SPEAKER 2",
                  "type": "scatter3d",
                  "x": [
                    -22.36247464890893
                  ],
                  "y": [
                    -21.21689365189042
                  ],
                  "z": [
                    88.96422148482276
                  ]
                },
                {
                  "marker": {
                    "color": [
                      0.2235294117647059,
                      0.23137254901960785,
                      0.4745098039215686,
                      1
                    ],
                    "size": 5
                  },
                  "mode": "markers",
                  "name": "SPEAKER 1",
                  "type": "scatter3d",
                  "x": [
                    71.45107904229936
                  ],
                  "y": [
                    19.668380807492458
                  ],
                  "z": [
                    15.54011506544011
                  ]
                },
                {
                  "marker": {
                    "color": [
                      0.2235294117647059,
                      0.23137254901960785,
                      0.4745098039215686,
                      1
                    ],
                    "size": 5
                  },
                  "mode": "markers",
                  "name": "SPEAKER 1",
                  "type": "scatter3d",
                  "x": [
                    75.89339725156947
                  ],
                  "y": [
                    17.940599313033548
                  ],
                  "z": [
                    -12.562395304657375
                  ]
                },
                {
                  "marker": {
                    "color": [
                      0.2235294117647059,
                      0.23137254901960785,
                      0.4745098039215686,
                      1
                    ],
                    "size": 5
                  },
                  "mode": "markers",
                  "name": "SPEAKER 1",
                  "type": "scatter3d",
                  "x": [
                    80.01580145984724
                  ],
                  "y": [
                    19.329423554430075
                  ],
                  "z": [
                    43.93807160301961
                  ]
                },
                {
                  "marker": {
                    "color": [
                      0.8705882352941177,
                      0.6196078431372549,
                      0.8392156862745098,
                      1
                    ],
                    "size": 5
                  },
                  "mode": "markers",
                  "name": "SPEAKER 2",
                  "type": "scatter3d",
                  "x": [
                    -125.88363468892277
                  ],
                  "y": [
                    -114.82332610734558
                  ],
                  "z": [
                    -11.17677006738388
                  ]
                },
                {
                  "marker": {
                    "color": [
                      0.8705882352941177,
                      0.6196078431372549,
                      0.8392156862745098,
                      1
                    ],
                    "size": 5
                  },
                  "mode": "markers",
                  "name": "SPEAKER 2",
                  "type": "scatter3d",
                  "x": [
                    -49.12842247494
                  ],
                  "y": [
                    15.47865172599748
                  ],
                  "z": [
                    -13.887364264493987
                  ]
                },
                {
                  "marker": {
                    "color": [
                      0.8705882352941177,
                      0.6196078431372549,
                      0.8392156862745098,
                      1
                    ],
                    "size": 5
                  },
                  "mode": "markers",
                  "name": "SPEAKER 2",
                  "type": "scatter3d",
                  "x": [
                    -96.13764622115038
                  ],
                  "y": [
                    55.67877853205899
                  ],
                  "z": [
                    -10.897588698764357
                  ]
                },
                {
                  "marker": {
                    "color": [
                      0.2235294117647059,
                      0.23137254901960785,
                      0.4745098039215686,
                      1
                    ],
                    "size": 5
                  },
                  "mode": "markers",
                  "name": "SPEAKER 1",
                  "type": "scatter3d",
                  "x": [
                    -47.03846544225971
                  ],
                  "y": [
                    -9.599475189646562
                  ],
                  "z": [
                    -32.29628977242095
                  ]
                },
                {
                  "marker": {
                    "color": [
                      0.8705882352941177,
                      0.6196078431372549,
                      0.8392156862745098,
                      1
                    ],
                    "size": 5
                  },
                  "mode": "markers",
                  "name": "SPEAKER 2",
                  "type": "scatter3d",
                  "x": [
                    -58.483806160299245
                  ],
                  "y": [
                    10.12380926498605
                  ],
                  "z": [
                    -21.49854636487119
                  ]
                },
                {
                  "marker": {
                    "color": [
                      0.8705882352941177,
                      0.6196078431372549,
                      0.8392156862745098,
                      1
                    ],
                    "size": 5
                  },
                  "mode": "markers",
                  "name": "SPEAKER 2",
                  "type": "scatter3d",
                  "x": [
                    -69.23453900017896
                  ],
                  "y": [
                    -28.99842950805634
                  ],
                  "z": [
                    -22.104835111347604
                  ]
                },
                {
                  "marker": {
                    "color": [
                      0.8705882352941177,
                      0.6196078431372549,
                      0.8392156862745098,
                      1
                    ],
                    "size": 5
                  },
                  "mode": "markers",
                  "name": "SPEAKER 2",
                  "type": "scatter3d",
                  "x": [
                    -62.987889862640614
                  ],
                  "y": [
                    -54.006710610828236
                  ],
                  "z": [
                    -20.69796511947947
                  ]
                },
                {
                  "marker": {
                    "color": [
                      0.8705882352941177,
                      0.6196078431372549,
                      0.8392156862745098,
                      1
                    ],
                    "size": 5
                  },
                  "mode": "markers",
                  "name": "SPEAKER 2",
                  "type": "scatter3d",
                  "x": [
                    -52.26851117932011
                  ],
                  "y": [
                    13.234948376585514
                  ],
                  "z": [
                    0.11994870568336317
                  ]
                },
                {
                  "marker": {
                    "color": [
                      0.2235294117647059,
                      0.23137254901960785,
                      0.4745098039215686,
                      1
                    ],
                    "size": 5
                  },
                  "mode": "markers",
                  "name": "SPEAKER 1",
                  "type": "scatter3d",
                  "x": [
                    104.6779769415603
                  ],
                  "y": [
                    11.824344399255986
                  ],
                  "z": [
                    -35.54378384117003
                  ]
                },
                {
                  "marker": {
                    "color": [
                      0.8705882352941177,
                      0.6196078431372549,
                      0.8392156862745098,
                      1
                    ],
                    "size": 5
                  },
                  "mode": "markers",
                  "name": "SPEAKER 2",
                  "type": "scatter3d",
                  "x": [
                    4.508302037479238
                  ],
                  "y": [
                    -111.34386637572176
                  ],
                  "z": [
                    27.985888182491397
                  ]
                },
                {
                  "marker": {
                    "color": [
                      0.2235294117647059,
                      0.23137254901960785,
                      0.4745098039215686,
                      1
                    ],
                    "size": 5
                  },
                  "mode": "markers",
                  "name": "SPEAKER 1",
                  "type": "scatter3d",
                  "x": [
                    25.81264749243329
                  ],
                  "y": [
                    24.65166894917513
                  ],
                  "z": [
                    -40.79944985022729
                  ]
                },
                {
                  "marker": {
                    "color": [
                      0.2235294117647059,
                      0.23137254901960785,
                      0.4745098039215686,
                      1
                    ],
                    "size": 5
                  },
                  "mode": "markers",
                  "name": "SPEAKER 1",
                  "type": "scatter3d",
                  "x": [
                    8.230191656605376
                  ],
                  "y": [
                    3.4808051927174906
                  ],
                  "z": [
                    -19.587493018624176
                  ]
                },
                {
                  "marker": {
                    "color": [
                      0.2235294117647059,
                      0.23137254901960785,
                      0.4745098039215686,
                      1
                    ],
                    "size": 5
                  },
                  "mode": "markers",
                  "name": "SPEAKER 1",
                  "type": "scatter3d",
                  "x": [
                    11.923935826532658
                  ],
                  "y": [
                    26.46352808587622
                  ],
                  "z": [
                    45.624054171171046
                  ]
                },
                {
                  "marker": {
                    "color": [
                      0.2235294117647059,
                      0.23137254901960785,
                      0.4745098039215686,
                      1
                    ],
                    "size": 5
                  },
                  "mode": "markers",
                  "name": "SPEAKER 1",
                  "type": "scatter3d",
                  "x": [
                    105.93957804696099
                  ],
                  "y": [
                    -45.797776644409616
                  ],
                  "z": [
                    -56.97031556491928
                  ]
                },
                {
                  "marker": {
                    "color": [
                      0.8705882352941177,
                      0.6196078431372549,
                      0.8392156862745098,
                      1
                    ],
                    "size": 5
                  },
                  "mode": "markers",
                  "name": "SPEAKER 2",
                  "type": "scatter3d",
                  "x": [
                    -55.14814109953753
                  ],
                  "y": [
                    -40.72025760675532
                  ],
                  "z": [
                    150.24071185501415
                  ]
                },
                {
                  "marker": {
                    "color": [
                      0.2235294117647059,
                      0.23137254901960785,
                      0.4745098039215686,
                      1
                    ],
                    "size": 5
                  },
                  "mode": "markers",
                  "name": "SPEAKER 1",
                  "type": "scatter3d",
                  "x": [
                    -55.51628245075498
                  ],
                  "y": [
                    207.05914124858398
                  ],
                  "z": [
                    34.37361370239453
                  ]
                },
                {
                  "marker": {
                    "color": [
                      0.2235294117647059,
                      0.23137254901960785,
                      0.4745098039215686,
                      1
                    ],
                    "size": 5
                  },
                  "mode": "markers",
                  "name": "SPEAKER 1",
                  "type": "scatter3d",
                  "x": [
                    29.325293405600295
                  ],
                  "y": [
                    -26.39593757944786
                  ],
                  "z": [
                    -78.64170299852059
                  ]
                },
                {
                  "marker": {
                    "color": [
                      0.2235294117647059,
                      0.23137254901960785,
                      0.4745098039215686,
                      1
                    ],
                    "size": 5
                  },
                  "mode": "markers",
                  "name": "SPEAKER 1",
                  "type": "scatter3d",
                  "x": [
                    29.19032013838449
                  ],
                  "y": [
                    101.95979161646454
                  ],
                  "z": [
                    -8.258820518327271
                  ]
                },
                {
                  "marker": {
                    "color": [
                      0.8705882352941177,
                      0.6196078431372549,
                      0.8392156862745098,
                      1
                    ],
                    "size": 5
                  },
                  "mode": "markers",
                  "name": "SPEAKER 2",
                  "type": "scatter3d",
                  "x": [
                    -62.794854227330404
                  ],
                  "y": [
                    20.544207874394793
                  ],
                  "z": [
                    132.26868985731474
                  ]
                },
                {
                  "marker": {
                    "color": [
                      0.2235294117647059,
                      0.23137254901960785,
                      0.4745098039215686,
                      1
                    ],
                    "size": 5
                  },
                  "mode": "markers",
                  "name": "SPEAKER 1",
                  "type": "scatter3d",
                  "x": [
                    -0.3711393213037566
                  ],
                  "y": [
                    100.18406924866524
                  ],
                  "z": [
                    -8.462541625415373
                  ]
                },
                {
                  "marker": {
                    "color": [
                      0.2235294117647059,
                      0.23137254901960785,
                      0.4745098039215686,
                      1
                    ],
                    "size": 5
                  },
                  "mode": "markers",
                  "name": "SPEAKER 1",
                  "type": "scatter3d",
                  "x": [
                    -60.31476668299918
                  ],
                  "y": [
                    62.668359213507465
                  ],
                  "z": [
                    -55.63540671374062
                  ]
                },
                {
                  "marker": {
                    "color": [
                      0.8705882352941177,
                      0.6196078431372549,
                      0.8392156862745098,
                      1
                    ],
                    "size": 5
                  },
                  "mode": "markers",
                  "name": "SPEAKER 2",
                  "type": "scatter3d",
                  "x": [
                    -65.22316600900312
                  ],
                  "y": [
                    -24.664581230045556
                  ],
                  "z": [
                    -34.322201137519976
                  ]
                },
                {
                  "marker": {
                    "color": [
                      0.2235294117647059,
                      0.23137254901960785,
                      0.4745098039215686,
                      1
                    ],
                    "size": 5
                  },
                  "mode": "markers",
                  "name": "SPEAKER 1",
                  "type": "scatter3d",
                  "x": [
                    3.8665345644508604
                  ],
                  "y": [
                    -40.28405443673681
                  ],
                  "z": [
                    -26.09769139622647
                  ]
                },
                {
                  "marker": {
                    "color": [
                      0.2235294117647059,
                      0.23137254901960785,
                      0.4745098039215686,
                      1
                    ],
                    "size": 5
                  },
                  "mode": "markers",
                  "name": "SPEAKER 1",
                  "type": "scatter3d",
                  "x": [
                    20.813100648444397
                  ],
                  "y": [
                    -69.76963733379968
                  ],
                  "z": [
                    -65.44834585351761
                  ]
                },
                {
                  "marker": {
                    "color": [
                      0.8705882352941177,
                      0.6196078431372549,
                      0.8392156862745098,
                      1
                    ],
                    "size": 5
                  },
                  "mode": "markers",
                  "name": "SPEAKER 2",
                  "type": "scatter3d",
                  "x": [
                    -52.794554026722054
                  ],
                  "y": [
                    38.207682226226964
                  ],
                  "z": [
                    -59.14245900649933
                  ]
                },
                {
                  "marker": {
                    "color": [
                      0.2235294117647059,
                      0.23137254901960785,
                      0.4745098039215686,
                      1
                    ],
                    "size": 5
                  },
                  "mode": "markers",
                  "name": "SPEAKER 1",
                  "type": "scatter3d",
                  "x": [
                    120.89763840156672
                  ],
                  "y": [
                    3.034905893079518
                  ],
                  "z": [
                    6.784504917198823
                  ]
                },
                {
                  "marker": {
                    "color": [
                      0.8705882352941177,
                      0.6196078431372549,
                      0.8392156862745098,
                      1
                    ],
                    "size": 5
                  },
                  "mode": "markers",
                  "name": "SPEAKER 2",
                  "type": "scatter3d",
                  "x": [
                    -14.41154891146093
                  ],
                  "y": [
                    -74.73175106975609
                  ],
                  "z": [
                    46.77437954293644
                  ]
                },
                {
                  "marker": {
                    "color": [
                      0.2235294117647059,
                      0.23137254901960785,
                      0.4745098039215686,
                      1
                    ],
                    "size": 5
                  },
                  "mode": "markers",
                  "name": "SPEAKER 1",
                  "type": "scatter3d",
                  "x": [
                    157.28043257044587
                  ],
                  "y": [
                    2.8231516415789137
                  ],
                  "z": [
                    32.68604327985097
                  ]
                },
                {
                  "marker": {
                    "color": [
                      0.2235294117647059,
                      0.23137254901960785,
                      0.4745098039215686,
                      1
                    ],
                    "size": 5
                  },
                  "mode": "markers",
                  "name": "SPEAKER 1",
                  "type": "scatter3d",
                  "x": [
                    151.61488341873036
                  ],
                  "y": [
                    -9.063619081838471
                  ],
                  "z": [
                    21.805981282241916
                  ]
                },
                {
                  "marker": {
                    "color": [
                      0.2235294117647059,
                      0.23137254901960785,
                      0.4745098039215686,
                      1
                    ],
                    "size": 5
                  },
                  "mode": "markers",
                  "name": "SPEAKER 1",
                  "type": "scatter3d",
                  "x": [
                    125.91319782196163
                  ],
                  "y": [
                    -14.70087596007441
                  ],
                  "z": [
                    3.914207796445805
                  ]
                }
              ],
              "layout": {
                "scene": {
                  "xaxis": {
                    "title": {
                      "text": "Principal Component 1"
                    }
                  },
                  "yaxis": {
                    "title": {
                      "text": "Principal Component 2"
                    }
                  },
                  "zaxis": {
                    "title": {
                      "text": "Principal Component 3"
                    }
                  }
                },
                "template": {
                  "data": {
                    "bar": [
                      {
                        "error_x": {
                          "color": "#2a3f5f"
                        },
                        "error_y": {
                          "color": "#2a3f5f"
                        },
                        "marker": {
                          "line": {
                            "color": "#E5ECF6",
                            "width": 0.5
                          },
                          "pattern": {
                            "fillmode": "overlay",
                            "size": 10,
                            "solidity": 0.2
                          }
                        },
                        "type": "bar"
                      }
                    ],
                    "barpolar": [
                      {
                        "marker": {
                          "line": {
                            "color": "#E5ECF6",
                            "width": 0.5
                          },
                          "pattern": {
                            "fillmode": "overlay",
                            "size": 10,
                            "solidity": 0.2
                          }
                        },
                        "type": "barpolar"
                      }
                    ],
                    "carpet": [
                      {
                        "aaxis": {
                          "endlinecolor": "#2a3f5f",
                          "gridcolor": "white",
                          "linecolor": "white",
                          "minorgridcolor": "white",
                          "startlinecolor": "#2a3f5f"
                        },
                        "baxis": {
                          "endlinecolor": "#2a3f5f",
                          "gridcolor": "white",
                          "linecolor": "white",
                          "minorgridcolor": "white",
                          "startlinecolor": "#2a3f5f"
                        },
                        "type": "carpet"
                      }
                    ],
                    "choropleth": [
                      {
                        "colorbar": {
                          "outlinewidth": 0,
                          "ticks": ""
                        },
                        "type": "choropleth"
                      }
                    ],
                    "contour": [
                      {
                        "colorbar": {
                          "outlinewidth": 0,
                          "ticks": ""
                        },
                        "colorscale": [
                          [
                            0,
                            "#0d0887"
                          ],
                          [
                            0.1111111111111111,
                            "#46039f"
                          ],
                          [
                            0.2222222222222222,
                            "#7201a8"
                          ],
                          [
                            0.3333333333333333,
                            "#9c179e"
                          ],
                          [
                            0.4444444444444444,
                            "#bd3786"
                          ],
                          [
                            0.5555555555555556,
                            "#d8576b"
                          ],
                          [
                            0.6666666666666666,
                            "#ed7953"
                          ],
                          [
                            0.7777777777777778,
                            "#fb9f3a"
                          ],
                          [
                            0.8888888888888888,
                            "#fdca26"
                          ],
                          [
                            1,
                            "#f0f921"
                          ]
                        ],
                        "type": "contour"
                      }
                    ],
                    "contourcarpet": [
                      {
                        "colorbar": {
                          "outlinewidth": 0,
                          "ticks": ""
                        },
                        "type": "contourcarpet"
                      }
                    ],
                    "heatmap": [
                      {
                        "colorbar": {
                          "outlinewidth": 0,
                          "ticks": ""
                        },
                        "colorscale": [
                          [
                            0,
                            "#0d0887"
                          ],
                          [
                            0.1111111111111111,
                            "#46039f"
                          ],
                          [
                            0.2222222222222222,
                            "#7201a8"
                          ],
                          [
                            0.3333333333333333,
                            "#9c179e"
                          ],
                          [
                            0.4444444444444444,
                            "#bd3786"
                          ],
                          [
                            0.5555555555555556,
                            "#d8576b"
                          ],
                          [
                            0.6666666666666666,
                            "#ed7953"
                          ],
                          [
                            0.7777777777777778,
                            "#fb9f3a"
                          ],
                          [
                            0.8888888888888888,
                            "#fdca26"
                          ],
                          [
                            1,
                            "#f0f921"
                          ]
                        ],
                        "type": "heatmap"
                      }
                    ],
                    "heatmapgl": [
                      {
                        "colorbar": {
                          "outlinewidth": 0,
                          "ticks": ""
                        },
                        "colorscale": [
                          [
                            0,
                            "#0d0887"
                          ],
                          [
                            0.1111111111111111,
                            "#46039f"
                          ],
                          [
                            0.2222222222222222,
                            "#7201a8"
                          ],
                          [
                            0.3333333333333333,
                            "#9c179e"
                          ],
                          [
                            0.4444444444444444,
                            "#bd3786"
                          ],
                          [
                            0.5555555555555556,
                            "#d8576b"
                          ],
                          [
                            0.6666666666666666,
                            "#ed7953"
                          ],
                          [
                            0.7777777777777778,
                            "#fb9f3a"
                          ],
                          [
                            0.8888888888888888,
                            "#fdca26"
                          ],
                          [
                            1,
                            "#f0f921"
                          ]
                        ],
                        "type": "heatmapgl"
                      }
                    ],
                    "histogram": [
                      {
                        "marker": {
                          "pattern": {
                            "fillmode": "overlay",
                            "size": 10,
                            "solidity": 0.2
                          }
                        },
                        "type": "histogram"
                      }
                    ],
                    "histogram2d": [
                      {
                        "colorbar": {
                          "outlinewidth": 0,
                          "ticks": ""
                        },
                        "colorscale": [
                          [
                            0,
                            "#0d0887"
                          ],
                          [
                            0.1111111111111111,
                            "#46039f"
                          ],
                          [
                            0.2222222222222222,
                            "#7201a8"
                          ],
                          [
                            0.3333333333333333,
                            "#9c179e"
                          ],
                          [
                            0.4444444444444444,
                            "#bd3786"
                          ],
                          [
                            0.5555555555555556,
                            "#d8576b"
                          ],
                          [
                            0.6666666666666666,
                            "#ed7953"
                          ],
                          [
                            0.7777777777777778,
                            "#fb9f3a"
                          ],
                          [
                            0.8888888888888888,
                            "#fdca26"
                          ],
                          [
                            1,
                            "#f0f921"
                          ]
                        ],
                        "type": "histogram2d"
                      }
                    ],
                    "histogram2dcontour": [
                      {
                        "colorbar": {
                          "outlinewidth": 0,
                          "ticks": ""
                        },
                        "colorscale": [
                          [
                            0,
                            "#0d0887"
                          ],
                          [
                            0.1111111111111111,
                            "#46039f"
                          ],
                          [
                            0.2222222222222222,
                            "#7201a8"
                          ],
                          [
                            0.3333333333333333,
                            "#9c179e"
                          ],
                          [
                            0.4444444444444444,
                            "#bd3786"
                          ],
                          [
                            0.5555555555555556,
                            "#d8576b"
                          ],
                          [
                            0.6666666666666666,
                            "#ed7953"
                          ],
                          [
                            0.7777777777777778,
                            "#fb9f3a"
                          ],
                          [
                            0.8888888888888888,
                            "#fdca26"
                          ],
                          [
                            1,
                            "#f0f921"
                          ]
                        ],
                        "type": "histogram2dcontour"
                      }
                    ],
                    "mesh3d": [
                      {
                        "colorbar": {
                          "outlinewidth": 0,
                          "ticks": ""
                        },
                        "type": "mesh3d"
                      }
                    ],
                    "parcoords": [
                      {
                        "line": {
                          "colorbar": {
                            "outlinewidth": 0,
                            "ticks": ""
                          }
                        },
                        "type": "parcoords"
                      }
                    ],
                    "pie": [
                      {
                        "automargin": true,
                        "type": "pie"
                      }
                    ],
                    "scatter": [
                      {
                        "fillpattern": {
                          "fillmode": "overlay",
                          "size": 10,
                          "solidity": 0.2
                        },
                        "type": "scatter"
                      }
                    ],
                    "scatter3d": [
                      {
                        "line": {
                          "colorbar": {
                            "outlinewidth": 0,
                            "ticks": ""
                          }
                        },
                        "marker": {
                          "colorbar": {
                            "outlinewidth": 0,
                            "ticks": ""
                          }
                        },
                        "type": "scatter3d"
                      }
                    ],
                    "scattercarpet": [
                      {
                        "marker": {
                          "colorbar": {
                            "outlinewidth": 0,
                            "ticks": ""
                          }
                        },
                        "type": "scattercarpet"
                      }
                    ],
                    "scattergeo": [
                      {
                        "marker": {
                          "colorbar": {
                            "outlinewidth": 0,
                            "ticks": ""
                          }
                        },
                        "type": "scattergeo"
                      }
                    ],
                    "scattergl": [
                      {
                        "marker": {
                          "colorbar": {
                            "outlinewidth": 0,
                            "ticks": ""
                          }
                        },
                        "type": "scattergl"
                      }
                    ],
                    "scattermapbox": [
                      {
                        "marker": {
                          "colorbar": {
                            "outlinewidth": 0,
                            "ticks": ""
                          }
                        },
                        "type": "scattermapbox"
                      }
                    ],
                    "scatterpolar": [
                      {
                        "marker": {
                          "colorbar": {
                            "outlinewidth": 0,
                            "ticks": ""
                          }
                        },
                        "type": "scatterpolar"
                      }
                    ],
                    "scatterpolargl": [
                      {
                        "marker": {
                          "colorbar": {
                            "outlinewidth": 0,
                            "ticks": ""
                          }
                        },
                        "type": "scatterpolargl"
                      }
                    ],
                    "scatterternary": [
                      {
                        "marker": {
                          "colorbar": {
                            "outlinewidth": 0,
                            "ticks": ""
                          }
                        },
                        "type": "scatterternary"
                      }
                    ],
                    "surface": [
                      {
                        "colorbar": {
                          "outlinewidth": 0,
                          "ticks": ""
                        },
                        "colorscale": [
                          [
                            0,
                            "#0d0887"
                          ],
                          [
                            0.1111111111111111,
                            "#46039f"
                          ],
                          [
                            0.2222222222222222,
                            "#7201a8"
                          ],
                          [
                            0.3333333333333333,
                            "#9c179e"
                          ],
                          [
                            0.4444444444444444,
                            "#bd3786"
                          ],
                          [
                            0.5555555555555556,
                            "#d8576b"
                          ],
                          [
                            0.6666666666666666,
                            "#ed7953"
                          ],
                          [
                            0.7777777777777778,
                            "#fb9f3a"
                          ],
                          [
                            0.8888888888888888,
                            "#fdca26"
                          ],
                          [
                            1,
                            "#f0f921"
                          ]
                        ],
                        "type": "surface"
                      }
                    ],
                    "table": [
                      {
                        "cells": {
                          "fill": {
                            "color": "#EBF0F8"
                          },
                          "line": {
                            "color": "white"
                          }
                        },
                        "header": {
                          "fill": {
                            "color": "#C8D4E3"
                          },
                          "line": {
                            "color": "white"
                          }
                        },
                        "type": "table"
                      }
                    ]
                  },
                  "layout": {
                    "annotationdefaults": {
                      "arrowcolor": "#2a3f5f",
                      "arrowhead": 0,
                      "arrowwidth": 1
                    },
                    "autotypenumbers": "strict",
                    "coloraxis": {
                      "colorbar": {
                        "outlinewidth": 0,
                        "ticks": ""
                      }
                    },
                    "colorscale": {
                      "diverging": [
                        [
                          0,
                          "#8e0152"
                        ],
                        [
                          0.1,
                          "#c51b7d"
                        ],
                        [
                          0.2,
                          "#de77ae"
                        ],
                        [
                          0.3,
                          "#f1b6da"
                        ],
                        [
                          0.4,
                          "#fde0ef"
                        ],
                        [
                          0.5,
                          "#f7f7f7"
                        ],
                        [
                          0.6,
                          "#e6f5d0"
                        ],
                        [
                          0.7,
                          "#b8e186"
                        ],
                        [
                          0.8,
                          "#7fbc41"
                        ],
                        [
                          0.9,
                          "#4d9221"
                        ],
                        [
                          1,
                          "#276419"
                        ]
                      ],
                      "sequential": [
                        [
                          0,
                          "#0d0887"
                        ],
                        [
                          0.1111111111111111,
                          "#46039f"
                        ],
                        [
                          0.2222222222222222,
                          "#7201a8"
                        ],
                        [
                          0.3333333333333333,
                          "#9c179e"
                        ],
                        [
                          0.4444444444444444,
                          "#bd3786"
                        ],
                        [
                          0.5555555555555556,
                          "#d8576b"
                        ],
                        [
                          0.6666666666666666,
                          "#ed7953"
                        ],
                        [
                          0.7777777777777778,
                          "#fb9f3a"
                        ],
                        [
                          0.8888888888888888,
                          "#fdca26"
                        ],
                        [
                          1,
                          "#f0f921"
                        ]
                      ],
                      "sequentialminus": [
                        [
                          0,
                          "#0d0887"
                        ],
                        [
                          0.1111111111111111,
                          "#46039f"
                        ],
                        [
                          0.2222222222222222,
                          "#7201a8"
                        ],
                        [
                          0.3333333333333333,
                          "#9c179e"
                        ],
                        [
                          0.4444444444444444,
                          "#bd3786"
                        ],
                        [
                          0.5555555555555556,
                          "#d8576b"
                        ],
                        [
                          0.6666666666666666,
                          "#ed7953"
                        ],
                        [
                          0.7777777777777778,
                          "#fb9f3a"
                        ],
                        [
                          0.8888888888888888,
                          "#fdca26"
                        ],
                        [
                          1,
                          "#f0f921"
                        ]
                      ]
                    },
                    "colorway": [
                      "#636efa",
                      "#EF553B",
                      "#00cc96",
                      "#ab63fa",
                      "#FFA15A",
                      "#19d3f3",
                      "#FF6692",
                      "#B6E880",
                      "#FF97FF",
                      "#FECB52"
                    ],
                    "font": {
                      "color": "#2a3f5f"
                    },
                    "geo": {
                      "bgcolor": "white",
                      "lakecolor": "white",
                      "landcolor": "#E5ECF6",
                      "showlakes": true,
                      "showland": true,
                      "subunitcolor": "white"
                    },
                    "hoverlabel": {
                      "align": "left"
                    },
                    "hovermode": "closest",
                    "mapbox": {
                      "style": "light"
                    },
                    "paper_bgcolor": "white",
                    "plot_bgcolor": "#E5ECF6",
                    "polar": {
                      "angularaxis": {
                        "gridcolor": "white",
                        "linecolor": "white",
                        "ticks": ""
                      },
                      "bgcolor": "#E5ECF6",
                      "radialaxis": {
                        "gridcolor": "white",
                        "linecolor": "white",
                        "ticks": ""
                      }
                    },
                    "scene": {
                      "xaxis": {
                        "backgroundcolor": "#E5ECF6",
                        "gridcolor": "white",
                        "gridwidth": 2,
                        "linecolor": "white",
                        "showbackground": true,
                        "ticks": "",
                        "zerolinecolor": "white"
                      },
                      "yaxis": {
                        "backgroundcolor": "#E5ECF6",
                        "gridcolor": "white",
                        "gridwidth": 2,
                        "linecolor": "white",
                        "showbackground": true,
                        "ticks": "",
                        "zerolinecolor": "white"
                      },
                      "zaxis": {
                        "backgroundcolor": "#E5ECF6",
                        "gridcolor": "white",
                        "gridwidth": 2,
                        "linecolor": "white",
                        "showbackground": true,
                        "ticks": "",
                        "zerolinecolor": "white"
                      }
                    },
                    "shapedefaults": {
                      "line": {
                        "color": "#2a3f5f"
                      }
                    },
                    "ternary": {
                      "aaxis": {
                        "gridcolor": "white",
                        "linecolor": "white",
                        "ticks": ""
                      },
                      "baxis": {
                        "gridcolor": "white",
                        "linecolor": "white",
                        "ticks": ""
                      },
                      "bgcolor": "#E5ECF6",
                      "caxis": {
                        "gridcolor": "white",
                        "linecolor": "white",
                        "ticks": ""
                      }
                    },
                    "title": {
                      "x": 0.05
                    },
                    "xaxis": {
                      "automargin": true,
                      "gridcolor": "white",
                      "linecolor": "white",
                      "ticks": "",
                      "title": {
                        "standoff": 15
                      },
                      "zerolinecolor": "white",
                      "zerolinewidth": 2
                    },
                    "yaxis": {
                      "automargin": true,
                      "gridcolor": "white",
                      "linecolor": "white",
                      "ticks": "",
                      "title": {
                        "standoff": 15
                      },
                      "zerolinecolor": "white",
                      "zerolinewidth": 2
                    }
                  }
                },
                "title": {
                  "text": "Speaker Diarization Clusters (3D Visualization)"
                }
              }
            }
          },
          "metadata": {},
          "output_type": "display_data"
        }
      ],
      "source": [
        "import numpy as np\n",
        "import plotly.graph_objects as go\n",
        "from sklearn.decomposition import PCA\n",
        "import matplotlib.cm as cm\n",
        "\n",
        "# Your existing code for clustering and labeling segments...\n",
        "\n",
        "# Perform PCA to reduce the dimensionality of embeddings to 3D\n",
        "pca = PCA(n_components=3, random_state=42)\n",
        "embeddings_3d = pca.fit_transform(embeddings)\n",
        "\n",
        "# Get the number of unique speakers from the labels\n",
        "num_unique_speakers = len(np.unique(labels))\n",
        "\n",
        "# Create a colormap for speakers, ensuring each speaker gets a unique color\n",
        "colors = cm.tab20b(np.linspace(0, 1, num_unique_speakers))\n",
        "\n",
        "# Prepare the data for the 3D scatter plot\n",
        "data = []\n",
        "for i, segment in enumerate(segments):\n",
        "    speaker_id = labels[i] + 1\n",
        "    x, y, z = embeddings_3d[i]\n",
        "    color = colors[labels[i] % num_unique_speakers]  # Get the corresponding color for the speaker\n",
        "    trace = go.Scatter3d(x=[x], y=[y], z=[z], mode='markers',\n",
        "                         marker=dict(size=5, color=color),\n",
        "                         name=f'SPEAKER {speaker_id}')\n",
        "    data.append(trace)\n",
        "\n",
        "# Layout for the 3D scatter plot\n",
        "layout = go.Layout(\n",
        "    title=\"Speaker Diarization Clusters (3D Visualization)\",\n",
        "    scene=dict(\n",
        "        xaxis_title=\"Principal Component 1\",\n",
        "        yaxis_title=\"Principal Component 2\",\n",
        "        zaxis_title=\"Principal Component 3\"\n",
        "    )\n",
        ")\n",
        "\n",
        "# Create the figure and plot the 3D scatter plot\n",
        "fig = go.Figure(data=data, layout=layout)\n",
        "fig.show()\n"
      ]
    },
    {
      "cell_type": "code",
      "execution_count": null,
      "metadata": {
        "id": "9uWjmemUW5Zj"
      },
      "outputs": [],
      "source": []
    }
  ],
  "metadata": {
    "accelerator": "GPU",
    "colab": {
      "gpuType": "V100",
      "machine_shape": "hm",
      "provenance": []
    },
    "kernelspec": {
      "display_name": "Python 3",
      "name": "python3"
    },
    "language_info": {
      "codemirror_mode": {
        "name": "ipython",
        "version": 3
      },
      "file_extension": ".py",
      "mimetype": "text/x-python",
      "name": "python",
      "nbconvert_exporter": "python",
      "pygments_lexer": "ipython3",
      "version": "3.11.4"
    },
    "widgets": {
      "application/vnd.jupyter.widget-state+json": {
        "06ea8198faba45949ff0aff7484acc2f": {
          "model_module": "@jupyter-widgets/controls",
          "model_module_version": "1.5.0",
          "model_name": "DescriptionStyleModel",
          "state": {
            "_model_module": "@jupyter-widgets/controls",
            "_model_module_version": "1.5.0",
            "_model_name": "DescriptionStyleModel",
            "_view_count": null,
            "_view_module": "@jupyter-widgets/base",
            "_view_module_version": "1.2.0",
            "_view_name": "StyleView",
            "description_width": ""
          }
        },
        "105166bd7fe54e4e9abacfeebcb17be7": {
          "model_module": "@jupyter-widgets/base",
          "model_module_version": "1.2.0",
          "model_name": "LayoutModel",
          "state": {
            "_model_module": "@jupyter-widgets/base",
            "_model_module_version": "1.2.0",
            "_model_name": "LayoutModel",
            "_view_count": null,
            "_view_module": "@jupyter-widgets/base",
            "_view_module_version": "1.2.0",
            "_view_name": "LayoutView",
            "align_content": null,
            "align_items": null,
            "align_self": null,
            "border": null,
            "bottom": null,
            "display": null,
            "flex": null,
            "flex_flow": null,
            "grid_area": null,
            "grid_auto_columns": null,
            "grid_auto_flow": null,
            "grid_auto_rows": null,
            "grid_column": null,
            "grid_gap": null,
            "grid_row": null,
            "grid_template_areas": null,
            "grid_template_columns": null,
            "grid_template_rows": null,
            "height": null,
            "justify_content": null,
            "justify_items": null,
            "left": null,
            "margin": null,
            "max_height": null,
            "max_width": null,
            "min_height": null,
            "min_width": null,
            "object_fit": null,
            "object_position": null,
            "order": null,
            "overflow": null,
            "overflow_x": null,
            "overflow_y": null,
            "padding": null,
            "right": null,
            "top": null,
            "visibility": null,
            "width": null
          }
        },
        "253e22fc6dd1453bb11ba5138f36b7e1": {
          "model_module": "@jupyter-widgets/controls",
          "model_module_version": "1.5.0",
          "model_name": "DescriptionStyleModel",
          "state": {
            "_model_module": "@jupyter-widgets/controls",
            "_model_module_version": "1.5.0",
            "_model_name": "DescriptionStyleModel",
            "_view_count": null,
            "_view_module": "@jupyter-widgets/base",
            "_view_module_version": "1.2.0",
            "_view_name": "StyleView",
            "description_width": ""
          }
        },
        "271e63e09e7743b8a6f382b4e5acbc40": {
          "model_module": "@jupyter-widgets/controls",
          "model_module_version": "1.5.0",
          "model_name": "HTMLModel",
          "state": {
            "_dom_classes": [],
            "_model_module": "@jupyter-widgets/controls",
            "_model_module_version": "1.5.0",
            "_model_name": "HTMLModel",
            "_view_count": null,
            "_view_module": "@jupyter-widgets/controls",
            "_view_module_version": "1.5.0",
            "_view_name": "HTMLView",
            "description": "",
            "description_tooltip": null,
            "layout": "IPY_MODEL_28d3aa62320a4bf286884a4d1712fc54",
            "placeholder": "​",
            "style": "IPY_MODEL_a43cfe2da37340dfa0b55f62592a91d8",
            "value": "Downloading (…)ain/hyperparams.yaml: 100%"
          }
        },
        "28b351c089554f40942eb567211860bf": {
          "model_module": "@jupyter-widgets/controls",
          "model_module_version": "1.5.0",
          "model_name": "HTMLModel",
          "state": {
            "_dom_classes": [],
            "_model_module": "@jupyter-widgets/controls",
            "_model_module_version": "1.5.0",
            "_model_name": "HTMLModel",
            "_view_count": null,
            "_view_module": "@jupyter-widgets/controls",
            "_view_module_version": "1.5.0",
            "_view_name": "HTMLView",
            "description": "",
            "description_tooltip": null,
            "layout": "IPY_MODEL_4e533fa893714c8c80e7edf16c3cc618",
            "placeholder": "​",
            "style": "IPY_MODEL_aa0199cb9c39449a9d9038a628392c2a",
            "value": " 83.3M/83.3M [00:00&lt;00:00, 215MB/s]"
          }
        },
        "28d3aa62320a4bf286884a4d1712fc54": {
          "model_module": "@jupyter-widgets/base",
          "model_module_version": "1.2.0",
          "model_name": "LayoutModel",
          "state": {
            "_model_module": "@jupyter-widgets/base",
            "_model_module_version": "1.2.0",
            "_model_name": "LayoutModel",
            "_view_count": null,
            "_view_module": "@jupyter-widgets/base",
            "_view_module_version": "1.2.0",
            "_view_name": "LayoutView",
            "align_content": null,
            "align_items": null,
            "align_self": null,
            "border": null,
            "bottom": null,
            "display": null,
            "flex": null,
            "flex_flow": null,
            "grid_area": null,
            "grid_auto_columns": null,
            "grid_auto_flow": null,
            "grid_auto_rows": null,
            "grid_column": null,
            "grid_gap": null,
            "grid_row": null,
            "grid_template_areas": null,
            "grid_template_columns": null,
            "grid_template_rows": null,
            "height": null,
            "justify_content": null,
            "justify_items": null,
            "left": null,
            "margin": null,
            "max_height": null,
            "max_width": null,
            "min_height": null,
            "min_width": null,
            "object_fit": null,
            "object_position": null,
            "order": null,
            "overflow": null,
            "overflow_x": null,
            "overflow_y": null,
            "padding": null,
            "right": null,
            "top": null,
            "visibility": null,
            "width": null
          }
        },
        "2ce5976de1aa4d189e09c78348a0f25f": {
          "model_module": "@jupyter-widgets/base",
          "model_module_version": "1.2.0",
          "model_name": "LayoutModel",
          "state": {
            "_model_module": "@jupyter-widgets/base",
            "_model_module_version": "1.2.0",
            "_model_name": "LayoutModel",
            "_view_count": null,
            "_view_module": "@jupyter-widgets/base",
            "_view_module_version": "1.2.0",
            "_view_name": "LayoutView",
            "align_content": null,
            "align_items": null,
            "align_self": null,
            "border": null,
            "bottom": null,
            "display": null,
            "flex": null,
            "flex_flow": null,
            "grid_area": null,
            "grid_auto_columns": null,
            "grid_auto_flow": null,
            "grid_auto_rows": null,
            "grid_column": null,
            "grid_gap": null,
            "grid_row": null,
            "grid_template_areas": null,
            "grid_template_columns": null,
            "grid_template_rows": null,
            "height": null,
            "justify_content": null,
            "justify_items": null,
            "left": null,
            "margin": null,
            "max_height": null,
            "max_width": null,
            "min_height": null,
            "min_width": null,
            "object_fit": null,
            "object_position": null,
            "order": null,
            "overflow": null,
            "overflow_x": null,
            "overflow_y": null,
            "padding": null,
            "right": null,
            "top": null,
            "visibility": null,
            "width": null
          }
        },
        "2d2ab546b57141769d3b13f30a10287b": {
          "model_module": "@jupyter-widgets/controls",
          "model_module_version": "1.5.0",
          "model_name": "HTMLModel",
          "state": {
            "_dom_classes": [],
            "_model_module": "@jupyter-widgets/controls",
            "_model_module_version": "1.5.0",
            "_model_name": "HTMLModel",
            "_view_count": null,
            "_view_module": "@jupyter-widgets/controls",
            "_view_module_version": "1.5.0",
            "_view_name": "HTMLView",
            "description": "",
            "description_tooltip": null,
            "layout": "IPY_MODEL_3562842fec344497b966caba05af1e8b",
            "placeholder": "​",
            "style": "IPY_MODEL_6016ae447c92412d949550891304b020",
            "value": "Downloading classifier.ckpt: 100%"
          }
        },
        "3562842fec344497b966caba05af1e8b": {
          "model_module": "@jupyter-widgets/base",
          "model_module_version": "1.2.0",
          "model_name": "LayoutModel",
          "state": {
            "_model_module": "@jupyter-widgets/base",
            "_model_module_version": "1.2.0",
            "_model_name": "LayoutModel",
            "_view_count": null,
            "_view_module": "@jupyter-widgets/base",
            "_view_module_version": "1.2.0",
            "_view_name": "LayoutView",
            "align_content": null,
            "align_items": null,
            "align_self": null,
            "border": null,
            "bottom": null,
            "display": null,
            "flex": null,
            "flex_flow": null,
            "grid_area": null,
            "grid_auto_columns": null,
            "grid_auto_flow": null,
            "grid_auto_rows": null,
            "grid_column": null,
            "grid_gap": null,
            "grid_row": null,
            "grid_template_areas": null,
            "grid_template_columns": null,
            "grid_template_rows": null,
            "height": null,
            "justify_content": null,
            "justify_items": null,
            "left": null,
            "margin": null,
            "max_height": null,
            "max_width": null,
            "min_height": null,
            "min_width": null,
            "object_fit": null,
            "object_position": null,
            "order": null,
            "overflow": null,
            "overflow_x": null,
            "overflow_y": null,
            "padding": null,
            "right": null,
            "top": null,
            "visibility": null,
            "width": null
          }
        },
        "3b6b5c831b9843e792bbd3bb7d8438f5": {
          "model_module": "@jupyter-widgets/controls",
          "model_module_version": "1.5.0",
          "model_name": "HTMLModel",
          "state": {
            "_dom_classes": [],
            "_model_module": "@jupyter-widgets/controls",
            "_model_module_version": "1.5.0",
            "_model_name": "HTMLModel",
            "_view_count": null,
            "_view_module": "@jupyter-widgets/controls",
            "_view_module_version": "1.5.0",
            "_view_name": "HTMLView",
            "description": "",
            "description_tooltip": null,
            "layout": "IPY_MODEL_d1280f0c62ae43d28e2b6ec1b4d78cc8",
            "placeholder": "​",
            "style": "IPY_MODEL_a4f89c0b8a494a22ab8e47b6437e86d9",
            "value": "Downloading embedding_model.ckpt: 100%"
          }
        },
        "3bf5388c1c7e41ecb03ace96053d721f": {
          "model_module": "@jupyter-widgets/controls",
          "model_module_version": "1.5.0",
          "model_name": "ProgressStyleModel",
          "state": {
            "_model_module": "@jupyter-widgets/controls",
            "_model_module_version": "1.5.0",
            "_model_name": "ProgressStyleModel",
            "_view_count": null,
            "_view_module": "@jupyter-widgets/base",
            "_view_module_version": "1.2.0",
            "_view_name": "StyleView",
            "bar_color": null,
            "description_width": ""
          }
        },
        "3ff67e8de1fe4173b134a6521eaa8368": {
          "model_module": "@jupyter-widgets/base",
          "model_module_version": "1.2.0",
          "model_name": "LayoutModel",
          "state": {
            "_model_module": "@jupyter-widgets/base",
            "_model_module_version": "1.2.0",
            "_model_name": "LayoutModel",
            "_view_count": null,
            "_view_module": "@jupyter-widgets/base",
            "_view_module_version": "1.2.0",
            "_view_name": "LayoutView",
            "align_content": null,
            "align_items": null,
            "align_self": null,
            "border": null,
            "bottom": null,
            "display": null,
            "flex": null,
            "flex_flow": null,
            "grid_area": null,
            "grid_auto_columns": null,
            "grid_auto_flow": null,
            "grid_auto_rows": null,
            "grid_column": null,
            "grid_gap": null,
            "grid_row": null,
            "grid_template_areas": null,
            "grid_template_columns": null,
            "grid_template_rows": null,
            "height": null,
            "justify_content": null,
            "justify_items": null,
            "left": null,
            "margin": null,
            "max_height": null,
            "max_width": null,
            "min_height": null,
            "min_width": null,
            "object_fit": null,
            "object_position": null,
            "order": null,
            "overflow": null,
            "overflow_x": null,
            "overflow_y": null,
            "padding": null,
            "right": null,
            "top": null,
            "visibility": null,
            "width": null
          }
        },
        "44ba734e9dbc4d98a54fdc41f515eea6": {
          "model_module": "@jupyter-widgets/controls",
          "model_module_version": "1.5.0",
          "model_name": "ProgressStyleModel",
          "state": {
            "_model_module": "@jupyter-widgets/controls",
            "_model_module_version": "1.5.0",
            "_model_name": "ProgressStyleModel",
            "_view_count": null,
            "_view_module": "@jupyter-widgets/base",
            "_view_module_version": "1.2.0",
            "_view_name": "StyleView",
            "bar_color": null,
            "description_width": ""
          }
        },
        "4e533fa893714c8c80e7edf16c3cc618": {
          "model_module": "@jupyter-widgets/base",
          "model_module_version": "1.2.0",
          "model_name": "LayoutModel",
          "state": {
            "_model_module": "@jupyter-widgets/base",
            "_model_module_version": "1.2.0",
            "_model_name": "LayoutModel",
            "_view_count": null,
            "_view_module": "@jupyter-widgets/base",
            "_view_module_version": "1.2.0",
            "_view_name": "LayoutView",
            "align_content": null,
            "align_items": null,
            "align_self": null,
            "border": null,
            "bottom": null,
            "display": null,
            "flex": null,
            "flex_flow": null,
            "grid_area": null,
            "grid_auto_columns": null,
            "grid_auto_flow": null,
            "grid_auto_rows": null,
            "grid_column": null,
            "grid_gap": null,
            "grid_row": null,
            "grid_template_areas": null,
            "grid_template_columns": null,
            "grid_template_rows": null,
            "height": null,
            "justify_content": null,
            "justify_items": null,
            "left": null,
            "margin": null,
            "max_height": null,
            "max_width": null,
            "min_height": null,
            "min_width": null,
            "object_fit": null,
            "object_position": null,
            "order": null,
            "overflow": null,
            "overflow_x": null,
            "overflow_y": null,
            "padding": null,
            "right": null,
            "top": null,
            "visibility": null,
            "width": null
          }
        },
        "501e91feab7c41bdb692135ef5932cb2": {
          "model_module": "@jupyter-widgets/base",
          "model_module_version": "1.2.0",
          "model_name": "LayoutModel",
          "state": {
            "_model_module": "@jupyter-widgets/base",
            "_model_module_version": "1.2.0",
            "_model_name": "LayoutModel",
            "_view_count": null,
            "_view_module": "@jupyter-widgets/base",
            "_view_module_version": "1.2.0",
            "_view_name": "LayoutView",
            "align_content": null,
            "align_items": null,
            "align_self": null,
            "border": null,
            "bottom": null,
            "display": null,
            "flex": null,
            "flex_flow": null,
            "grid_area": null,
            "grid_auto_columns": null,
            "grid_auto_flow": null,
            "grid_auto_rows": null,
            "grid_column": null,
            "grid_gap": null,
            "grid_row": null,
            "grid_template_areas": null,
            "grid_template_columns": null,
            "grid_template_rows": null,
            "height": null,
            "justify_content": null,
            "justify_items": null,
            "left": null,
            "margin": null,
            "max_height": null,
            "max_width": null,
            "min_height": null,
            "min_width": null,
            "object_fit": null,
            "object_position": null,
            "order": null,
            "overflow": null,
            "overflow_x": null,
            "overflow_y": null,
            "padding": null,
            "right": null,
            "top": null,
            "visibility": null,
            "width": null
          }
        },
        "57271afa0ae943079701da2e26cbc7d2": {
          "model_module": "@jupyter-widgets/controls",
          "model_module_version": "1.5.0",
          "model_name": "HTMLModel",
          "state": {
            "_dom_classes": [],
            "_model_module": "@jupyter-widgets/controls",
            "_model_module_version": "1.5.0",
            "_model_name": "HTMLModel",
            "_view_count": null,
            "_view_module": "@jupyter-widgets/controls",
            "_view_module_version": "1.5.0",
            "_view_name": "HTMLView",
            "description": "",
            "description_tooltip": null,
            "layout": "IPY_MODEL_8c1e470a1132492d8355f93acc47e7b9",
            "placeholder": "​",
            "style": "IPY_MODEL_7e3878a6c7cc4a7a88511ec477d29beb",
            "value": " 1.92k/1.92k [00:00&lt;00:00, 147kB/s]"
          }
        },
        "5bb997ac5cc0477fbfc7bccb1f42cda0": {
          "model_module": "@jupyter-widgets/base",
          "model_module_version": "1.2.0",
          "model_name": "LayoutModel",
          "state": {
            "_model_module": "@jupyter-widgets/base",
            "_model_module_version": "1.2.0",
            "_model_name": "LayoutModel",
            "_view_count": null,
            "_view_module": "@jupyter-widgets/base",
            "_view_module_version": "1.2.0",
            "_view_name": "LayoutView",
            "align_content": null,
            "align_items": null,
            "align_self": null,
            "border": null,
            "bottom": null,
            "display": null,
            "flex": null,
            "flex_flow": null,
            "grid_area": null,
            "grid_auto_columns": null,
            "grid_auto_flow": null,
            "grid_auto_rows": null,
            "grid_column": null,
            "grid_gap": null,
            "grid_row": null,
            "grid_template_areas": null,
            "grid_template_columns": null,
            "grid_template_rows": null,
            "height": null,
            "justify_content": null,
            "justify_items": null,
            "left": null,
            "margin": null,
            "max_height": null,
            "max_width": null,
            "min_height": null,
            "min_width": null,
            "object_fit": null,
            "object_position": null,
            "order": null,
            "overflow": null,
            "overflow_x": null,
            "overflow_y": null,
            "padding": null,
            "right": null,
            "top": null,
            "visibility": null,
            "width": null
          }
        },
        "6016ae447c92412d949550891304b020": {
          "model_module": "@jupyter-widgets/controls",
          "model_module_version": "1.5.0",
          "model_name": "DescriptionStyleModel",
          "state": {
            "_model_module": "@jupyter-widgets/controls",
            "_model_module_version": "1.5.0",
            "_model_name": "DescriptionStyleModel",
            "_view_count": null,
            "_view_module": "@jupyter-widgets/base",
            "_view_module_version": "1.2.0",
            "_view_name": "StyleView",
            "description_width": ""
          }
        },
        "612096154d564f898ae73624aa52dc1b": {
          "model_module": "@jupyter-widgets/controls",
          "model_module_version": "1.5.0",
          "model_name": "DescriptionStyleModel",
          "state": {
            "_model_module": "@jupyter-widgets/controls",
            "_model_module_version": "1.5.0",
            "_model_name": "DescriptionStyleModel",
            "_view_count": null,
            "_view_module": "@jupyter-widgets/base",
            "_view_module_version": "1.2.0",
            "_view_name": "StyleView",
            "description_width": ""
          }
        },
        "61b2a3094f5e4ce8a48e1e8097400cfb": {
          "model_module": "@jupyter-widgets/controls",
          "model_module_version": "1.5.0",
          "model_name": "FloatProgressModel",
          "state": {
            "_dom_classes": [],
            "_model_module": "@jupyter-widgets/controls",
            "_model_module_version": "1.5.0",
            "_model_name": "FloatProgressModel",
            "_view_count": null,
            "_view_module": "@jupyter-widgets/controls",
            "_view_module_version": "1.5.0",
            "_view_name": "ProgressView",
            "bar_style": "success",
            "description": "",
            "description_tooltip": null,
            "layout": "IPY_MODEL_f15b28c87f884f94a3f8647a46fe7da9",
            "max": 128619,
            "min": 0,
            "orientation": "horizontal",
            "style": "IPY_MODEL_44ba734e9dbc4d98a54fdc41f515eea6",
            "value": 128619
          }
        },
        "6f009abe9edb4a5cad925abe3de24f65": {
          "model_module": "@jupyter-widgets/controls",
          "model_module_version": "1.5.0",
          "model_name": "FloatProgressModel",
          "state": {
            "_dom_classes": [],
            "_model_module": "@jupyter-widgets/controls",
            "_model_module_version": "1.5.0",
            "_model_name": "FloatProgressModel",
            "_view_count": null,
            "_view_module": "@jupyter-widgets/controls",
            "_view_module_version": "1.5.0",
            "_view_name": "ProgressView",
            "bar_style": "success",
            "description": "",
            "description_tooltip": null,
            "layout": "IPY_MODEL_501e91feab7c41bdb692135ef5932cb2",
            "max": 1920,
            "min": 0,
            "orientation": "horizontal",
            "style": "IPY_MODEL_3bf5388c1c7e41ecb03ace96053d721f",
            "value": 1920
          }
        },
        "706aacf733264412bc3cc0042da84655": {
          "model_module": "@jupyter-widgets/controls",
          "model_module_version": "1.5.0",
          "model_name": "ProgressStyleModel",
          "state": {
            "_model_module": "@jupyter-widgets/controls",
            "_model_module_version": "1.5.0",
            "_model_name": "ProgressStyleModel",
            "_view_count": null,
            "_view_module": "@jupyter-widgets/base",
            "_view_module_version": "1.2.0",
            "_view_name": "StyleView",
            "bar_color": null,
            "description_width": ""
          }
        },
        "7816754f55c342379cdf53cfbee99710": {
          "model_module": "@jupyter-widgets/controls",
          "model_module_version": "1.5.0",
          "model_name": "HTMLModel",
          "state": {
            "_dom_classes": [],
            "_model_module": "@jupyter-widgets/controls",
            "_model_module_version": "1.5.0",
            "_model_name": "HTMLModel",
            "_view_count": null,
            "_view_module": "@jupyter-widgets/controls",
            "_view_module_version": "1.5.0",
            "_view_name": "HTMLView",
            "description": "",
            "description_tooltip": null,
            "layout": "IPY_MODEL_db81d099ad0a46c5856c34a9a6842799",
            "placeholder": "​",
            "style": "IPY_MODEL_f1951ee8562349d6b805f286986ce4a4",
            "value": " 1.92k/1.92k [00:00&lt;00:00, 126kB/s]"
          }
        },
        "7b0bd89806834970bb751ceefa296644": {
          "model_module": "@jupyter-widgets/controls",
          "model_module_version": "1.5.0",
          "model_name": "HBoxModel",
          "state": {
            "_dom_classes": [],
            "_model_module": "@jupyter-widgets/controls",
            "_model_module_version": "1.5.0",
            "_model_name": "HBoxModel",
            "_view_count": null,
            "_view_module": "@jupyter-widgets/controls",
            "_view_module_version": "1.5.0",
            "_view_name": "HBoxView",
            "box_style": "",
            "children": [
              "IPY_MODEL_a8653affd36e4c82b793199ec84e3979",
              "IPY_MODEL_af9eaeb7e46946378f525bc369a9f0bd",
              "IPY_MODEL_57271afa0ae943079701da2e26cbc7d2"
            ],
            "layout": "IPY_MODEL_d7ff1eff2ba84b529855cce7c836c398"
          }
        },
        "7e3878a6c7cc4a7a88511ec477d29beb": {
          "model_module": "@jupyter-widgets/controls",
          "model_module_version": "1.5.0",
          "model_name": "DescriptionStyleModel",
          "state": {
            "_model_module": "@jupyter-widgets/controls",
            "_model_module_version": "1.5.0",
            "_model_name": "DescriptionStyleModel",
            "_view_count": null,
            "_view_module": "@jupyter-widgets/base",
            "_view_module_version": "1.2.0",
            "_view_name": "StyleView",
            "description_width": ""
          }
        },
        "7f954247cd2a49f2af2cb056db826533": {
          "model_module": "@jupyter-widgets/base",
          "model_module_version": "1.2.0",
          "model_name": "LayoutModel",
          "state": {
            "_model_module": "@jupyter-widgets/base",
            "_model_module_version": "1.2.0",
            "_model_name": "LayoutModel",
            "_view_count": null,
            "_view_module": "@jupyter-widgets/base",
            "_view_module_version": "1.2.0",
            "_view_name": "LayoutView",
            "align_content": null,
            "align_items": null,
            "align_self": null,
            "border": null,
            "bottom": null,
            "display": null,
            "flex": null,
            "flex_flow": null,
            "grid_area": null,
            "grid_auto_columns": null,
            "grid_auto_flow": null,
            "grid_auto_rows": null,
            "grid_column": null,
            "grid_gap": null,
            "grid_row": null,
            "grid_template_areas": null,
            "grid_template_columns": null,
            "grid_template_rows": null,
            "height": null,
            "justify_content": null,
            "justify_items": null,
            "left": null,
            "margin": null,
            "max_height": null,
            "max_width": null,
            "min_height": null,
            "min_width": null,
            "object_fit": null,
            "object_position": null,
            "order": null,
            "overflow": null,
            "overflow_x": null,
            "overflow_y": null,
            "padding": null,
            "right": null,
            "top": null,
            "visibility": null,
            "width": null
          }
        },
        "80ce97975add47d8975b57c7b97447d8": {
          "model_module": "@jupyter-widgets/controls",
          "model_module_version": "1.5.0",
          "model_name": "ProgressStyleModel",
          "state": {
            "_model_module": "@jupyter-widgets/controls",
            "_model_module_version": "1.5.0",
            "_model_name": "ProgressStyleModel",
            "_view_count": null,
            "_view_module": "@jupyter-widgets/base",
            "_view_module_version": "1.2.0",
            "_view_name": "StyleView",
            "bar_color": null,
            "description_width": ""
          }
        },
        "8c1e470a1132492d8355f93acc47e7b9": {
          "model_module": "@jupyter-widgets/base",
          "model_module_version": "1.2.0",
          "model_name": "LayoutModel",
          "state": {
            "_model_module": "@jupyter-widgets/base",
            "_model_module_version": "1.2.0",
            "_model_name": "LayoutModel",
            "_view_count": null,
            "_view_module": "@jupyter-widgets/base",
            "_view_module_version": "1.2.0",
            "_view_name": "LayoutView",
            "align_content": null,
            "align_items": null,
            "align_self": null,
            "border": null,
            "bottom": null,
            "display": null,
            "flex": null,
            "flex_flow": null,
            "grid_area": null,
            "grid_auto_columns": null,
            "grid_auto_flow": null,
            "grid_auto_rows": null,
            "grid_column": null,
            "grid_gap": null,
            "grid_row": null,
            "grid_template_areas": null,
            "grid_template_columns": null,
            "grid_template_rows": null,
            "height": null,
            "justify_content": null,
            "justify_items": null,
            "left": null,
            "margin": null,
            "max_height": null,
            "max_width": null,
            "min_height": null,
            "min_width": null,
            "object_fit": null,
            "object_position": null,
            "order": null,
            "overflow": null,
            "overflow_x": null,
            "overflow_y": null,
            "padding": null,
            "right": null,
            "top": null,
            "visibility": null,
            "width": null
          }
        },
        "99f5b2c08a3e471e9a5107a52d0ad135": {
          "model_module": "@jupyter-widgets/controls",
          "model_module_version": "1.5.0",
          "model_name": "HBoxModel",
          "state": {
            "_dom_classes": [],
            "_model_module": "@jupyter-widgets/controls",
            "_model_module_version": "1.5.0",
            "_model_name": "HBoxModel",
            "_view_count": null,
            "_view_module": "@jupyter-widgets/controls",
            "_view_module_version": "1.5.0",
            "_view_name": "HBoxView",
            "box_style": "",
            "children": [
              "IPY_MODEL_3b6b5c831b9843e792bbd3bb7d8438f5",
              "IPY_MODEL_9e0879e633874ba88427fb87abf40462",
              "IPY_MODEL_28b351c089554f40942eb567211860bf"
            ],
            "layout": "IPY_MODEL_d200b1ea862e4b829c2f7b4138f8aabf"
          }
        },
        "9e0879e633874ba88427fb87abf40462": {
          "model_module": "@jupyter-widgets/controls",
          "model_module_version": "1.5.0",
          "model_name": "FloatProgressModel",
          "state": {
            "_dom_classes": [],
            "_model_module": "@jupyter-widgets/controls",
            "_model_module_version": "1.5.0",
            "_model_name": "FloatProgressModel",
            "_view_count": null,
            "_view_module": "@jupyter-widgets/controls",
            "_view_module_version": "1.5.0",
            "_view_name": "ProgressView",
            "bar_style": "success",
            "description": "",
            "description_tooltip": null,
            "layout": "IPY_MODEL_3ff67e8de1fe4173b134a6521eaa8368",
            "max": 83316686,
            "min": 0,
            "orientation": "horizontal",
            "style": "IPY_MODEL_706aacf733264412bc3cc0042da84655",
            "value": 83316686
          }
        },
        "9fe4c35151b54620a522d56169f95f83": {
          "model_module": "@jupyter-widgets/controls",
          "model_module_version": "1.5.0",
          "model_name": "FloatProgressModel",
          "state": {
            "_dom_classes": [],
            "_model_module": "@jupyter-widgets/controls",
            "_model_module_version": "1.5.0",
            "_model_name": "FloatProgressModel",
            "_view_count": null,
            "_view_module": "@jupyter-widgets/controls",
            "_view_module_version": "1.5.0",
            "_view_name": "ProgressView",
            "bar_style": "success",
            "description": "",
            "description_tooltip": null,
            "layout": "IPY_MODEL_105166bd7fe54e4e9abacfeebcb17be7",
            "max": 5534328,
            "min": 0,
            "orientation": "horizontal",
            "style": "IPY_MODEL_eb737052336e451cbc10db8b1d43f495",
            "value": 5534328
          }
        },
        "a43cfe2da37340dfa0b55f62592a91d8": {
          "model_module": "@jupyter-widgets/controls",
          "model_module_version": "1.5.0",
          "model_name": "DescriptionStyleModel",
          "state": {
            "_model_module": "@jupyter-widgets/controls",
            "_model_module_version": "1.5.0",
            "_model_name": "DescriptionStyleModel",
            "_view_count": null,
            "_view_module": "@jupyter-widgets/base",
            "_view_module_version": "1.2.0",
            "_view_name": "StyleView",
            "description_width": ""
          }
        },
        "a4f89c0b8a494a22ab8e47b6437e86d9": {
          "model_module": "@jupyter-widgets/controls",
          "model_module_version": "1.5.0",
          "model_name": "DescriptionStyleModel",
          "state": {
            "_model_module": "@jupyter-widgets/controls",
            "_model_module_version": "1.5.0",
            "_model_name": "DescriptionStyleModel",
            "_view_count": null,
            "_view_module": "@jupyter-widgets/base",
            "_view_module_version": "1.2.0",
            "_view_name": "StyleView",
            "description_width": ""
          }
        },
        "a8653affd36e4c82b793199ec84e3979": {
          "model_module": "@jupyter-widgets/controls",
          "model_module_version": "1.5.0",
          "model_name": "HTMLModel",
          "state": {
            "_dom_classes": [],
            "_model_module": "@jupyter-widgets/controls",
            "_model_module_version": "1.5.0",
            "_model_name": "HTMLModel",
            "_view_count": null,
            "_view_module": "@jupyter-widgets/controls",
            "_view_module_version": "1.5.0",
            "_view_name": "HTMLView",
            "description": "",
            "description_tooltip": null,
            "layout": "IPY_MODEL_aaf8d84b6b1049529f00a9b98781e086",
            "placeholder": "​",
            "style": "IPY_MODEL_b7660a1e09e04d8ca25d067cea253e9a",
            "value": "Downloading (…)an_var_norm_emb.ckpt: 100%"
          }
        },
        "aa0199cb9c39449a9d9038a628392c2a": {
          "model_module": "@jupyter-widgets/controls",
          "model_module_version": "1.5.0",
          "model_name": "DescriptionStyleModel",
          "state": {
            "_model_module": "@jupyter-widgets/controls",
            "_model_module_version": "1.5.0",
            "_model_name": "DescriptionStyleModel",
            "_view_count": null,
            "_view_module": "@jupyter-widgets/base",
            "_view_module_version": "1.2.0",
            "_view_name": "StyleView",
            "description_width": ""
          }
        },
        "aaf8d84b6b1049529f00a9b98781e086": {
          "model_module": "@jupyter-widgets/base",
          "model_module_version": "1.2.0",
          "model_name": "LayoutModel",
          "state": {
            "_model_module": "@jupyter-widgets/base",
            "_model_module_version": "1.2.0",
            "_model_name": "LayoutModel",
            "_view_count": null,
            "_view_module": "@jupyter-widgets/base",
            "_view_module_version": "1.2.0",
            "_view_name": "LayoutView",
            "align_content": null,
            "align_items": null,
            "align_self": null,
            "border": null,
            "bottom": null,
            "display": null,
            "flex": null,
            "flex_flow": null,
            "grid_area": null,
            "grid_auto_columns": null,
            "grid_auto_flow": null,
            "grid_auto_rows": null,
            "grid_column": null,
            "grid_gap": null,
            "grid_row": null,
            "grid_template_areas": null,
            "grid_template_columns": null,
            "grid_template_rows": null,
            "height": null,
            "justify_content": null,
            "justify_items": null,
            "left": null,
            "margin": null,
            "max_height": null,
            "max_width": null,
            "min_height": null,
            "min_width": null,
            "object_fit": null,
            "object_position": null,
            "order": null,
            "overflow": null,
            "overflow_x": null,
            "overflow_y": null,
            "padding": null,
            "right": null,
            "top": null,
            "visibility": null,
            "width": null
          }
        },
        "af9eaeb7e46946378f525bc369a9f0bd": {
          "model_module": "@jupyter-widgets/controls",
          "model_module_version": "1.5.0",
          "model_name": "FloatProgressModel",
          "state": {
            "_dom_classes": [],
            "_model_module": "@jupyter-widgets/controls",
            "_model_module_version": "1.5.0",
            "_model_name": "FloatProgressModel",
            "_view_count": null,
            "_view_module": "@jupyter-widgets/controls",
            "_view_module_version": "1.5.0",
            "_view_name": "ProgressView",
            "bar_style": "success",
            "description": "",
            "description_tooltip": null,
            "layout": "IPY_MODEL_2ce5976de1aa4d189e09c78348a0f25f",
            "max": 1921,
            "min": 0,
            "orientation": "horizontal",
            "style": "IPY_MODEL_80ce97975add47d8975b57c7b97447d8",
            "value": 1921
          }
        },
        "b7660a1e09e04d8ca25d067cea253e9a": {
          "model_module": "@jupyter-widgets/controls",
          "model_module_version": "1.5.0",
          "model_name": "DescriptionStyleModel",
          "state": {
            "_model_module": "@jupyter-widgets/controls",
            "_model_module_version": "1.5.0",
            "_model_name": "DescriptionStyleModel",
            "_view_count": null,
            "_view_module": "@jupyter-widgets/base",
            "_view_module_version": "1.2.0",
            "_view_name": "StyleView",
            "description_width": ""
          }
        },
        "bf0c30b759424ce3a572829e8d0cd5a0": {
          "model_module": "@jupyter-widgets/controls",
          "model_module_version": "1.5.0",
          "model_name": "HBoxModel",
          "state": {
            "_dom_classes": [],
            "_model_module": "@jupyter-widgets/controls",
            "_model_module_version": "1.5.0",
            "_model_name": "HBoxModel",
            "_view_count": null,
            "_view_module": "@jupyter-widgets/controls",
            "_view_module_version": "1.5.0",
            "_view_name": "HBoxView",
            "box_style": "",
            "children": [
              "IPY_MODEL_f9087c013be74d53a52a2f2bcddd5fcb",
              "IPY_MODEL_61b2a3094f5e4ce8a48e1e8097400cfb",
              "IPY_MODEL_fc0e5b1c431c4499a6f448956d36c1ff"
            ],
            "layout": "IPY_MODEL_cc1a0d84484842aca2040bae71f899e0"
          }
        },
        "cc1a0d84484842aca2040bae71f899e0": {
          "model_module": "@jupyter-widgets/base",
          "model_module_version": "1.2.0",
          "model_name": "LayoutModel",
          "state": {
            "_model_module": "@jupyter-widgets/base",
            "_model_module_version": "1.2.0",
            "_model_name": "LayoutModel",
            "_view_count": null,
            "_view_module": "@jupyter-widgets/base",
            "_view_module_version": "1.2.0",
            "_view_name": "LayoutView",
            "align_content": null,
            "align_items": null,
            "align_self": null,
            "border": null,
            "bottom": null,
            "display": null,
            "flex": null,
            "flex_flow": null,
            "grid_area": null,
            "grid_auto_columns": null,
            "grid_auto_flow": null,
            "grid_auto_rows": null,
            "grid_column": null,
            "grid_gap": null,
            "grid_row": null,
            "grid_template_areas": null,
            "grid_template_columns": null,
            "grid_template_rows": null,
            "height": null,
            "justify_content": null,
            "justify_items": null,
            "left": null,
            "margin": null,
            "max_height": null,
            "max_width": null,
            "min_height": null,
            "min_width": null,
            "object_fit": null,
            "object_position": null,
            "order": null,
            "overflow": null,
            "overflow_x": null,
            "overflow_y": null,
            "padding": null,
            "right": null,
            "top": null,
            "visibility": null,
            "width": null
          }
        },
        "cdc6881584b2410396144462ad1ec107": {
          "model_module": "@jupyter-widgets/base",
          "model_module_version": "1.2.0",
          "model_name": "LayoutModel",
          "state": {
            "_model_module": "@jupyter-widgets/base",
            "_model_module_version": "1.2.0",
            "_model_name": "LayoutModel",
            "_view_count": null,
            "_view_module": "@jupyter-widgets/base",
            "_view_module_version": "1.2.0",
            "_view_name": "LayoutView",
            "align_content": null,
            "align_items": null,
            "align_self": null,
            "border": null,
            "bottom": null,
            "display": null,
            "flex": null,
            "flex_flow": null,
            "grid_area": null,
            "grid_auto_columns": null,
            "grid_auto_flow": null,
            "grid_auto_rows": null,
            "grid_column": null,
            "grid_gap": null,
            "grid_row": null,
            "grid_template_areas": null,
            "grid_template_columns": null,
            "grid_template_rows": null,
            "height": null,
            "justify_content": null,
            "justify_items": null,
            "left": null,
            "margin": null,
            "max_height": null,
            "max_width": null,
            "min_height": null,
            "min_width": null,
            "object_fit": null,
            "object_position": null,
            "order": null,
            "overflow": null,
            "overflow_x": null,
            "overflow_y": null,
            "padding": null,
            "right": null,
            "top": null,
            "visibility": null,
            "width": null
          }
        },
        "d1280f0c62ae43d28e2b6ec1b4d78cc8": {
          "model_module": "@jupyter-widgets/base",
          "model_module_version": "1.2.0",
          "model_name": "LayoutModel",
          "state": {
            "_model_module": "@jupyter-widgets/base",
            "_model_module_version": "1.2.0",
            "_model_name": "LayoutModel",
            "_view_count": null,
            "_view_module": "@jupyter-widgets/base",
            "_view_module_version": "1.2.0",
            "_view_name": "LayoutView",
            "align_content": null,
            "align_items": null,
            "align_self": null,
            "border": null,
            "bottom": null,
            "display": null,
            "flex": null,
            "flex_flow": null,
            "grid_area": null,
            "grid_auto_columns": null,
            "grid_auto_flow": null,
            "grid_auto_rows": null,
            "grid_column": null,
            "grid_gap": null,
            "grid_row": null,
            "grid_template_areas": null,
            "grid_template_columns": null,
            "grid_template_rows": null,
            "height": null,
            "justify_content": null,
            "justify_items": null,
            "left": null,
            "margin": null,
            "max_height": null,
            "max_width": null,
            "min_height": null,
            "min_width": null,
            "object_fit": null,
            "object_position": null,
            "order": null,
            "overflow": null,
            "overflow_x": null,
            "overflow_y": null,
            "padding": null,
            "right": null,
            "top": null,
            "visibility": null,
            "width": null
          }
        },
        "d200b1ea862e4b829c2f7b4138f8aabf": {
          "model_module": "@jupyter-widgets/base",
          "model_module_version": "1.2.0",
          "model_name": "LayoutModel",
          "state": {
            "_model_module": "@jupyter-widgets/base",
            "_model_module_version": "1.2.0",
            "_model_name": "LayoutModel",
            "_view_count": null,
            "_view_module": "@jupyter-widgets/base",
            "_view_module_version": "1.2.0",
            "_view_name": "LayoutView",
            "align_content": null,
            "align_items": null,
            "align_self": null,
            "border": null,
            "bottom": null,
            "display": null,
            "flex": null,
            "flex_flow": null,
            "grid_area": null,
            "grid_auto_columns": null,
            "grid_auto_flow": null,
            "grid_auto_rows": null,
            "grid_column": null,
            "grid_gap": null,
            "grid_row": null,
            "grid_template_areas": null,
            "grid_template_columns": null,
            "grid_template_rows": null,
            "height": null,
            "justify_content": null,
            "justify_items": null,
            "left": null,
            "margin": null,
            "max_height": null,
            "max_width": null,
            "min_height": null,
            "min_width": null,
            "object_fit": null,
            "object_position": null,
            "order": null,
            "overflow": null,
            "overflow_x": null,
            "overflow_y": null,
            "padding": null,
            "right": null,
            "top": null,
            "visibility": null,
            "width": null
          }
        },
        "d460eb9027954e5c996ea1ec400fb730": {
          "model_module": "@jupyter-widgets/controls",
          "model_module_version": "1.5.0",
          "model_name": "HBoxModel",
          "state": {
            "_dom_classes": [],
            "_model_module": "@jupyter-widgets/controls",
            "_model_module_version": "1.5.0",
            "_model_name": "HBoxModel",
            "_view_count": null,
            "_view_module": "@jupyter-widgets/controls",
            "_view_module_version": "1.5.0",
            "_view_name": "HBoxView",
            "box_style": "",
            "children": [
              "IPY_MODEL_271e63e09e7743b8a6f382b4e5acbc40",
              "IPY_MODEL_6f009abe9edb4a5cad925abe3de24f65",
              "IPY_MODEL_7816754f55c342379cdf53cfbee99710"
            ],
            "layout": "IPY_MODEL_e441229140564f45a08748091ffdaf9c"
          }
        },
        "d7ff1eff2ba84b529855cce7c836c398": {
          "model_module": "@jupyter-widgets/base",
          "model_module_version": "1.2.0",
          "model_name": "LayoutModel",
          "state": {
            "_model_module": "@jupyter-widgets/base",
            "_model_module_version": "1.2.0",
            "_model_name": "LayoutModel",
            "_view_count": null,
            "_view_module": "@jupyter-widgets/base",
            "_view_module_version": "1.2.0",
            "_view_name": "LayoutView",
            "align_content": null,
            "align_items": null,
            "align_self": null,
            "border": null,
            "bottom": null,
            "display": null,
            "flex": null,
            "flex_flow": null,
            "grid_area": null,
            "grid_auto_columns": null,
            "grid_auto_flow": null,
            "grid_auto_rows": null,
            "grid_column": null,
            "grid_gap": null,
            "grid_row": null,
            "grid_template_areas": null,
            "grid_template_columns": null,
            "grid_template_rows": null,
            "height": null,
            "justify_content": null,
            "justify_items": null,
            "left": null,
            "margin": null,
            "max_height": null,
            "max_width": null,
            "min_height": null,
            "min_width": null,
            "object_fit": null,
            "object_position": null,
            "order": null,
            "overflow": null,
            "overflow_x": null,
            "overflow_y": null,
            "padding": null,
            "right": null,
            "top": null,
            "visibility": null,
            "width": null
          }
        },
        "db81d099ad0a46c5856c34a9a6842799": {
          "model_module": "@jupyter-widgets/base",
          "model_module_version": "1.2.0",
          "model_name": "LayoutModel",
          "state": {
            "_model_module": "@jupyter-widgets/base",
            "_model_module_version": "1.2.0",
            "_model_name": "LayoutModel",
            "_view_count": null,
            "_view_module": "@jupyter-widgets/base",
            "_view_module_version": "1.2.0",
            "_view_name": "LayoutView",
            "align_content": null,
            "align_items": null,
            "align_self": null,
            "border": null,
            "bottom": null,
            "display": null,
            "flex": null,
            "flex_flow": null,
            "grid_area": null,
            "grid_auto_columns": null,
            "grid_auto_flow": null,
            "grid_auto_rows": null,
            "grid_column": null,
            "grid_gap": null,
            "grid_row": null,
            "grid_template_areas": null,
            "grid_template_columns": null,
            "grid_template_rows": null,
            "height": null,
            "justify_content": null,
            "justify_items": null,
            "left": null,
            "margin": null,
            "max_height": null,
            "max_width": null,
            "min_height": null,
            "min_width": null,
            "object_fit": null,
            "object_position": null,
            "order": null,
            "overflow": null,
            "overflow_x": null,
            "overflow_y": null,
            "padding": null,
            "right": null,
            "top": null,
            "visibility": null,
            "width": null
          }
        },
        "e441229140564f45a08748091ffdaf9c": {
          "model_module": "@jupyter-widgets/base",
          "model_module_version": "1.2.0",
          "model_name": "LayoutModel",
          "state": {
            "_model_module": "@jupyter-widgets/base",
            "_model_module_version": "1.2.0",
            "_model_name": "LayoutModel",
            "_view_count": null,
            "_view_module": "@jupyter-widgets/base",
            "_view_module_version": "1.2.0",
            "_view_name": "LayoutView",
            "align_content": null,
            "align_items": null,
            "align_self": null,
            "border": null,
            "bottom": null,
            "display": null,
            "flex": null,
            "flex_flow": null,
            "grid_area": null,
            "grid_auto_columns": null,
            "grid_auto_flow": null,
            "grid_auto_rows": null,
            "grid_column": null,
            "grid_gap": null,
            "grid_row": null,
            "grid_template_areas": null,
            "grid_template_columns": null,
            "grid_template_rows": null,
            "height": null,
            "justify_content": null,
            "justify_items": null,
            "left": null,
            "margin": null,
            "max_height": null,
            "max_width": null,
            "min_height": null,
            "min_width": null,
            "object_fit": null,
            "object_position": null,
            "order": null,
            "overflow": null,
            "overflow_x": null,
            "overflow_y": null,
            "padding": null,
            "right": null,
            "top": null,
            "visibility": null,
            "width": null
          }
        },
        "e734b6a7602f412bb125820cd00e0a91": {
          "model_module": "@jupyter-widgets/controls",
          "model_module_version": "1.5.0",
          "model_name": "HTMLModel",
          "state": {
            "_dom_classes": [],
            "_model_module": "@jupyter-widgets/controls",
            "_model_module_version": "1.5.0",
            "_model_name": "HTMLModel",
            "_view_count": null,
            "_view_module": "@jupyter-widgets/controls",
            "_view_module_version": "1.5.0",
            "_view_name": "HTMLView",
            "description": "",
            "description_tooltip": null,
            "layout": "IPY_MODEL_5bb997ac5cc0477fbfc7bccb1f42cda0",
            "placeholder": "​",
            "style": "IPY_MODEL_253e22fc6dd1453bb11ba5138f36b7e1",
            "value": " 5.53M/5.53M [00:00&lt;00:00, 154MB/s]"
          }
        },
        "eb737052336e451cbc10db8b1d43f495": {
          "model_module": "@jupyter-widgets/controls",
          "model_module_version": "1.5.0",
          "model_name": "ProgressStyleModel",
          "state": {
            "_model_module": "@jupyter-widgets/controls",
            "_model_module_version": "1.5.0",
            "_model_name": "ProgressStyleModel",
            "_view_count": null,
            "_view_module": "@jupyter-widgets/base",
            "_view_module_version": "1.2.0",
            "_view_name": "StyleView",
            "bar_color": null,
            "description_width": ""
          }
        },
        "ef66c458a56b4670809a232ae4448326": {
          "model_module": "@jupyter-widgets/controls",
          "model_module_version": "1.5.0",
          "model_name": "HBoxModel",
          "state": {
            "_dom_classes": [],
            "_model_module": "@jupyter-widgets/controls",
            "_model_module_version": "1.5.0",
            "_model_name": "HBoxModel",
            "_view_count": null,
            "_view_module": "@jupyter-widgets/controls",
            "_view_module_version": "1.5.0",
            "_view_name": "HBoxView",
            "box_style": "",
            "children": [
              "IPY_MODEL_2d2ab546b57141769d3b13f30a10287b",
              "IPY_MODEL_9fe4c35151b54620a522d56169f95f83",
              "IPY_MODEL_e734b6a7602f412bb125820cd00e0a91"
            ],
            "layout": "IPY_MODEL_fe3de03b316243fcafb66a3c07d9ad4c"
          }
        },
        "f15b28c87f884f94a3f8647a46fe7da9": {
          "model_module": "@jupyter-widgets/base",
          "model_module_version": "1.2.0",
          "model_name": "LayoutModel",
          "state": {
            "_model_module": "@jupyter-widgets/base",
            "_model_module_version": "1.2.0",
            "_model_name": "LayoutModel",
            "_view_count": null,
            "_view_module": "@jupyter-widgets/base",
            "_view_module_version": "1.2.0",
            "_view_name": "LayoutView",
            "align_content": null,
            "align_items": null,
            "align_self": null,
            "border": null,
            "bottom": null,
            "display": null,
            "flex": null,
            "flex_flow": null,
            "grid_area": null,
            "grid_auto_columns": null,
            "grid_auto_flow": null,
            "grid_auto_rows": null,
            "grid_column": null,
            "grid_gap": null,
            "grid_row": null,
            "grid_template_areas": null,
            "grid_template_columns": null,
            "grid_template_rows": null,
            "height": null,
            "justify_content": null,
            "justify_items": null,
            "left": null,
            "margin": null,
            "max_height": null,
            "max_width": null,
            "min_height": null,
            "min_width": null,
            "object_fit": null,
            "object_position": null,
            "order": null,
            "overflow": null,
            "overflow_x": null,
            "overflow_y": null,
            "padding": null,
            "right": null,
            "top": null,
            "visibility": null,
            "width": null
          }
        },
        "f1951ee8562349d6b805f286986ce4a4": {
          "model_module": "@jupyter-widgets/controls",
          "model_module_version": "1.5.0",
          "model_name": "DescriptionStyleModel",
          "state": {
            "_model_module": "@jupyter-widgets/controls",
            "_model_module_version": "1.5.0",
            "_model_name": "DescriptionStyleModel",
            "_view_count": null,
            "_view_module": "@jupyter-widgets/base",
            "_view_module_version": "1.2.0",
            "_view_name": "StyleView",
            "description_width": ""
          }
        },
        "f9087c013be74d53a52a2f2bcddd5fcb": {
          "model_module": "@jupyter-widgets/controls",
          "model_module_version": "1.5.0",
          "model_name": "HTMLModel",
          "state": {
            "_dom_classes": [],
            "_model_module": "@jupyter-widgets/controls",
            "_model_module_version": "1.5.0",
            "_model_name": "HTMLModel",
            "_view_count": null,
            "_view_module": "@jupyter-widgets/controls",
            "_view_module_version": "1.5.0",
            "_view_name": "HTMLView",
            "description": "",
            "description_tooltip": null,
            "layout": "IPY_MODEL_cdc6881584b2410396144462ad1ec107",
            "placeholder": "​",
            "style": "IPY_MODEL_06ea8198faba45949ff0aff7484acc2f",
            "value": "Downloading (…)in/label_encoder.txt: 100%"
          }
        },
        "fc0e5b1c431c4499a6f448956d36c1ff": {
          "model_module": "@jupyter-widgets/controls",
          "model_module_version": "1.5.0",
          "model_name": "HTMLModel",
          "state": {
            "_dom_classes": [],
            "_model_module": "@jupyter-widgets/controls",
            "_model_module_version": "1.5.0",
            "_model_name": "HTMLModel",
            "_view_count": null,
            "_view_module": "@jupyter-widgets/controls",
            "_view_module_version": "1.5.0",
            "_view_name": "HTMLView",
            "description": "",
            "description_tooltip": null,
            "layout": "IPY_MODEL_7f954247cd2a49f2af2cb056db826533",
            "placeholder": "​",
            "style": "IPY_MODEL_612096154d564f898ae73624aa52dc1b",
            "value": " 129k/129k [00:00&lt;00:00, 1.52MB/s]"
          }
        },
        "fe3de03b316243fcafb66a3c07d9ad4c": {
          "model_module": "@jupyter-widgets/base",
          "model_module_version": "1.2.0",
          "model_name": "LayoutModel",
          "state": {
            "_model_module": "@jupyter-widgets/base",
            "_model_module_version": "1.2.0",
            "_model_name": "LayoutModel",
            "_view_count": null,
            "_view_module": "@jupyter-widgets/base",
            "_view_module_version": "1.2.0",
            "_view_name": "LayoutView",
            "align_content": null,
            "align_items": null,
            "align_self": null,
            "border": null,
            "bottom": null,
            "display": null,
            "flex": null,
            "flex_flow": null,
            "grid_area": null,
            "grid_auto_columns": null,
            "grid_auto_flow": null,
            "grid_auto_rows": null,
            "grid_column": null,
            "grid_gap": null,
            "grid_row": null,
            "grid_template_areas": null,
            "grid_template_columns": null,
            "grid_template_rows": null,
            "height": null,
            "justify_content": null,
            "justify_items": null,
            "left": null,
            "margin": null,
            "max_height": null,
            "max_width": null,
            "min_height": null,
            "min_width": null,
            "object_fit": null,
            "object_position": null,
            "order": null,
            "overflow": null,
            "overflow_x": null,
            "overflow_y": null,
            "padding": null,
            "right": null,
            "top": null,
            "visibility": null,
            "width": null
          }
        }
      }
    }
  },
  "nbformat": 4,
  "nbformat_minor": 0
}
