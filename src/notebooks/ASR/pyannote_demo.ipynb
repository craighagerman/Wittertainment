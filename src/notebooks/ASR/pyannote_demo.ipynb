{
 "cells": [
  {
   "cell_type": "markdown",
   "metadata": {},
   "source": [
    "# Pyannote demo"
   ]
  },
  {
   "cell_type": "code",
   "execution_count": 2,
   "metadata": {},
   "outputs": [],
   "source": [
    "# Imports\n",
    "from dotenv import find_dotenv\n",
    "from dotenv import dotenv_values\n",
    "config = dotenv_values(find_dotenv())\n",
    "# NOTE: empty `.env` file was added beneath `src` directory. Ignored by gitignore rules.\n",
    "import os\n",
    "import sys\n",
    "sys.path.append(os.path.dirname(find_dotenv()))\n",
    "from notebooks.notebook_utils import DevData\n",
    "# ----------------------------------------\n",
    "# load huggingface token from .env file\n",
    "HUGGINGFACE_TOKEN = config[\"HUGGINGFACE_TOKEN\"]"
   ]
  },
  {
   "cell_type": "code",
   "execution_count": 8,
   "metadata": {},
   "outputs": [
    {
     "name": "stdout",
     "output_type": "stream",
     "text": [
      "mp3_file exists: True\n"
     ]
    }
   ],
   "source": [
    "# define paths\n",
    "external_dir = DevData().external_dir\n",
    "mp3_file = os.path.join(external_dir, \"Laughter_Lift.mp3\")\n",
    "outpath = os.path.join(external_dir, \"audio_20231020.rttm\")\n",
    "print(f\"mp3_file exists: {os.path.exists(mp3_file)}\")"
   ]
  },
  {
   "cell_type": "code",
   "execution_count": 11,
   "metadata": {},
   "outputs": [
    {
     "name": "stdout",
     "output_type": "stream",
     "text": [
      "CPU times: user 3 µs, sys: 1e+03 ns, total: 4 µs\n",
      "Wall time: 9.06 µs\n"
     ]
    }
   ],
   "source": [
    "%time\n",
    "# instantiate the pipeline\n",
    "from pyannote.audio import Pipeline\n",
    "from pyannote.audio.pipelines.utils.hook import ProgressHook\n",
    "pipeline = Pipeline.from_pretrained(\n",
    "  \"pyannote/speaker-diarization-3.0\",\n",
    "  use_auth_token=HUGGINGFACE_TOKEN)\n",
    "\n",
    "# uncomment below to run on GPU\n",
    "# import torch\n",
    "# pipeline.to(torch.device(\"cuda\"))\n",
    "\n",
    "# run the pipeline on an audio file\n",
    "diarization = pipeline(mp3_file)\n",
    "\n",
    "# Can specify min and max speakers\n",
    "# diarization = pipeline(\"audio.wav\", min_speakers=2, max_speakers=5)\n",
    "\n",
    "# uncomment below / comment-out above to monitor progress\n",
    "# with ProgressHook() as hook:\n",
    "#     diarization = pipeline(mp3_file, hook=hook)"
   ]
  },
  {
   "cell_type": "code",
   "execution_count": 7,
   "metadata": {},
   "outputs": [
    {
     "data": {
      "image/png": "[encoded data removed]",
      "text/plain": [
       "<pyannote.core.annotation.Annotation at 0x15bd1a390>"
      ]
     },
     "execution_count": 7,
     "metadata": {},
     "output_type": "execute_result"
    }
   ],
   "source": [
    "diarization"
   ]
  },
  {
   "cell_type": "code",
   "execution_count": 9,
   "metadata": {},
   "outputs": [],
   "source": [
    "# dump the diarization output to disk using RTTM format\n",
    "with open(outpath, \"w\") as rttm:\n",
    "    diarization.write_rttm(rttm)"
   ]
  },
  {
   "cell_type": "code",
   "execution_count": null,
   "metadata": {},
   "outputs": [],
   "source": []
  }
 ],
 "metadata": {
  "kernelspec": {
   "display_name": "witter.311",
   "language": "python",
   "name": "python3"
  },
  "language_info": {
   "codemirror_mode": {
    "name": "ipython",
    "version": 3
   },
   "file_extension": ".py",
   "mimetype": "text/x-python",
   "name": "python",
   "nbconvert_exporter": "python",
   "pygments_lexer": "ipython3",
   "version": "3.11.4"
  }
 },
 "nbformat": 4,
 "nbformat_minor": 2
}
