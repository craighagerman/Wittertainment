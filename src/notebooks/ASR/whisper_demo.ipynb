{
 "cells": [
  {
   "cell_type": "markdown",
   "metadata": {},
   "source": [
    "# OpenAI Whisper Demo\n",
    "\n",
    "taken from:\n",
    "[Whisper Github](https://github.com/openai/whisper#python-usage)"
   ]
  },
  {
   "cell_type": "code",
   "execution_count": 7,
   "metadata": {},
   "outputs": [],
   "source": [
    "# Imports\n",
    "import os\n",
    "from pathlib import Path\n",
    "import whisper"
   ]
  },
  {
   "cell_type": "code",
   "execution_count": 10,
   "metadata": {},
   "outputs": [],
   "source": [
    "# define paths\n",
    "\n",
    "cwd = os.getcwd()\n",
    "p = Path(cwd)\n",
    "notebook_dir = p.parent\n",
    "root_dir = notebook_dir.parent.parent\n",
    "data_dir = os.path.join(root_dir, \"data\")\n",
    "external_dir = os.path.join(data_dir, \"external\")\n",
    "\n",
    "mp3_file = os.path.join(external_dir, \"Laughter_Lift.mp3\")"
   ]
  },
  {
   "cell_type": "code",
   "execution_count": 11,
   "metadata": {},
   "outputs": [],
   "source": [
    "model = whisper.load_model(\"base\")"
   ]
  },
  {
   "cell_type": "code",
   "execution_count": 12,
   "metadata": {},
   "outputs": [
    {
     "name": "stdout",
     "output_type": "stream",
     "text": [
      " More with Emily Watson intake two adds in a minute, but first it's time once again very very good news everybody We step into our love to lift as are Shazam here we go Hey mark singers you love the noble gases joke so much last week I was gonna tell you another one, but all the good ones are gone I got that I got that because argons are gas it is is no gas. I got it. Okay. Anyway. Here's another science you want for you I was out at a pub with rooms in showbiz north slendon on Saturday for a wedding reception a neutron walked in How much for a pint? He said for you no charge said the barman and I get that as well because in neutron has no charge Cyber atomic particle with no charge and then a photon walked in. I'd like a room for the night. Please. He said Certainly do you have any luggage we can take up to the room ask the receptionist no said the photon. I'm traveling light Because the photon is like a little like particle quantum of light In it was in fact it's an education today. It's not funny, but it's an education cousin Cecil's wedding to his delightful perisian fiancee no emi on On Saturday at the reception. I raised my champagne glass and said a dish of sliced bread soaked in beaten eggs And often milk or cream then pan fried Alternative names invariance include eggy bread bombay toast gypsy toast and poor nights of Windsor It was a French toast The evening did not end well I got the bar bill and had a massive rar with the bar stuff I argued with my cashier that the bill was 70 pounds 20 not 7000 pounds 7,020 pounds you didn't get the point Anyway, what do you got that as well? Yes, yes, got that what's still to come? Dungeons and Dragons. Okay, Duncan and the Titans unless you're a van god east in which case you definitely don't have a nickname that everyone else knows apart from you And your service will not be interrupted Thanks very much for watching this video. I hope you enjoyed watching it as much as we enjoyed making it while you here Check out all the other videos because they're cool too, honey Yeah, and if you want to keep up to date with everything Kermit and Mayas take them check out our social channels. I mean, why wouldn't you come in? I would I have done excellent\n"
     ]
    }
   ],
   "source": [
    "result = model.transcribe(mp3_file, fp16=False)\n"
   ]
  },
  {
   "cell_type": "code",
   "execution_count": 13,
   "metadata": {},
   "outputs": [
    {
     "name": "stdout",
     "output_type": "stream",
     "text": [
      " More with Emily Watson intake two adds in a minute, but first it's time once again very very good news everybody We step into our love to lift as are Shazam here we go Hey mark singers you love the noble gases joke so much last week I was gonna tell you another one, but all the good ones are gone I got that I got that because argons are gas it is is no gas. I got it. Okay. Anyway. Here's another science you want for you I was out at a pub with rooms in showbiz north slendon on Saturday for a wedding reception a neutron walked in How much for a pint? He said for you no charge said the barman and I get that as well because in neutron has no charge Cyber atomic particle with no charge and then a photon walked in. I'd like a room for the night. Please. He said Certainly do you have any luggage we can take up to the room ask the receptionist no said the photon. I'm traveling light Because the photon is like a little like particle quantum of light In it was in fact it's an education today. It's not funny, but it's an education cousin Cecil's wedding to his delightful perisian fiancee no emi on On Saturday at the reception. I raised my champagne glass and said a dish of sliced bread soaked in beaten eggs And often milk or cream then pan fried Alternative names invariance include eggy bread bombay toast gypsy toast and poor nights of Windsor It was a French toast The evening did not end well I got the bar bill and had a massive rar with the bar stuff I argued with my cashier that the bill was 70 pounds 20 not 7000 pounds 7,020 pounds you didn't get the point Anyway, what do you got that as well? Yes, yes, got that what's still to come? Dungeons and Dragons. Okay, Duncan and the Titans unless you're a van god east in which case you definitely don't have a nickname that everyone else knows apart from you And your service will not be interrupted Thanks very much for watching this video. I hope you enjoyed watching it as much as we enjoyed making it while you here Check out all the other videos because they're cool too, honey Yeah, and if you want to keep up to date with everything Kermit and Mayas take them check out our social channels. I mean, why wouldn't you come in? I would I have done excellent\n"
     ]
    }
   ],
   "source": [
    "print(result[\"text\"])"
   ]
  },
  {
   "cell_type": "code",
   "execution_count": null,
   "metadata": {},
   "outputs": [],
   "source": []
  }
 ],
 "metadata": {
  "kernelspec": {
   "display_name": "witter",
   "language": "python",
   "name": "python3"
  },
  "language_info": {
   "codemirror_mode": {
    "name": "ipython",
    "version": 3
   },
   "file_extension": ".py",
   "mimetype": "text/x-python",
   "name": "python",
   "nbconvert_exporter": "python",
   "pygments_lexer": "ipython3",
   "version": "3.11.4"
  },
  "orig_nbformat": 4
 },
 "nbformat": 4,
 "nbformat_minor": 2
}
