{
 "cells": [
  {
   "cell_type": "markdown",
   "metadata": {},
   "source": [
    "# OpenAI Whisper Demo\n",
    "\n",
    "modified from:\n",
    "[Whisper Github](https://github.com/openai/whisper#python-usage)\n",
    "\n",
    "Use MP3 file extracted from brief \"laughter lift\" video here: \n",
    "[Wedding Receptions, North London Pubs and French Toast - Laughter Lift](https://www.youtube.com/watch?v=1R29NlHOoGA)"
   ]
  },
  {
   "cell_type": "code",
   "execution_count": 1,
   "metadata": {},
   "outputs": [],
   "source": [
    "# Imports\n",
    "from dotenv import find_dotenv\n",
    "# NOTE: empty `.env` file was added beneath `src` directory. Ignored by gitignore rules.\n",
    "import os\n",
    "import sys\n",
    "sys.path.append(os.path.dirname(find_dotenv()))\n",
    "from notebooks.notebook_utils import DevData\n",
    "\n",
    "# ----------------------------------------\n",
    "import jiwer\n",
    "import whisper"
   ]
  },
  {
   "cell_type": "code",
   "execution_count": 2,
   "metadata": {},
   "outputs": [
    {
     "name": "stdout",
     "output_type": "stream",
     "text": [
      "mp3_file exists: True\n"
     ]
    }
   ],
   "source": [
    "# define paths\n",
    "external_dir = DevData().external_dir\n",
    "mp3_file = os.path.join(external_dir, \"Laughter_Lift.mp3\")\n",
    "print(f\"mp3_file exists: {os.path.exists(mp3_file)}\")"
   ]
  },
  {
   "cell_type": "markdown",
   "metadata": {},
   "source": [
    "Demo the `base` model"
   ]
  },
  {
   "cell_type": "code",
   "execution_count": 3,
   "metadata": {},
   "outputs": [
    {
     "name": "stdout",
     "output_type": "stream",
     "text": [
      " More with Emily Watson intake two adds in a minute, but first it's time once again very very good news everybody We step into our love to lift as are Shazam here we go Hey mark singers you love the noble gases joke so much last week I was gonna tell you another one, but all the good ones are gone I got that I got that because argons are gas it is is no gas. I got it. Okay. Anyway. Here's another science you want for you I was out at a pub with rooms in showbiz north slendon on Saturday for a wedding reception a neutron walked in How much for a pint? He said for you no charge said the barman and I get that as well because in neutron has no charge Cyber atomic particle with no charge and then a photon walked in. I'd like a room for the night. Please. He said Certainly do you have any luggage we can take up to the room ask the receptionist no said the photon. I'm traveling light Because the photon is like a little like particle quantum of light In it was in fact it's an education today. It's not funny, but it's an education cousin Cecil's wedding to his delightful perisian fiancee no emi on On Saturday at the reception. I raised my champagne glass and said a dish of sliced bread soaked in beaten eggs And often milk or cream then pan fried Alternative names invariance include eggy bread bombay toast gypsy toast and poor nights of Windsor It was a French toast The evening did not end well I got the bar bill and had a massive rar with the bar stuff I argued with my cashier that the bill was 70 pounds 20 not 7000 pounds 7,020 pounds you didn't get the point Anyway, what do you got that as well? Yes, yes, got that what's still to come? Dungeons and Dragons. Okay, Duncan and the Titans unless you're a van god east in which case you definitely don't have a nickname that everyone else knows apart from you And your service will not be interrupted Thanks very much for watching this video. I hope you enjoyed watching it as much as we enjoyed making it while you here Check out all the other videos because they're cool too, honey Yeah, and if you want to keep up to date with everything Kermit and Mayas take them check out our social channels. I mean, why wouldn't you come in? I would I have done excellent\n"
     ]
    }
   ],
   "source": [
    "bs_model = whisper.load_model(\"base\")\n",
    "base_result = bs_model.transcribe(mp3_file, fp16=False)\n",
    "print(base_result[\"text\"])"
   ]
  },
  {
   "cell_type": "markdown",
   "metadata": {},
   "source": [
    "Demo the `small` model"
   ]
  },
  {
   "cell_type": "code",
   "execution_count": 5,
   "metadata": {},
   "outputs": [
    {
     "name": "stderr",
     "output_type": "stream",
     "text": [
      "/Users/chagerman/.pyenv/versions/3.11.4/envs/witter/lib/python3.11/site-packages/whisper/__init__.py:63: UserWarning: /Users/chagerman/.cache/whisper/small.pt exists, but the SHA256 checksum does not match; re-downloading the file\n",
      "  warnings.warn(\n",
      " 14%|█████▍                                 | 64.0M/461M [02:51<17:46, 391kiB/s]\n"
     ]
    },
    {
     "ename": "RuntimeError",
     "evalue": "Model has been downloaded but the SHA256 checksum does not not match. Please retry loading the model.",
     "output_type": "error",
     "traceback": [
      "\u001b[0;31m---------------------------------------------------------------------------\u001b[0m",
      "\u001b[0;31mRuntimeError\u001b[0m                              Traceback (most recent call last)",
      "\u001b[1;32m/Users/chagerman/MyProjects/Wittertainment/src/notebooks/ASR/whisper_demo.ipynb Cell 7\u001b[0m line \u001b[0;36m1\n\u001b[0;32m----> <a href='vscode-notebook-cell:/Users/chagerman/MyProjects/Wittertainment/src/notebooks/ASR/whisper_demo.ipynb#X15sZmlsZQ%3D%3D?line=0'>1</a>\u001b[0m sm_model \u001b[39m=\u001b[39m whisper\u001b[39m.\u001b[39;49mload_model(\u001b[39m\"\u001b[39;49m\u001b[39msmall\u001b[39;49m\u001b[39m\"\u001b[39;49m)\n\u001b[1;32m      <a href='vscode-notebook-cell:/Users/chagerman/MyProjects/Wittertainment/src/notebooks/ASR/whisper_demo.ipynb#X15sZmlsZQ%3D%3D?line=1'>2</a>\u001b[0m sm_result \u001b[39m=\u001b[39m sm_model\u001b[39m.\u001b[39mtranscribe(mp3_file, fp16\u001b[39m=\u001b[39m\u001b[39mFalse\u001b[39;00m)\n\u001b[1;32m      <a href='vscode-notebook-cell:/Users/chagerman/MyProjects/Wittertainment/src/notebooks/ASR/whisper_demo.ipynb#X15sZmlsZQ%3D%3D?line=2'>3</a>\u001b[0m \u001b[39mprint\u001b[39m(sm_result[\u001b[39m\"\u001b[39m\u001b[39mtext\u001b[39m\u001b[39m\"\u001b[39m])\n",
      "File \u001b[0;32m~/.pyenv/versions/3.11.4/envs/witter/lib/python3.11/site-packages/whisper/__init__.py:131\u001b[0m, in \u001b[0;36mload_model\u001b[0;34m(name, device, download_root, in_memory)\u001b[0m\n\u001b[1;32m    128\u001b[0m     download_root \u001b[39m=\u001b[39m os\u001b[39m.\u001b[39mpath\u001b[39m.\u001b[39mjoin(os\u001b[39m.\u001b[39mgetenv(\u001b[39m\"\u001b[39m\u001b[39mXDG_CACHE_HOME\u001b[39m\u001b[39m\"\u001b[39m, default), \u001b[39m\"\u001b[39m\u001b[39mwhisper\u001b[39m\u001b[39m\"\u001b[39m)\n\u001b[1;32m    130\u001b[0m \u001b[39mif\u001b[39;00m name \u001b[39min\u001b[39;00m _MODELS:\n\u001b[0;32m--> 131\u001b[0m     checkpoint_file \u001b[39m=\u001b[39m _download(_MODELS[name], download_root, in_memory)\n\u001b[1;32m    132\u001b[0m     alignment_heads \u001b[39m=\u001b[39m _ALIGNMENT_HEADS[name]\n\u001b[1;32m    133\u001b[0m \u001b[39melif\u001b[39;00m os\u001b[39m.\u001b[39mpath\u001b[39m.\u001b[39misfile(name):\n",
      "File \u001b[0;32m~/.pyenv/versions/3.11.4/envs/witter/lib/python3.11/site-packages/whisper/__init__.py:85\u001b[0m, in \u001b[0;36m_download\u001b[0;34m(url, root, in_memory)\u001b[0m\n\u001b[1;32m     83\u001b[0m model_bytes \u001b[39m=\u001b[39m \u001b[39mopen\u001b[39m(download_target, \u001b[39m\"\u001b[39m\u001b[39mrb\u001b[39m\u001b[39m\"\u001b[39m)\u001b[39m.\u001b[39mread()\n\u001b[1;32m     84\u001b[0m \u001b[39mif\u001b[39;00m hashlib\u001b[39m.\u001b[39msha256(model_bytes)\u001b[39m.\u001b[39mhexdigest() \u001b[39m!=\u001b[39m expected_sha256:\n\u001b[0;32m---> 85\u001b[0m     \u001b[39mraise\u001b[39;00m \u001b[39mRuntimeError\u001b[39;00m(\n\u001b[1;32m     86\u001b[0m         \u001b[39m\"\u001b[39m\u001b[39mModel has been downloaded but the SHA256 checksum does not not match. Please retry loading the model.\u001b[39m\u001b[39m\"\u001b[39m\n\u001b[1;32m     87\u001b[0m     )\n\u001b[1;32m     89\u001b[0m \u001b[39mreturn\u001b[39;00m model_bytes \u001b[39mif\u001b[39;00m in_memory \u001b[39melse\u001b[39;00m download_target\n",
      "\u001b[0;31mRuntimeError\u001b[0m: Model has been downloaded but the SHA256 checksum does not not match. Please retry loading the model."
     ]
    }
   ],
   "source": [
    "sm_model = whisper.load_model(\"small\")\n",
    "sm_result = sm_model.transcribe(mp3_file, fp16=False)\n",
    "print(sm_result[\"text\"])\n"
   ]
  },
  {
   "cell_type": "markdown",
   "metadata": {},
   "source": [
    "Demo the `medium` model"
   ]
  },
  {
   "cell_type": "code",
   "execution_count": null,
   "metadata": {},
   "outputs": [
    {
     "name": "stdout",
     "output_type": "stream",
     "text": [
      " More with Emily Watson in take two, ads in a minute. But first, it's time once again, very, very good news everybody, we step into our laughter lift. Huzzah. Shazam. Here we go. Hey Mark, seeing as you loved the noble gases joke so much last week, I was going to tell you another one, but all the good ones are gone. I got that, I got that, because argon's a gas. It is, it's a noble gas. I got it, okay. Anyway, here's another science you want for you, are you ready? I was out at a pub with rooms in Chobhub's North London on Saturday for a wedding reception. A neutron walked in. How much for a pint, he said. For you, no charge, said the barman. And I get that as well, because a neutron has no charge. Subatomic particle with no charge. And then a photon walked in. I'd like a room for the night, please, he said. Certainly, do you have any luggage we can take up to the room? Asked the receptionist. No, said the photon. I'm traveling light. Because a photon is a... It is a light particle. Quantum of light. It was in fact... It's an education today. It's not funny, but it's an education. It was in fact cousin Cecil's wedding to his delightful Parisian fiancee Noémie on Saturday. At the reception, I raised my champagne glass and said, A dish of sliced bread soaked in beaten eggs and often milk or cream, then pan fried. Alternative names and variants include eggy bread, Bombay toast, gypsy toast, and poor nights of Windsor. It was a French toast. The evening did not end well. I got the bar bill and had a massive row with the bar staff. I argued with my cashier that the bill was £70.20, not £7,000... £7,020. He didn't get the point. Anyway, what have we got? You've got that as well. Yes. Yes, got that. What's still to come? Dungeons and Dragons. Okay, Vanguard Division. Unless you're a Vanguard Easter, in which case you definitely don't have a nickname that everyone else knows apart from you and your service will not be interrupted. While you're here, check out all the other videos because they're cool too, aren't they? Yeah, and if you want to keep up to date with everything Kermit and Mayo's take, then check out our social channels. I mean, why wouldn't you? I mean, I would. I have done. Excellent.\n"
     ]
    }
   ],
   "source": [
    "md_model = whisper.load_model(\"medium\")\n",
    "md_result = md_model.transcribe(mp3_file, fp16=False)\n",
    "print(md_result[\"text\"])"
   ]
  },
  {
   "cell_type": "markdown",
   "metadata": {},
   "source": [
    "## Analysis of results\n",
    "\n",
    "- Use `jiwer` package to compute WER"
   ]
  },
  {
   "cell_type": "code",
   "execution_count": null,
   "metadata": {},
   "outputs": [
    {
     "name": "stdout",
     "output_type": "stream",
     "text": [
      "base WER:\t0.4028103044496487\n",
      "medium WER:\t0.05620608899297424\n"
     ]
    }
   ],
   "source": [
    "correct = \"More with Emily Watson in take two, ads in a minute. But first, it's time once again, very, very good news everybody, we step into our laughter lift. Huzzah. Shazam. Here we go. Hey Mark, seeing as you loved the noble gases joke so much last week, I was going to tell you another one, but all the good ones are gone. I got that, I got that, because argon's a gas. It is, it's a noble gas. I got it, okay. Anyway, here's another sciencey one for you. are you ready? I was out at a pub with rooms in showbiz North London on Saturday for a wedding reception. A neutron walked in. How much for a pint, he said. For you, no charge, said the barman. And I get that as well, because a neutron has no charge. Subatomic particle with no charge. And then a photon walked in. I'd like a room for the night, please, he said. Certainly, do you have any luggage we can take up to the room? Asked the receptionist. No, said the photon. I'm traveling light. Because a photon is a... It is a light particle. Quantum of light. It was in fact... It's an education today. It's not funny, but it's an education. It was in fact cousin Cecil's wedding to his delightful Parisian fiancee Noémie on Saturday. At the reception, I raised my champagne glass and said, A dish of sliced bread soaked in beaten eggs and often milk or cream, then pan fried. Alternative names and variants include eggy bread, Bombay toast, gypsy toast, and poor nights of Windsor. It was a French toast. The evening did not end well. I got the bar bill and had a massive row with the bar staff. I argued with my cashier that the bill was £70.20, not £7,000... £7,020. He didn't get the point. Anyway, what have we got? You've got that as well. Yes. Yes, got that. What's still to come? Dungeons and Dragons. Okay, back after this. Unless you're a vanguardista, in which case you definitely don't have a nickname that everyone else knows apart from you and your service will not be interrupted.Thanks very much for watching this video I hope you enjoyed watching it. While you're here, check out all the other videos because they're cool too, aren't they? Yeah, and if you want to keep up to date with everything Kermode and Mayo's take, then check out our social channels. I mean, why wouldn't you? I mean, I would. I have done. Excellent.\"\n",
    "\n",
    "base_wer = wer(correct, base_result[\"text\"])\n",
    "sm_wer = wer(correct, sm_result[\"text\"])\n",
    "md_wer = wer(correct, md_result[\"text\"])\n",
    "print(f\"base WER:\\t{base_wer}\")\n",
    "print(f\"small WER:\\t{sm_wer}\")\n",
    "print(f\"medium WER:\\t{md_wer}\")\n"
   ]
  },
  {
   "cell_type": "markdown",
   "metadata": {},
   "source": [
    "## Findings\n",
    "\n",
    "`base` model is not satisfactory. The punctuation and sentences are problematic and a number of words are wrong.\n",
    "`medium` model is much much better. It seems to have correct sentences/punctuation. Most of the problems in `base` are resolved. It even got the French name Noémie correct. One thing `medium` got wrong that `base` got right was \"showbiz north London\" as opposed to \"Chobhub north London\". Another thing `medium` got wrong was \"Vanguard Easter\" instead of \"vanguardista\". But this isn't a common term so is forgivable. I think both of these examples (and other Wittertainment jargon) could be improved with model fine-tuning.\n",
    "\n",
    "### Running time\n",
    "| model  | time   |\n",
    "| -----  | ------ |\n",
    "| base   | 0m 32s |\n",
    "| medium | 4m 56s |\n",
    "\n",
    "### Guessing at full processing time\n",
    "Note: the youtube video the audio was extracted from is only 2:08 minutes. The full Take 1 podcast is generally a bit over an hour. If the Whisper processing time scales linearly this would mean approximately 11 hours for ONE podcast! n.b. the running times here are local using CPU. This suggests the necessity of using GPU processing.\n",
    "\n",
    "### Word Error Rate (WER)\n",
    "The WER metric demonstrates a marked improvement using the `medium` vs `base` model. \n"
   ]
  },
  {
   "cell_type": "markdown",
   "metadata": {},
   "source": [
    "------"
   ]
  },
  {
   "cell_type": "markdown",
   "metadata": {},
   "source": [
    "# Diarization using WhisperX"
   ]
  },
  {
   "cell_type": "code",
   "execution_count": 3,
   "metadata": {},
   "outputs": [],
   "source": [
    "from whisperx import load_align_model, align\n",
    "from whisperx.diarize import DiarizationPipeline, assign_word_speakers"
   ]
  },
  {
   "cell_type": "code",
   "execution_count": 6,
   "metadata": {},
   "outputs": [],
   "source": []
  },
  {
   "cell_type": "code",
   "execution_count": 7,
   "metadata": {},
   "outputs": [
    {
     "name": "stdout",
     "output_type": "stream",
     "text": [
      "\n",
      "Could not download 'pyannote/speaker-diarization-3.0' pipeline.\n",
      "It might be because the pipeline is private or gated so make\n",
      "sure to authenticate. Visit https://hf.co/settings/tokens to\n",
      "create your access token and retry with:\n",
      "\n",
      "   >>> Pipeline.from_pretrained('pyannote/speaker-diarization-3.0',\n",
      "   ...                          use_auth_token=YOUR_AUTH_TOKEN)\n",
      "\n",
      "If this still does not work, it might be because the pipeline is gated:\n",
      "visit https://hf.co/pyannote/speaker-diarization-3.0 to accept the user conditions.\n"
     ]
    },
    {
     "ename": "AttributeError",
     "evalue": "'NoneType' object has no attribute 'to'",
     "output_type": "error",
     "traceback": [
      "\u001b[0;31m---------------------------------------------------------------------------\u001b[0m",
      "\u001b[0;31mAttributeError\u001b[0m                            Traceback (most recent call last)",
      "\u001b[1;32m/Users/chagerman/MyProjects/Wittertainment/src/notebooks/ASR/whisper_demo.ipynb Cell 17\u001b[0m line \u001b[0;36m2\n\u001b[1;32m      <a href='vscode-notebook-cell:/Users/chagerman/MyProjects/Wittertainment/src/notebooks/ASR/whisper_demo.ipynb#X23sZmlsZQ%3D%3D?line=0'>1</a>\u001b[0m HF_TOKEN \u001b[39m=\u001b[39m os\u001b[39m.\u001b[39menviron[\u001b[39m\"\u001b[39m\u001b[39mHUGGINGFACE_TOKEN\u001b[39m\u001b[39m\"\u001b[39m]\n\u001b[0;32m----> <a href='vscode-notebook-cell:/Users/chagerman/MyProjects/Wittertainment/src/notebooks/ASR/whisper_demo.ipynb#X23sZmlsZQ%3D%3D?line=1'>2</a>\u001b[0m diarization_pipeline \u001b[39m=\u001b[39m DiarizationPipeline(use_auth_token\u001b[39m=\u001b[39;49mHF_TOKEN)\n\u001b[1;32m      <a href='vscode-notebook-cell:/Users/chagerman/MyProjects/Wittertainment/src/notebooks/ASR/whisper_demo.ipynb#X23sZmlsZQ%3D%3D?line=2'>3</a>\u001b[0m diarization_result \u001b[39m=\u001b[39m diarization_pipeline(mp3_file)\n\u001b[1;32m      <a href='vscode-notebook-cell:/Users/chagerman/MyProjects/Wittertainment/src/notebooks/ASR/whisper_demo.ipynb#X23sZmlsZQ%3D%3D?line=3'>4</a>\u001b[0m diarization_result\n",
      "File \u001b[0;32m~/.pyenv/versions/3.11.4/envs/witter.311/lib/python3.11/site-packages/whisperx/diarize.py:19\u001b[0m, in \u001b[0;36mDiarizationPipeline.__init__\u001b[0;34m(self, model_name, use_auth_token, device)\u001b[0m\n\u001b[1;32m     17\u001b[0m \u001b[39mif\u001b[39;00m \u001b[39misinstance\u001b[39m(device, \u001b[39mstr\u001b[39m):\n\u001b[1;32m     18\u001b[0m     device \u001b[39m=\u001b[39m torch\u001b[39m.\u001b[39mdevice(device)\n\u001b[0;32m---> 19\u001b[0m \u001b[39mself\u001b[39m\u001b[39m.\u001b[39mmodel \u001b[39m=\u001b[39m Pipeline\u001b[39m.\u001b[39;49mfrom_pretrained(model_name, use_auth_token\u001b[39m=\u001b[39;49muse_auth_token)\u001b[39m.\u001b[39;49mto(device)\n",
      "\u001b[0;31mAttributeError\u001b[0m: 'NoneType' object has no attribute 'to'"
     ]
    }
   ],
   "source": [
    "\n",
    "HF_TOKEN = os.environ[\"HUGGINGFACE_TOKEN\"]\n",
    "diarization_pipeline = DiarizationPipeline(use_auth_token=HF_TOKEN)\n",
    "diarization_result = diarization_pipeline(mp3_file)\n",
    "diarization_result"
   ]
  },
  {
   "cell_type": "code",
   "execution_count": null,
   "metadata": {},
   "outputs": [],
   "source": []
  }
 ],
 "metadata": {
  "kernelspec": {
   "display_name": "witter",
   "language": "python",
   "name": "python3"
  },
  "language_info": {
   "codemirror_mode": {
    "name": "ipython",
    "version": 3
   },
   "file_extension": ".py",
   "mimetype": "text/x-python",
   "name": "python",
   "nbconvert_exporter": "python",
   "pygments_lexer": "ipython3",
   "version": "3.11.4"
  },
  "orig_nbformat": 4
 },
 "nbformat": 4,
 "nbformat_minor": 2
}
