{
 "cells": [
  {
   "cell_type": "markdown",
   "metadata": {},
   "source": [
    "# RSS Collector\n",
    "\n",
    "\n"
   ]
  },
  {
   "cell_type": "code",
   "execution_count": 1,
   "metadata": {},
   "outputs": [],
   "source": [
    "from dotenv import find_dotenv\n",
    "# NOTE: empty `.env` file was added beneath `src` directory. Ignored by gitignore rules.\n",
    "\n",
    "import os\n",
    "import sys\n",
    "sys.path.append(os.path.dirname(find_dotenv()))\n",
    "\n",
    "from notebooks.notebook_utils import DevData\n",
    "\n",
    "from datetime import datetime\n",
    "import requests\n",
    "import feedparser"
   ]
  },
  {
   "cell_type": "code",
   "execution_count": 2,
   "metadata": {},
   "outputs": [],
   "source": [
    "# parse RSS feed and download on podcast MP3 file\n",
    "url = \"https://feeds.megaphone.fm/kermodeandmayo\"\n",
    "f = feedparser.parse(url)\n",
    "f.items()\n",
    "entries = f.entries\n",
    "latest = entries[1]"
   ]
  },
  {
   "cell_type": "code",
   "execution_count": 16,
   "metadata": {},
   "outputs": [],
   "source": [
    "# define and file name and path for saving the feed file\n",
    "feed_title = f.feed.title.replace(\"’\", \"\").replace(\"&\", \"and\").replace(\" \", \"_\")\n",
    "dt = datetime.strptime(latest.published, \"%a, %d %b %Y %H:%M:%S %z\")\n",
    "timestamp = dt.strftime(\"%Y-%m-%d\")\n",
    "file_name = f\"{feed_title}.{timestamp}.mp3\""
   ]
  },
  {
   "cell_type": "code",
   "execution_count": 14,
   "metadata": {},
   "outputs": [],
   "source": [
    "mp3_url = latest.links[0].href"
   ]
  },
  {
   "cell_type": "code",
   "execution_count": 17,
   "metadata": {},
   "outputs": [],
   "source": [
    "# save mp3 file to local directory\n",
    "external_dir = DevData().external_dir\n",
    "outpath = os.path.join(external_dir, file_name)\n",
    "\n",
    "with open(outpath, 'wb') as fo:\n",
    "  content = requests.get(mp3_url, stream=True).content\n",
    "  # print(f\"Writing MP3 file to {outpath}\")\n",
    "  fo.write(content)"
   ]
  }
 ],
 "metadata": {
  "kernelspec": {
   "display_name": "witter",
   "language": "python",
   "name": "python3"
  },
  "language_info": {
   "codemirror_mode": {
    "name": "ipython",
    "version": 3
   },
   "file_extension": ".py",
   "mimetype": "text/x-python",
   "name": "python",
   "nbconvert_exporter": "python",
   "pygments_lexer": "ipython3",
   "version": "3.11.4"
  },
  "orig_nbformat": 4
 },
 "nbformat": 4,
 "nbformat_minor": 2
}
