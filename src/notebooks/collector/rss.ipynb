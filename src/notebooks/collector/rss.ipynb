{
 "cells": [
  {
   "cell_type": "markdown",
   "metadata": {},
   "source": [
    "# RSS Collector\n",
    "\n",
    "\n"
   ]
  },
  {
   "cell_type": "code",
   "execution_count": 33,
   "metadata": {},
   "outputs": [],
   "source": [
    "from datetime import datetime\n",
    "import requests\n",
    "import feedparser\n",
    "import os\n",
    "from pathlib import Path\n"
   ]
  },
  {
   "cell_type": "code",
   "execution_count": 2,
   "metadata": {},
   "outputs": [],
   "source": [
    "\n",
    "\n",
    "url = \"https://feeds.megaphone.fm/kermodeandmayo\"\n",
    "f = feedparser.parse(url)"
   ]
  },
  {
   "cell_type": "code",
   "execution_count": 19,
   "metadata": {},
   "outputs": [],
   "source": [
    "\n",
    "f.items()\n",
    "entries = f.entries\n",
    "latest = entries[0]"
   ]
  },
  {
   "cell_type": "code",
   "execution_count": 52,
   "metadata": {},
   "outputs": [],
   "source": [
    "\n",
    "feed_title = f.feed.title.replace(\"’\", \"\").replace(\" \", \"_\")\n",
    "dt = datetime.strptime(latest.published, \"%a, %d %b %Y %H:%M:%S %z\")\n",
    "timestamp = dt.strftime(\"%Y-%m-%d\")\n",
    "file_name = f\"{feed_title}_{timestamp}.mp3\"\n"
   ]
  },
  {
   "cell_type": "code",
   "execution_count": 53,
   "metadata": {},
   "outputs": [],
   "source": [
    "href = latest.links[0].href"
   ]
  },
  {
   "cell_type": "code",
   "execution_count": 54,
   "metadata": {},
   "outputs": [],
   "source": [
    "cwd = os.getcwd()\n",
    "p = Path(cwd)\n",
    "notebook_dir = p.parent\n",
    "root_dir = notebook_dir.parent.parent\n",
    "data_dir = os.path.join(root_dir, \"data\")\n",
    "external_dir = os.path.join(data_dir, \"external\")\n"
   ]
  },
  {
   "cell_type": "code",
   "execution_count": 55,
   "metadata": {},
   "outputs": [],
   "source": [
    "outpath = os.path.join(external_dir, file_name)\n",
    "\n",
    "with open(outpath, 'wb') as fo:\n",
    "  content = requests.get(href, stream=True).content\n",
    "  fo.write(content)"
   ]
  },
  {
   "cell_type": "code",
   "execution_count": null,
   "metadata": {},
   "outputs": [],
   "source": []
  }
 ],
 "metadata": {
  "kernelspec": {
   "display_name": "witter",
   "language": "python",
   "name": "python3"
  },
  "language_info": {
   "codemirror_mode": {
    "name": "ipython",
    "version": 3
   },
   "file_extension": ".py",
   "mimetype": "text/x-python",
   "name": "python",
   "nbconvert_exporter": "python",
   "pygments_lexer": "ipython3",
   "version": "3.11.4"
  },
  "orig_nbformat": 4
 },
 "nbformat": 4,
 "nbformat_minor": 2
}
