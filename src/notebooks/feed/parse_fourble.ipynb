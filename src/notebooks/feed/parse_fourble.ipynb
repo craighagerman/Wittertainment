{
 "cells": [
  {
   "cell_type": "markdown",
   "metadata": {},
   "source": [
    "# Parse Fouble list of Archive.org links for Kermode and Mayo podcast\n",
    "\n",
    "Fouble has a list of podcasts from 2005 - 2022 here: \n",
    "- [Kermode and Mayo Film Review archive (2005-2022)](https://fourble.co.uk/podcast/kermodeandma)\n",
    "\n",
    "\n",
    "These use archive.org links rather than an RSS feed.\n",
    "Parse the html web page to extract the `text` and `href` attributes from the ordered list of podcasts\n"
   ]
  },
  {
   "cell_type": "code",
   "execution_count": 2,
   "metadata": {},
   "outputs": [],
   "source": [
    "# Imports\n",
    "from dotenv import find_dotenv\n",
    "from dotenv import dotenv_values\n",
    "config = dotenv_values(find_dotenv())\n",
    "# NOTE: empty `.env` file was added beneath `src` directory. Ignored by gitignore rules.\n",
    "import os\n",
    "import sys\n",
    "sys.path.append(os.path.dirname(find_dotenv()))\n",
    "from notebooks.notebook_utils import DevData\n",
    "\n",
    "# ----------------------------------------\n",
    "import json\n",
    "import re\n",
    "from bs4 import BeautifulSoup"
   ]
  },
  {
   "cell_type": "code",
   "execution_count": 3,
   "metadata": {},
   "outputs": [],
   "source": [
    "\n",
    "fouble_dir = os.path.join(DevData().data_dir, \"rss_feeds\", \"fourble_archive\")\n",
    "fouble_path = os.path.join(fouble_dir, \"view-source_https___fourble.co.uk_podcast_kermodeandma.html\")\n",
    "out_data_path = os.path.join(fouble_dir, \"fouble_feed.jsonl\")\n",
    "content = open(fouble_path, encoding = \"ISO-8859-1\").read()"
   ]
  },
  {
   "cell_type": "code",
   "execution_count": 4,
   "metadata": {},
   "outputs": [
    {
     "ename": "AttributeError",
     "evalue": "'NoneType' object has no attribute 'descendants'",
     "output_type": "error",
     "traceback": [
      "\u001b[0;31m---------------------------------------------------------------------------\u001b[0m",
      "\u001b[0;31mAttributeError\u001b[0m                            Traceback (most recent call last)",
      "\u001b[1;32m/Users/chagerman/MyProjects/Wittertainment/src/notebooks/feed/parse_fourble.ipynb Cell 4\u001b[0m line \u001b[0;36m8\n\u001b[1;32m      <a href='vscode-notebook-cell:/Users/chagerman/MyProjects/Wittertainment/src/notebooks/feed/parse_fourble.ipynb#W5sZmlsZQ%3D%3D?line=4'>5</a>\u001b[0m parent \u001b[39m=\u001b[39m data\u001b[39m.\u001b[39mfind(\u001b[39m\"\u001b[39m\u001b[39mbody\u001b[39m\u001b[39m\"\u001b[39m)\u001b[39m.\u001b[39mfind(\u001b[39m\"\u001b[39m\u001b[39mul\u001b[39m\u001b[39m\"\u001b[39m) \n\u001b[1;32m      <a href='vscode-notebook-cell:/Users/chagerman/MyProjects/Wittertainment/src/notebooks/feed/parse_fourble.ipynb#W5sZmlsZQ%3D%3D?line=6'>7</a>\u001b[0m \u001b[39m# finding all <li> tags \u001b[39;00m\n\u001b[0;32m----> <a href='vscode-notebook-cell:/Users/chagerman/MyProjects/Wittertainment/src/notebooks/feed/parse_fourble.ipynb#W5sZmlsZQ%3D%3D?line=7'>8</a>\u001b[0m text \u001b[39m=\u001b[39m \u001b[39mlist\u001b[39m(parent\u001b[39m.\u001b[39;49mdescendants) \n\u001b[1;32m     <a href='vscode-notebook-cell:/Users/chagerman/MyProjects/Wittertainment/src/notebooks/feed/parse_fourble.ipynb#W5sZmlsZQ%3D%3D?line=9'>10</a>\u001b[0m \u001b[39m# printing the content in <li> tag \u001b[39;00m\n\u001b[1;32m     <a href='vscode-notebook-cell:/Users/chagerman/MyProjects/Wittertainment/src/notebooks/feed/parse_fourble.ipynb#W5sZmlsZQ%3D%3D?line=10'>11</a>\u001b[0m \u001b[39mprint\u001b[39m(text) \n",
      "\u001b[0;31mAttributeError\u001b[0m: 'NoneType' object has no attribute 'descendants'"
     ]
    }
   ],
   "source": [
    "# creating soup object \n",
    "data = BeautifulSoup(content, 'html.parser') \n",
    "  \n",
    "# finding parent <ul> tag \n",
    "parent = data.find(\"body\").find(\"ol\") \n",
    "\n",
    "# finding all <li> tags \n",
    "text = list(parent.descendants) \n",
    "  \n",
    "# printing the content in <li> tag \n",
    "print(text) \n",
    "for i in range(2, len(text), 2): \n",
    "    print(text[i], end=\" \") "
   ]
  },
  {
   "cell_type": "code",
   "execution_count": 47,
   "metadata": {},
   "outputs": [],
   "source": [
    "\n",
    "# creating soup object \n",
    "data = BeautifulSoup(content, 'html') \n",
    "  \n",
    "# finding all li tags in ul and printing the text within it \n",
    "data1 = data.find('ol') \n",
    "lis = data1.find_all(\"li\")\n",
    "\n",
    "def dictify(li):\n",
    "  return {\"href\": li.a[\"href\"], \"text\": li.text.strip()}\n",
    "\n",
    "\n"
   ]
  },
  {
   "cell_type": "code",
   "execution_count": null,
   "metadata": {},
   "outputs": [],
   "source": [
    "\n",
    "# write data to jsonl file\n",
    "outdata = [dictify(li) for li in lis]\n",
    "\n",
    "\n",
    "with open(out_data_path, \"w\") as fo:\n",
    "  fo.write(\"\\n\".join([json.dumps(x) for x in outdata] ))"
   ]
  }
 ],
 "metadata": {
  "kernelspec": {
   "display_name": "witter.311",
   "language": "python",
   "name": "python3"
  },
  "language_info": {
   "codemirror_mode": {
    "name": "ipython",
    "version": 3
   },
   "file_extension": ".py",
   "mimetype": "text/x-python",
   "name": "python",
   "nbconvert_exporter": "python",
   "pygments_lexer": "ipython3",
   "version": "3.11.4"
  }
 },
 "nbformat": 4,
 "nbformat_minor": 2
}
