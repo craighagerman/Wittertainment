{
 "cells": [
  {
   "cell_type": "markdown",
   "metadata": {},
   "source": [
    "# Parse Fouble list of Archive.org links for Kermode and Mayo podcast\n",
    "\n",
    "Fouble has a list of podcasts from 2005 - 2022 here: \n",
    "- [Kermode and Mayo Film Review archive (2005-2022)](https://fourble.co.uk/podcast/kermodeandma)\n",
    "\n",
    "\n",
    "These use archive.org links rather than an RSS feed.\n",
    "Parse the html web page to extract the `text` and `href` attributes from the ordered list of podcasts\n"
   ]
  },
  {
   "cell_type": "code",
   "execution_count": 5,
   "metadata": {},
   "outputs": [],
   "source": [
    "# Imports\n",
    "from dotenv import find_dotenv\n",
    "from dotenv import dotenv_values\n",
    "config = dotenv_values(find_dotenv())\n",
    "# NOTE: empty `.env` file was added beneath `src` directory. Ignored by gitignore rules.\n",
    "import os\n",
    "import sys\n",
    "sys.path.append(os.path.dirname(find_dotenv()))\n",
    "from notebooks.notebook_utils import DevData\n",
    "\n",
    "# ----------------------------------------\n",
    "import json\n",
    "import re\n",
    "from bs4 import BeautifulSoup\n",
    "from urllib.parse import urlparse"
   ]
  },
  {
   "cell_type": "code",
   "execution_count": 6,
   "metadata": {},
   "outputs": [],
   "source": [
    "\n",
    "fouble_dir = os.path.join(DevData().data_dir, \"rss_feeds\", \"fourble_archive\")\n",
    "fouble_path = os.path.join(fouble_dir, \"view-source_https___fourble.co.uk_podcast_kermodeandma.html\")\n",
    "out_data_path = os.path.join(fouble_dir, \"fouble_feed.jsonl\")\n",
    "content = open(fouble_path, encoding = \"ISO-8859-1\").read()"
   ]
  },
  {
   "cell_type": "code",
   "execution_count": 9,
   "metadata": {},
   "outputs": [
    {
     "data": {
      "text/plain": [
       "{'pub_date': '2005/03/11',\n",
       " 'url': 'http://archive.org/download/kermodeandmayocollection/050311%20-%20Hostage;%209%20Songs;%20The%20Chorus;%20Life%20Is%20A%20Miracle.mp3',\n",
       " 'text': '05/03/25: Melinda & Melinda; Constantine; Robots; Valiant; Miss Congeniality 2; The Passion Recut'}"
      ]
     },
     "execution_count": 9,
     "metadata": {},
     "output_type": "execute_result"
    }
   ],
   "source": [
    "data = BeautifulSoup(content, 'html.parser') \n",
    "# finding all li tags in ul and printing the text within it \n",
    "ordered_list = data.find(\"ol\") \n",
    "items = list(ordered_list.find_all(\"li\"))\n",
    "domains = {\"/download/kermodeandmayocollection\",  \"/download/kermodeandmayocollection2\"}\n",
    "\n",
    "def get_date(href):\n",
    "  p = urlparse(href).path\n",
    "  parts = os.path.split(p)\n",
    "  if parts[0] in domains:\n",
    "    s = parts[1][:6]\n",
    "    Y = \"20\" + s[:2]\n",
    "    M = s[2:4]\n",
    "    D = s[4:]\n",
    "    return f\"{Y}/{M}/{D}\"\n",
    "\n",
    "\n",
    "def dictify(item):  \n",
    "  href = item.a[\"href\"]\n",
    "  date = get_date(href)\n",
    "  text = items[1].a.text\n",
    "  return {\"pub_date\": date, \"url\": href, \"text\": text}\n",
    "  \n",
    "outdata = [dictify(item)  for item in items]\n"
   ]
  },
  {
   "cell_type": "code",
   "execution_count": 10,
   "metadata": {},
   "outputs": [],
   "source": [
    "# write json-lines data to file\n",
    "with open(out_data_path, \"w\") as fo:\n",
    "  fo.write(\"\\n\".join([json.dumps(x) for x in outdata] ))"
   ]
  },
  {
   "cell_type": "code",
   "execution_count": null,
   "metadata": {},
   "outputs": [],
   "source": []
  }
 ],
 "metadata": {
  "kernelspec": {
   "display_name": "witter.311",
   "language": "python",
   "name": "python3"
  },
  "language_info": {
   "codemirror_mode": {
    "name": "ipython",
    "version": 3
   },
   "file_extension": ".py",
   "mimetype": "text/x-python",
   "name": "python",
   "nbconvert_exporter": "python",
   "pygments_lexer": "ipython3",
   "version": "3.11.4"
  }
 },
 "nbformat": 4,
 "nbformat_minor": 2
}
